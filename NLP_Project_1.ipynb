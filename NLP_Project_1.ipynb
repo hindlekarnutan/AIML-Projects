{
  "nbformat": 4,
  "nbformat_minor": 0,
  "metadata": {
    "colab": {
      "name": "NLP assignment.ipynb",
      "provenance": [],
      "collapsed_sections": []
    },
    "kernelspec": {
      "name": "python3",
      "display_name": "Python 3"
    },
    "language_info": {
      "name": "python"
    }
  },
  "cells": [
    {
      "cell_type": "code",
      "metadata": {
        "colab": {
          "base_uri": "https://localhost:8080/"
        },
        "id": "pEzzLWK9G22G",
        "outputId": "20012561-13d7-468f-f746-1f9a20686479"
      },
      "source": [
        "from google.colab import drive\n",
        "drive.mount('/content/drive')"
      ],
      "execution_count": 1,
      "outputs": [
        {
          "output_type": "stream",
          "text": [
            "Drive already mounted at /content/drive; to attempt to forcibly remount, call drive.mount(\"/content/drive\", force_remount=True).\n"
          ],
          "name": "stdout"
        }
      ]
    },
    {
      "cell_type": "code",
      "metadata": {
        "id": "E2oS-QikLjaa"
      },
      "source": [
        "#pip install tflearn"
      ],
      "execution_count": 2,
      "outputs": []
    },
    {
      "cell_type": "code",
      "metadata": {
        "id": "UgGkXJQtG4hA",
        "colab": {
          "base_uri": "https://localhost:8080/"
        },
        "outputId": "c896b707-0a54-4812-a5e3-70a11bb972dc"
      },
      "source": [
        "import pandas as pd\n",
        "import seaborn as sns\n",
        "from sklearn.model_selection import train_test_split\n",
        "from sklearn.feature_extraction.text import TfidfVectorizer\n",
        "import nltk\n",
        "import numpy as np\n",
        "import random\n",
        "import string\n",
        "from nltk.stem.lancaster import LancasterStemmer\n",
        "import tflearn\n",
        "import tensorflow\n",
        "import warnings\n",
        "warnings.filterwarnings(\"ignore\", category=FutureWarning)"
      ],
      "execution_count": 3,
      "outputs": [
        {
          "output_type": "stream",
          "text": [
            "WARNING:tensorflow:From /usr/local/lib/python3.7/dist-packages/tensorflow/python/compat/v2_compat.py:96: disable_resource_variables (from tensorflow.python.ops.variable_scope) is deprecated and will be removed in a future version.\n",
            "Instructions for updating:\n",
            "non-resource variables are not supported in the long term\n"
          ],
          "name": "stdout"
        }
      ]
    },
    {
      "cell_type": "markdown",
      "metadata": {
        "id": "t1x-tNkLhgDO"
      },
      "source": [
        "# **PART 1**"
      ]
    },
    {
      "cell_type": "markdown",
      "metadata": {
        "id": "LZeB7gwHxkiU"
      },
      "source": [
        "### **build a NLP classifier which can use input text parameters to determine the label/s of of the blog.**"
      ]
    },
    {
      "cell_type": "markdown",
      "metadata": {
        "id": "pSEvoIhNxs0h"
      },
      "source": [
        "### **1. Import and analyse the data set.**"
      ]
    },
    {
      "cell_type": "code",
      "metadata": {
        "id": "91GPi10OHR2t"
      },
      "source": [
        "Path = '/content/drive/MyDrive/Dataset/NLP assg/Dataset - blogtext.csv'\n",
        "blogs = pd.read_csv(Path)"
      ],
      "execution_count": 4,
      "outputs": []
    },
    {
      "cell_type": "code",
      "metadata": {
        "colab": {
          "base_uri": "https://localhost:8080/",
          "height": 204
        },
        "id": "bDtId8-eHmBC",
        "outputId": "9863f689-26c5-4e4c-86c1-6857d36cd10b"
      },
      "source": [
        "blogs.head(5)"
      ],
      "execution_count": 5,
      "outputs": [
        {
          "output_type": "execute_result",
          "data": {
            "text/html": [
              "<div>\n",
              "<style scoped>\n",
              "    .dataframe tbody tr th:only-of-type {\n",
              "        vertical-align: middle;\n",
              "    }\n",
              "\n",
              "    .dataframe tbody tr th {\n",
              "        vertical-align: top;\n",
              "    }\n",
              "\n",
              "    .dataframe thead th {\n",
              "        text-align: right;\n",
              "    }\n",
              "</style>\n",
              "<table border=\"1\" class=\"dataframe\">\n",
              "  <thead>\n",
              "    <tr style=\"text-align: right;\">\n",
              "      <th></th>\n",
              "      <th>id</th>\n",
              "      <th>gender</th>\n",
              "      <th>age</th>\n",
              "      <th>topic</th>\n",
              "      <th>sign</th>\n",
              "      <th>date</th>\n",
              "      <th>text</th>\n",
              "    </tr>\n",
              "  </thead>\n",
              "  <tbody>\n",
              "    <tr>\n",
              "      <th>0</th>\n",
              "      <td>2059027</td>\n",
              "      <td>male</td>\n",
              "      <td>15</td>\n",
              "      <td>Student</td>\n",
              "      <td>Leo</td>\n",
              "      <td>14,May,2004</td>\n",
              "      <td>Info has been found (+/- 100 pages,...</td>\n",
              "    </tr>\n",
              "    <tr>\n",
              "      <th>1</th>\n",
              "      <td>2059027</td>\n",
              "      <td>male</td>\n",
              "      <td>15</td>\n",
              "      <td>Student</td>\n",
              "      <td>Leo</td>\n",
              "      <td>13,May,2004</td>\n",
              "      <td>These are the team members:   Drewe...</td>\n",
              "    </tr>\n",
              "    <tr>\n",
              "      <th>2</th>\n",
              "      <td>2059027</td>\n",
              "      <td>male</td>\n",
              "      <td>15</td>\n",
              "      <td>Student</td>\n",
              "      <td>Leo</td>\n",
              "      <td>12,May,2004</td>\n",
              "      <td>In het kader van kernfusie op aarde...</td>\n",
              "    </tr>\n",
              "    <tr>\n",
              "      <th>3</th>\n",
              "      <td>2059027</td>\n",
              "      <td>male</td>\n",
              "      <td>15</td>\n",
              "      <td>Student</td>\n",
              "      <td>Leo</td>\n",
              "      <td>12,May,2004</td>\n",
              "      <td>testing!!!  testing!!!</td>\n",
              "    </tr>\n",
              "    <tr>\n",
              "      <th>4</th>\n",
              "      <td>3581210</td>\n",
              "      <td>male</td>\n",
              "      <td>33</td>\n",
              "      <td>InvestmentBanking</td>\n",
              "      <td>Aquarius</td>\n",
              "      <td>11,June,2004</td>\n",
              "      <td>Thanks to Yahoo!'s Toolbar I can ...</td>\n",
              "    </tr>\n",
              "  </tbody>\n",
              "</table>\n",
              "</div>"
            ],
            "text/plain": [
              "        id  ...                                               text\n",
              "0  2059027  ...             Info has been found (+/- 100 pages,...\n",
              "1  2059027  ...             These are the team members:   Drewe...\n",
              "2  2059027  ...             In het kader van kernfusie op aarde...\n",
              "3  2059027  ...                   testing!!!  testing!!!          \n",
              "4  3581210  ...               Thanks to Yahoo!'s Toolbar I can ...\n",
              "\n",
              "[5 rows x 7 columns]"
            ]
          },
          "metadata": {
            "tags": []
          },
          "execution_count": 5
        }
      ]
    },
    {
      "cell_type": "code",
      "metadata": {
        "id": "WC2dHPCEHqRh",
        "colab": {
          "base_uri": "https://localhost:8080/"
        },
        "outputId": "9a627a5c-beef-4264-a603-ee74c81f2bfe"
      },
      "source": [
        "print(blogs.shape)"
      ],
      "execution_count": 6,
      "outputs": [
        {
          "output_type": "stream",
          "text": [
            "(681284, 7)\n"
          ],
          "name": "stdout"
        }
      ]
    },
    {
      "cell_type": "code",
      "metadata": {
        "colab": {
          "base_uri": "https://localhost:8080/"
        },
        "id": "uAgmJBE3Z711",
        "outputId": "ca3ef53e-0741-43b2-bb01-ad14b04c1fb0"
      },
      "source": [
        "blogs.info()"
      ],
      "execution_count": 7,
      "outputs": [
        {
          "output_type": "stream",
          "text": [
            "<class 'pandas.core.frame.DataFrame'>\n",
            "RangeIndex: 681284 entries, 0 to 681283\n",
            "Data columns (total 7 columns):\n",
            " #   Column  Non-Null Count   Dtype \n",
            "---  ------  --------------   ----- \n",
            " 0   id      681284 non-null  int64 \n",
            " 1   gender  681284 non-null  object\n",
            " 2   age     681284 non-null  int64 \n",
            " 3   topic   681284 non-null  object\n",
            " 4   sign    681284 non-null  object\n",
            " 5   date    681284 non-null  object\n",
            " 6   text    681284 non-null  object\n",
            "dtypes: int64(2), object(5)\n",
            "memory usage: 36.4+ MB\n"
          ],
          "name": "stdout"
        }
      ]
    },
    {
      "cell_type": "code",
      "metadata": {
        "colab": {
          "base_uri": "https://localhost:8080/",
          "height": 390
        },
        "id": "JVCULfTcaCHA",
        "outputId": "d63d4318-ffd4-4885-fdd3-e9d4e873fbf4"
      },
      "source": [
        "blogs.describe(include='all')"
      ],
      "execution_count": 8,
      "outputs": [
        {
          "output_type": "execute_result",
          "data": {
            "text/html": [
              "<div>\n",
              "<style scoped>\n",
              "    .dataframe tbody tr th:only-of-type {\n",
              "        vertical-align: middle;\n",
              "    }\n",
              "\n",
              "    .dataframe tbody tr th {\n",
              "        vertical-align: top;\n",
              "    }\n",
              "\n",
              "    .dataframe thead th {\n",
              "        text-align: right;\n",
              "    }\n",
              "</style>\n",
              "<table border=\"1\" class=\"dataframe\">\n",
              "  <thead>\n",
              "    <tr style=\"text-align: right;\">\n",
              "      <th></th>\n",
              "      <th>id</th>\n",
              "      <th>gender</th>\n",
              "      <th>age</th>\n",
              "      <th>topic</th>\n",
              "      <th>sign</th>\n",
              "      <th>date</th>\n",
              "      <th>text</th>\n",
              "    </tr>\n",
              "  </thead>\n",
              "  <tbody>\n",
              "    <tr>\n",
              "      <th>count</th>\n",
              "      <td>6.812840e+05</td>\n",
              "      <td>681284</td>\n",
              "      <td>681284.000000</td>\n",
              "      <td>681284</td>\n",
              "      <td>681284</td>\n",
              "      <td>681284</td>\n",
              "      <td>681284</td>\n",
              "    </tr>\n",
              "    <tr>\n",
              "      <th>unique</th>\n",
              "      <td>NaN</td>\n",
              "      <td>2</td>\n",
              "      <td>NaN</td>\n",
              "      <td>40</td>\n",
              "      <td>12</td>\n",
              "      <td>2616</td>\n",
              "      <td>611652</td>\n",
              "    </tr>\n",
              "    <tr>\n",
              "      <th>top</th>\n",
              "      <td>NaN</td>\n",
              "      <td>male</td>\n",
              "      <td>NaN</td>\n",
              "      <td>indUnk</td>\n",
              "      <td>Cancer</td>\n",
              "      <td>02,August,2004</td>\n",
              "      <td>urlLink</td>\n",
              "    </tr>\n",
              "    <tr>\n",
              "      <th>freq</th>\n",
              "      <td>NaN</td>\n",
              "      <td>345193</td>\n",
              "      <td>NaN</td>\n",
              "      <td>251015</td>\n",
              "      <td>65048</td>\n",
              "      <td>16544</td>\n",
              "      <td>445</td>\n",
              "    </tr>\n",
              "    <tr>\n",
              "      <th>mean</th>\n",
              "      <td>2.397802e+06</td>\n",
              "      <td>NaN</td>\n",
              "      <td>23.932326</td>\n",
              "      <td>NaN</td>\n",
              "      <td>NaN</td>\n",
              "      <td>NaN</td>\n",
              "      <td>NaN</td>\n",
              "    </tr>\n",
              "    <tr>\n",
              "      <th>std</th>\n",
              "      <td>1.247723e+06</td>\n",
              "      <td>NaN</td>\n",
              "      <td>7.786009</td>\n",
              "      <td>NaN</td>\n",
              "      <td>NaN</td>\n",
              "      <td>NaN</td>\n",
              "      <td>NaN</td>\n",
              "    </tr>\n",
              "    <tr>\n",
              "      <th>min</th>\n",
              "      <td>5.114000e+03</td>\n",
              "      <td>NaN</td>\n",
              "      <td>13.000000</td>\n",
              "      <td>NaN</td>\n",
              "      <td>NaN</td>\n",
              "      <td>NaN</td>\n",
              "      <td>NaN</td>\n",
              "    </tr>\n",
              "    <tr>\n",
              "      <th>25%</th>\n",
              "      <td>1.239610e+06</td>\n",
              "      <td>NaN</td>\n",
              "      <td>17.000000</td>\n",
              "      <td>NaN</td>\n",
              "      <td>NaN</td>\n",
              "      <td>NaN</td>\n",
              "      <td>NaN</td>\n",
              "    </tr>\n",
              "    <tr>\n",
              "      <th>50%</th>\n",
              "      <td>2.607577e+06</td>\n",
              "      <td>NaN</td>\n",
              "      <td>24.000000</td>\n",
              "      <td>NaN</td>\n",
              "      <td>NaN</td>\n",
              "      <td>NaN</td>\n",
              "      <td>NaN</td>\n",
              "    </tr>\n",
              "    <tr>\n",
              "      <th>75%</th>\n",
              "      <td>3.525660e+06</td>\n",
              "      <td>NaN</td>\n",
              "      <td>26.000000</td>\n",
              "      <td>NaN</td>\n",
              "      <td>NaN</td>\n",
              "      <td>NaN</td>\n",
              "      <td>NaN</td>\n",
              "    </tr>\n",
              "    <tr>\n",
              "      <th>max</th>\n",
              "      <td>4.337650e+06</td>\n",
              "      <td>NaN</td>\n",
              "      <td>48.000000</td>\n",
              "      <td>NaN</td>\n",
              "      <td>NaN</td>\n",
              "      <td>NaN</td>\n",
              "      <td>NaN</td>\n",
              "    </tr>\n",
              "  </tbody>\n",
              "</table>\n",
              "</div>"
            ],
            "text/plain": [
              "                  id  gender  ...            date                 text\n",
              "count   6.812840e+05  681284  ...          681284               681284\n",
              "unique           NaN       2  ...            2616               611652\n",
              "top              NaN    male  ...  02,August,2004           urlLink   \n",
              "freq             NaN  345193  ...           16544                  445\n",
              "mean    2.397802e+06     NaN  ...             NaN                  NaN\n",
              "std     1.247723e+06     NaN  ...             NaN                  NaN\n",
              "min     5.114000e+03     NaN  ...             NaN                  NaN\n",
              "25%     1.239610e+06     NaN  ...             NaN                  NaN\n",
              "50%     2.607577e+06     NaN  ...             NaN                  NaN\n",
              "75%     3.525660e+06     NaN  ...             NaN                  NaN\n",
              "max     4.337650e+06     NaN  ...             NaN                  NaN\n",
              "\n",
              "[11 rows x 7 columns]"
            ]
          },
          "metadata": {
            "tags": []
          },
          "execution_count": 8
        }
      ]
    },
    {
      "cell_type": "code",
      "metadata": {
        "colab": {
          "base_uri": "https://localhost:8080/",
          "height": 386
        },
        "id": "6QLyWsMqaMl5",
        "outputId": "5aaaffb1-07a7-4ff4-ec08-08f2af99e86c"
      },
      "source": [
        "sns.displot(blogs, x='age',kind=\"kde\")"
      ],
      "execution_count": 9,
      "outputs": [
        {
          "output_type": "execute_result",
          "data": {
            "text/plain": [
              "<seaborn.axisgrid.FacetGrid at 0x7fcbd88f4750>"
            ]
          },
          "metadata": {
            "tags": []
          },
          "execution_count": 9
        },
        {
          "output_type": "display_data",
          "data": {
            "image/png": "[encoded data removed]",
            "text/plain": [
              "<Figure size 360x360 with 1 Axes>"
            ]
          },
          "metadata": {
            "tags": [],
            "needs_background": "light"
          }
        }
      ]
    },
    {
      "cell_type": "code",
      "metadata": {
        "colab": {
          "base_uri": "https://localhost:8080/",
          "height": 400
        },
        "id": "Wm8YzuYEeNGo",
        "outputId": "1ac1b0ce-03d7-473f-adaf-b8c0183c4242"
      },
      "source": [
        "blogs['topic'].value_counts().plot(kind='bar')"
      ],
      "execution_count": 10,
      "outputs": [
        {
          "output_type": "execute_result",
          "data": {
            "text/plain": [
              "<matplotlib.axes._subplots.AxesSubplot at 0x7fcbc8233a50>"
            ]
          },
          "metadata": {
            "tags": []
          },
          "execution_count": 10
        },
        {
          "output_type": "display_data",
          "data": {
            "image/png": "[encoded data removed]",
            "text/plain": [
              "<Figure size 432x288 with 1 Axes>"
            ]
          },
          "metadata": {
            "tags": [],
            "needs_background": "light"
          }
        }
      ]
    },
    {
      "cell_type": "code",
      "metadata": {
        "colab": {
          "base_uri": "https://localhost:8080/",
          "height": 326
        },
        "id": "ul8fiBEGeUSZ",
        "outputId": "d67860dc-276d-4303-b533-5da860f3b88c"
      },
      "source": [
        "blogs['sign'].value_counts().plot(kind='bar')"
      ],
      "execution_count": 11,
      "outputs": [
        {
          "output_type": "execute_result",
          "data": {
            "text/plain": [
              "<matplotlib.axes._subplots.AxesSubplot at 0x7fcbc81b7e50>"
            ]
          },
          "metadata": {
            "tags": []
          },
          "execution_count": 11
        },
        {
          "output_type": "display_data",
          "data": {
            "image/png": "[encoded data removed]",
            "text/plain": [
              "<Figure size 432x288 with 1 Axes>"
            ]
          },
          "metadata": {
            "tags": [],
            "needs_background": "light"
          }
        }
      ]
    },
    {
      "cell_type": "code",
      "metadata": {
        "colab": {
          "base_uri": "https://localhost:8080/"
        },
        "id": "tyHZQJ8uhV7o",
        "outputId": "8203f39c-f2ce-4ad2-8ebe-300d732b278d"
      },
      "source": [
        "blogs.gender.value_counts()"
      ],
      "execution_count": 12,
      "outputs": [
        {
          "output_type": "execute_result",
          "data": {
            "text/plain": [
              "male      345193\n",
              "female    336091\n",
              "Name: gender, dtype: int64"
            ]
          },
          "metadata": {
            "tags": []
          },
          "execution_count": 12
        }
      ]
    },
    {
      "cell_type": "code",
      "metadata": {
        "colab": {
          "base_uri": "https://localhost:8080/",
          "height": 307
        },
        "id": "8QhVt9HQetcW",
        "outputId": "1837bcef-5cc5-4334-8d7a-e2d0b2205d2a"
      },
      "source": [
        "blogs['gender'].value_counts().plot(kind='bar')"
      ],
      "execution_count": 13,
      "outputs": [
        {
          "output_type": "execute_result",
          "data": {
            "text/plain": [
              "<matplotlib.axes._subplots.AxesSubplot at 0x7fcbc8098350>"
            ]
          },
          "metadata": {
            "tags": []
          },
          "execution_count": 13
        },
        {
          "output_type": "display_data",
          "data": {
            "image/png": "[encoded data removed]",
            "text/plain": [
              "<Figure size 432x288 with 1 Axes>"
            ]
          },
          "metadata": {
            "tags": [],
            "needs_background": "light"
          }
        }
      ]
    },
    {
      "cell_type": "markdown",
      "metadata": {
        "id": "9FtcoM9Nx2sg"
      },
      "source": [
        "### **2. Perform data pre-processing on the data:**"
      ]
    },
    {
      "cell_type": "markdown",
      "metadata": {
        "id": "t4-ygUXrfSCA"
      },
      "source": [
        "**a) Data cleansing by removing unwanted characters, spaces, stop words etc. Convert text to lowercase.**"
      ]
    },
    {
      "cell_type": "code",
      "metadata": {
        "id": "xZYjgvIce1WE"
      },
      "source": [
        "blogs['lower_text']=blogs['text'].astype('str').apply(lambda x: x.lower())"
      ],
      "execution_count": 14,
      "outputs": []
    },
    {
      "cell_type": "code",
      "metadata": {
        "colab": {
          "base_uri": "https://localhost:8080/",
          "height": 204
        },
        "id": "d_VJuKwy6jPp",
        "outputId": "1c25be3e-be64-4ddc-96f5-5ddaed6d778a"
      },
      "source": [
        "blogs.head(5)"
      ],
      "execution_count": 15,
      "outputs": [
        {
          "output_type": "execute_result",
          "data": {
            "text/html": [
              "<div>\n",
              "<style scoped>\n",
              "    .dataframe tbody tr th:only-of-type {\n",
              "        vertical-align: middle;\n",
              "    }\n",
              "\n",
              "    .dataframe tbody tr th {\n",
              "        vertical-align: top;\n",
              "    }\n",
              "\n",
              "    .dataframe thead th {\n",
              "        text-align: right;\n",
              "    }\n",
              "</style>\n",
              "<table border=\"1\" class=\"dataframe\">\n",
              "  <thead>\n",
              "    <tr style=\"text-align: right;\">\n",
              "      <th></th>\n",
              "      <th>id</th>\n",
              "      <th>gender</th>\n",
              "      <th>age</th>\n",
              "      <th>topic</th>\n",
              "      <th>sign</th>\n",
              "      <th>date</th>\n",
              "      <th>text</th>\n",
              "      <th>lower_text</th>\n",
              "    </tr>\n",
              "  </thead>\n",
              "  <tbody>\n",
              "    <tr>\n",
              "      <th>0</th>\n",
              "      <td>2059027</td>\n",
              "      <td>male</td>\n",
              "      <td>15</td>\n",
              "      <td>Student</td>\n",
              "      <td>Leo</td>\n",
              "      <td>14,May,2004</td>\n",
              "      <td>Info has been found (+/- 100 pages,...</td>\n",
              "      <td>info has been found (+/- 100 pages,...</td>\n",
              "    </tr>\n",
              "    <tr>\n",
              "      <th>1</th>\n",
              "      <td>2059027</td>\n",
              "      <td>male</td>\n",
              "      <td>15</td>\n",
              "      <td>Student</td>\n",
              "      <td>Leo</td>\n",
              "      <td>13,May,2004</td>\n",
              "      <td>These are the team members:   Drewe...</td>\n",
              "      <td>these are the team members:   drewe...</td>\n",
              "    </tr>\n",
              "    <tr>\n",
              "      <th>2</th>\n",
              "      <td>2059027</td>\n",
              "      <td>male</td>\n",
              "      <td>15</td>\n",
              "      <td>Student</td>\n",
              "      <td>Leo</td>\n",
              "      <td>12,May,2004</td>\n",
              "      <td>In het kader van kernfusie op aarde...</td>\n",
              "      <td>in het kader van kernfusie op aarde...</td>\n",
              "    </tr>\n",
              "    <tr>\n",
              "      <th>3</th>\n",
              "      <td>2059027</td>\n",
              "      <td>male</td>\n",
              "      <td>15</td>\n",
              "      <td>Student</td>\n",
              "      <td>Leo</td>\n",
              "      <td>12,May,2004</td>\n",
              "      <td>testing!!!  testing!!!</td>\n",
              "      <td>testing!!!  testing!!!</td>\n",
              "    </tr>\n",
              "    <tr>\n",
              "      <th>4</th>\n",
              "      <td>3581210</td>\n",
              "      <td>male</td>\n",
              "      <td>33</td>\n",
              "      <td>InvestmentBanking</td>\n",
              "      <td>Aquarius</td>\n",
              "      <td>11,June,2004</td>\n",
              "      <td>Thanks to Yahoo!'s Toolbar I can ...</td>\n",
              "      <td>thanks to yahoo!'s toolbar i can ...</td>\n",
              "    </tr>\n",
              "  </tbody>\n",
              "</table>\n",
              "</div>"
            ],
            "text/plain": [
              "        id  ...                                         lower_text\n",
              "0  2059027  ...             info has been found (+/- 100 pages,...\n",
              "1  2059027  ...             these are the team members:   drewe...\n",
              "2  2059027  ...             in het kader van kernfusie op aarde...\n",
              "3  2059027  ...                   testing!!!  testing!!!          \n",
              "4  3581210  ...               thanks to yahoo!'s toolbar i can ...\n",
              "\n",
              "[5 rows x 8 columns]"
            ]
          },
          "metadata": {
            "tags": []
          },
          "execution_count": 15
        }
      ]
    },
    {
      "cell_type": "code",
      "metadata": {
        "id": "v3Mu8ChFfjSL"
      },
      "source": [
        "blogs['clean_t'] = blogs['lower_text'].replace('[^\\w\\s]','',regex=True)"
      ],
      "execution_count": 16,
      "outputs": []
    },
    {
      "cell_type": "code",
      "metadata": {
        "colab": {
          "base_uri": "https://localhost:8080/",
          "height": 238
        },
        "id": "EMrVfDHG7UmI",
        "outputId": "c0bcca36-2afb-4869-a00e-790c540b4072"
      },
      "source": [
        "blogs.head(5)"
      ],
      "execution_count": 17,
      "outputs": [
        {
          "output_type": "execute_result",
          "data": {
            "text/html": [
              "<div>\n",
              "<style scoped>\n",
              "    .dataframe tbody tr th:only-of-type {\n",
              "        vertical-align: middle;\n",
              "    }\n",
              "\n",
              "    .dataframe tbody tr th {\n",
              "        vertical-align: top;\n",
              "    }\n",
              "\n",
              "    .dataframe thead th {\n",
              "        text-align: right;\n",
              "    }\n",
              "</style>\n",
              "<table border=\"1\" class=\"dataframe\">\n",
              "  <thead>\n",
              "    <tr style=\"text-align: right;\">\n",
              "      <th></th>\n",
              "      <th>id</th>\n",
              "      <th>gender</th>\n",
              "      <th>age</th>\n",
              "      <th>topic</th>\n",
              "      <th>sign</th>\n",
              "      <th>date</th>\n",
              "      <th>text</th>\n",
              "      <th>lower_text</th>\n",
              "      <th>clean_t</th>\n",
              "    </tr>\n",
              "  </thead>\n",
              "  <tbody>\n",
              "    <tr>\n",
              "      <th>0</th>\n",
              "      <td>2059027</td>\n",
              "      <td>male</td>\n",
              "      <td>15</td>\n",
              "      <td>Student</td>\n",
              "      <td>Leo</td>\n",
              "      <td>14,May,2004</td>\n",
              "      <td>Info has been found (+/- 100 pages,...</td>\n",
              "      <td>info has been found (+/- 100 pages,...</td>\n",
              "      <td>info has been found  100 pages and ...</td>\n",
              "    </tr>\n",
              "    <tr>\n",
              "      <th>1</th>\n",
              "      <td>2059027</td>\n",
              "      <td>male</td>\n",
              "      <td>15</td>\n",
              "      <td>Student</td>\n",
              "      <td>Leo</td>\n",
              "      <td>13,May,2004</td>\n",
              "      <td>These are the team members:   Drewe...</td>\n",
              "      <td>these are the team members:   drewe...</td>\n",
              "      <td>these are the team members   drewes...</td>\n",
              "    </tr>\n",
              "    <tr>\n",
              "      <th>2</th>\n",
              "      <td>2059027</td>\n",
              "      <td>male</td>\n",
              "      <td>15</td>\n",
              "      <td>Student</td>\n",
              "      <td>Leo</td>\n",
              "      <td>12,May,2004</td>\n",
              "      <td>In het kader van kernfusie op aarde...</td>\n",
              "      <td>in het kader van kernfusie op aarde...</td>\n",
              "      <td>in het kader van kernfusie op aarde...</td>\n",
              "    </tr>\n",
              "    <tr>\n",
              "      <th>3</th>\n",
              "      <td>2059027</td>\n",
              "      <td>male</td>\n",
              "      <td>15</td>\n",
              "      <td>Student</td>\n",
              "      <td>Leo</td>\n",
              "      <td>12,May,2004</td>\n",
              "      <td>testing!!!  testing!!!</td>\n",
              "      <td>testing!!!  testing!!!</td>\n",
              "      <td>testing  testing</td>\n",
              "    </tr>\n",
              "    <tr>\n",
              "      <th>4</th>\n",
              "      <td>3581210</td>\n",
              "      <td>male</td>\n",
              "      <td>33</td>\n",
              "      <td>InvestmentBanking</td>\n",
              "      <td>Aquarius</td>\n",
              "      <td>11,June,2004</td>\n",
              "      <td>Thanks to Yahoo!'s Toolbar I can ...</td>\n",
              "      <td>thanks to yahoo!'s toolbar i can ...</td>\n",
              "      <td>thanks to yahoos toolbar i can no...</td>\n",
              "    </tr>\n",
              "  </tbody>\n",
              "</table>\n",
              "</div>"
            ],
            "text/plain": [
              "        id  ...                                            clean_t\n",
              "0  2059027  ...             info has been found  100 pages and ...\n",
              "1  2059027  ...             these are the team members   drewes...\n",
              "2  2059027  ...             in het kader van kernfusie op aarde...\n",
              "3  2059027  ...                         testing  testing          \n",
              "4  3581210  ...               thanks to yahoos toolbar i can no...\n",
              "\n",
              "[5 rows x 9 columns]"
            ]
          },
          "metadata": {
            "tags": []
          },
          "execution_count": 17
        }
      ]
    },
    {
      "cell_type": "code",
      "metadata": {
        "colab": {
          "base_uri": "https://localhost:8080/"
        },
        "id": "CtLS_dCFgLAF",
        "outputId": "68cbb2b8-311d-4b35-db6f-1636e9a8e073"
      },
      "source": [
        "import nltk\n",
        "from nltk.corpus import stopwords\n",
        "nltk.download('stopwords')"
      ],
      "execution_count": 18,
      "outputs": [
        {
          "output_type": "stream",
          "text": [
            "[nltk_data] Downloading package stopwords to /root/nltk_data...\n",
            "[nltk_data]   Package stopwords is already up-to-date!\n"
          ],
          "name": "stdout"
        },
        {
          "output_type": "execute_result",
          "data": {
            "text/plain": [
              "True"
            ]
          },
          "metadata": {
            "tags": []
          },
          "execution_count": 18
        }
      ]
    },
    {
      "cell_type": "code",
      "metadata": {
        "id": "eOuXYmF5geV5"
      },
      "source": [
        "stop = set(stopwords.words('english'))"
      ],
      "execution_count": 19,
      "outputs": []
    },
    {
      "cell_type": "code",
      "metadata": {
        "id": "bQxAUIjVgg8H"
      },
      "source": [
        "blogs['clean_text'] = blogs['clean_t'].apply(lambda words: \" \".join (word for word in words.split() if word not in stop))"
      ],
      "execution_count": 20,
      "outputs": []
    },
    {
      "cell_type": "code",
      "metadata": {
        "colab": {
          "base_uri": "https://localhost:8080/",
          "height": 289
        },
        "id": "YKxe6TLVgvwR",
        "outputId": "dc264efd-7c73-43ce-b6a8-6148b17f58d2"
      },
      "source": [
        "blogs.sample(5)"
      ],
      "execution_count": 21,
      "outputs": [
        {
          "output_type": "execute_result",
          "data": {
            "text/html": [
              "<div>\n",
              "<style scoped>\n",
              "    .dataframe tbody tr th:only-of-type {\n",
              "        vertical-align: middle;\n",
              "    }\n",
              "\n",
              "    .dataframe tbody tr th {\n",
              "        vertical-align: top;\n",
              "    }\n",
              "\n",
              "    .dataframe thead th {\n",
              "        text-align: right;\n",
              "    }\n",
              "</style>\n",
              "<table border=\"1\" class=\"dataframe\">\n",
              "  <thead>\n",
              "    <tr style=\"text-align: right;\">\n",
              "      <th></th>\n",
              "      <th>id</th>\n",
              "      <th>gender</th>\n",
              "      <th>age</th>\n",
              "      <th>topic</th>\n",
              "      <th>sign</th>\n",
              "      <th>date</th>\n",
              "      <th>text</th>\n",
              "      <th>lower_text</th>\n",
              "      <th>clean_t</th>\n",
              "      <th>clean_text</th>\n",
              "    </tr>\n",
              "  </thead>\n",
              "  <tbody>\n",
              "    <tr>\n",
              "      <th>399918</th>\n",
              "      <td>3040326</td>\n",
              "      <td>female</td>\n",
              "      <td>26</td>\n",
              "      <td>Publishing</td>\n",
              "      <td>Sagittarius</td>\n",
              "      <td>15,June,2004</td>\n",
              "      <td>3AM  Event Notice   A Riot Of Our Own...</td>\n",
              "      <td>3am  event notice   a riot of our own...</td>\n",
              "      <td>3am  event notice   a riot of our own...</td>\n",
              "      <td>3am event notice riot 3am summer shindig liter...</td>\n",
              "    </tr>\n",
              "    <tr>\n",
              "      <th>190995</th>\n",
              "      <td>3416026</td>\n",
              "      <td>female</td>\n",
              "      <td>26</td>\n",
              "      <td>Student</td>\n",
              "      <td>Libra</td>\n",
              "      <td>30,June,2004</td>\n",
              "      <td>I thought that once you left tenth grad...</td>\n",
              "      <td>i thought that once you left tenth grad...</td>\n",
              "      <td>i thought that once you left tenth grad...</td>\n",
              "      <td>thought left tenth grade officially allowed ou...</td>\n",
              "    </tr>\n",
              "    <tr>\n",
              "      <th>184587</th>\n",
              "      <td>2258198</td>\n",
              "      <td>male</td>\n",
              "      <td>25</td>\n",
              "      <td>Engineering</td>\n",
              "      <td>Gemini</td>\n",
              "      <td>24,May,2004</td>\n",
              "      <td>So I've been reading  urlLink Pen...</td>\n",
              "      <td>so i've been reading  urllink pen...</td>\n",
              "      <td>so ive been reading  urllink penn...</td>\n",
              "      <td>ive reading urllink penny arcade regular basis...</td>\n",
              "    </tr>\n",
              "    <tr>\n",
              "      <th>536664</th>\n",
              "      <td>1936076</td>\n",
              "      <td>male</td>\n",
              "      <td>24</td>\n",
              "      <td>indUnk</td>\n",
              "      <td>Virgo</td>\n",
              "      <td>17,December,2003</td>\n",
              "      <td>FOR ALL THE GEEKS      All y...</td>\n",
              "      <td>for all the geeks      all y...</td>\n",
              "      <td>for all the geeks      all y...</td>\n",
              "      <td>geeks geeks know probably familiar techtv dont...</td>\n",
              "    </tr>\n",
              "    <tr>\n",
              "      <th>527931</th>\n",
              "      <td>955372</td>\n",
              "      <td>female</td>\n",
              "      <td>16</td>\n",
              "      <td>Student</td>\n",
              "      <td>Aries</td>\n",
              "      <td>14,November,2002</td>\n",
              "      <td>urlLink     What Kind of Virgin Are Yo...</td>\n",
              "      <td>urllink     what kind of virgin are yo...</td>\n",
              "      <td>urllink     what kind of virgin are yo...</td>\n",
              "      <td>urllink kind virgin brought urllink quizilla</td>\n",
              "    </tr>\n",
              "  </tbody>\n",
              "</table>\n",
              "</div>"
            ],
            "text/plain": [
              "             id  ...                                         clean_text\n",
              "399918  3040326  ...  3am event notice riot 3am summer shindig liter...\n",
              "190995  3416026  ...  thought left tenth grade officially allowed ou...\n",
              "184587  2258198  ...  ive reading urllink penny arcade regular basis...\n",
              "536664  1936076  ...  geeks geeks know probably familiar techtv dont...\n",
              "527931   955372  ...       urllink kind virgin brought urllink quizilla\n",
              "\n",
              "[5 rows x 10 columns]"
            ]
          },
          "metadata": {
            "tags": []
          },
          "execution_count": 21
        }
      ]
    },
    {
      "cell_type": "markdown",
      "metadata": {
        "id": "2tm76smfhfd2"
      },
      "source": [
        "**b) Target/label merger and transformation**"
      ]
    },
    {
      "cell_type": "code",
      "metadata": {
        "id": "BHx1_L9phnsL"
      },
      "source": [
        "blogs[\"age\"] = blogs[\"age\"].astype(str)\n",
        "blogs[\"labels\"] = blogs.apply(lambda col :\n",
        "                            [col[\"gender\"],col[\"age\"],col[\"topic\"],col[\"sign\"]],axis =1)"
      ],
      "execution_count": 22,
      "outputs": []
    },
    {
      "cell_type": "code",
      "metadata": {
        "colab": {
          "base_uri": "https://localhost:8080/",
          "height": 323
        },
        "id": "jE6_LsrChxAJ",
        "outputId": "4e8f4048-09d6-4fce-c0f5-8155795d7194"
      },
      "source": [
        "blogs.head(5)"
      ],
      "execution_count": 23,
      "outputs": [
        {
          "output_type": "execute_result",
          "data": {
            "text/html": [
              "<div>\n",
              "<style scoped>\n",
              "    .dataframe tbody tr th:only-of-type {\n",
              "        vertical-align: middle;\n",
              "    }\n",
              "\n",
              "    .dataframe tbody tr th {\n",
              "        vertical-align: top;\n",
              "    }\n",
              "\n",
              "    .dataframe thead th {\n",
              "        text-align: right;\n",
              "    }\n",
              "</style>\n",
              "<table border=\"1\" class=\"dataframe\">\n",
              "  <thead>\n",
              "    <tr style=\"text-align: right;\">\n",
              "      <th></th>\n",
              "      <th>id</th>\n",
              "      <th>gender</th>\n",
              "      <th>age</th>\n",
              "      <th>topic</th>\n",
              "      <th>sign</th>\n",
              "      <th>date</th>\n",
              "      <th>text</th>\n",
              "      <th>lower_text</th>\n",
              "      <th>clean_t</th>\n",
              "      <th>clean_text</th>\n",
              "      <th>labels</th>\n",
              "    </tr>\n",
              "  </thead>\n",
              "  <tbody>\n",
              "    <tr>\n",
              "      <th>0</th>\n",
              "      <td>2059027</td>\n",
              "      <td>male</td>\n",
              "      <td>15</td>\n",
              "      <td>Student</td>\n",
              "      <td>Leo</td>\n",
              "      <td>14,May,2004</td>\n",
              "      <td>Info has been found (+/- 100 pages,...</td>\n",
              "      <td>info has been found (+/- 100 pages,...</td>\n",
              "      <td>info has been found  100 pages and ...</td>\n",
              "      <td>info found 100 pages 45 mb pdf files wait unti...</td>\n",
              "      <td>[male, 15, Student, Leo]</td>\n",
              "    </tr>\n",
              "    <tr>\n",
              "      <th>1</th>\n",
              "      <td>2059027</td>\n",
              "      <td>male</td>\n",
              "      <td>15</td>\n",
              "      <td>Student</td>\n",
              "      <td>Leo</td>\n",
              "      <td>13,May,2004</td>\n",
              "      <td>These are the team members:   Drewe...</td>\n",
              "      <td>these are the team members:   drewe...</td>\n",
              "      <td>these are the team members   drewes...</td>\n",
              "      <td>team members drewes van der laag urllink mail ...</td>\n",
              "      <td>[male, 15, Student, Leo]</td>\n",
              "    </tr>\n",
              "    <tr>\n",
              "      <th>2</th>\n",
              "      <td>2059027</td>\n",
              "      <td>male</td>\n",
              "      <td>15</td>\n",
              "      <td>Student</td>\n",
              "      <td>Leo</td>\n",
              "      <td>12,May,2004</td>\n",
              "      <td>In het kader van kernfusie op aarde...</td>\n",
              "      <td>in het kader van kernfusie op aarde...</td>\n",
              "      <td>in het kader van kernfusie op aarde...</td>\n",
              "      <td>het kader van kernfusie op aarde maak je eigen...</td>\n",
              "      <td>[male, 15, Student, Leo]</td>\n",
              "    </tr>\n",
              "    <tr>\n",
              "      <th>3</th>\n",
              "      <td>2059027</td>\n",
              "      <td>male</td>\n",
              "      <td>15</td>\n",
              "      <td>Student</td>\n",
              "      <td>Leo</td>\n",
              "      <td>12,May,2004</td>\n",
              "      <td>testing!!!  testing!!!</td>\n",
              "      <td>testing!!!  testing!!!</td>\n",
              "      <td>testing  testing</td>\n",
              "      <td>testing testing</td>\n",
              "      <td>[male, 15, Student, Leo]</td>\n",
              "    </tr>\n",
              "    <tr>\n",
              "      <th>4</th>\n",
              "      <td>3581210</td>\n",
              "      <td>male</td>\n",
              "      <td>33</td>\n",
              "      <td>InvestmentBanking</td>\n",
              "      <td>Aquarius</td>\n",
              "      <td>11,June,2004</td>\n",
              "      <td>Thanks to Yahoo!'s Toolbar I can ...</td>\n",
              "      <td>thanks to yahoo!'s toolbar i can ...</td>\n",
              "      <td>thanks to yahoos toolbar i can no...</td>\n",
              "      <td>thanks yahoos toolbar capture urls popupswhich...</td>\n",
              "      <td>[male, 33, InvestmentBanking, Aquarius]</td>\n",
              "    </tr>\n",
              "  </tbody>\n",
              "</table>\n",
              "</div>"
            ],
            "text/plain": [
              "        id  ...                                   labels\n",
              "0  2059027  ...                 [male, 15, Student, Leo]\n",
              "1  2059027  ...                 [male, 15, Student, Leo]\n",
              "2  2059027  ...                 [male, 15, Student, Leo]\n",
              "3  2059027  ...                 [male, 15, Student, Leo]\n",
              "4  3581210  ...  [male, 33, InvestmentBanking, Aquarius]\n",
              "\n",
              "[5 rows x 11 columns]"
            ]
          },
          "metadata": {
            "tags": []
          },
          "execution_count": 23
        }
      ]
    },
    {
      "cell_type": "code",
      "metadata": {
        "id": "csPKB1GfiMX6"
      },
      "source": [
        "df = blogs[['clean_text','labels']]"
      ],
      "execution_count": 24,
      "outputs": []
    },
    {
      "cell_type": "code",
      "metadata": {
        "colab": {
          "base_uri": "https://localhost:8080/",
          "height": 204
        },
        "id": "oqpm_6a7ijX4",
        "outputId": "a03c46e7-0a9d-4442-89c0-6359a3a5d8e0"
      },
      "source": [
        "df.head(5)"
      ],
      "execution_count": 25,
      "outputs": [
        {
          "output_type": "execute_result",
          "data": {
            "text/html": [
              "<div>\n",
              "<style scoped>\n",
              "    .dataframe tbody tr th:only-of-type {\n",
              "        vertical-align: middle;\n",
              "    }\n",
              "\n",
              "    .dataframe tbody tr th {\n",
              "        vertical-align: top;\n",
              "    }\n",
              "\n",
              "    .dataframe thead th {\n",
              "        text-align: right;\n",
              "    }\n",
              "</style>\n",
              "<table border=\"1\" class=\"dataframe\">\n",
              "  <thead>\n",
              "    <tr style=\"text-align: right;\">\n",
              "      <th></th>\n",
              "      <th>clean_text</th>\n",
              "      <th>labels</th>\n",
              "    </tr>\n",
              "  </thead>\n",
              "  <tbody>\n",
              "    <tr>\n",
              "      <th>0</th>\n",
              "      <td>info found 100 pages 45 mb pdf files wait unti...</td>\n",
              "      <td>[male, 15, Student, Leo]</td>\n",
              "    </tr>\n",
              "    <tr>\n",
              "      <th>1</th>\n",
              "      <td>team members drewes van der laag urllink mail ...</td>\n",
              "      <td>[male, 15, Student, Leo]</td>\n",
              "    </tr>\n",
              "    <tr>\n",
              "      <th>2</th>\n",
              "      <td>het kader van kernfusie op aarde maak je eigen...</td>\n",
              "      <td>[male, 15, Student, Leo]</td>\n",
              "    </tr>\n",
              "    <tr>\n",
              "      <th>3</th>\n",
              "      <td>testing testing</td>\n",
              "      <td>[male, 15, Student, Leo]</td>\n",
              "    </tr>\n",
              "    <tr>\n",
              "      <th>4</th>\n",
              "      <td>thanks yahoos toolbar capture urls popupswhich...</td>\n",
              "      <td>[male, 33, InvestmentBanking, Aquarius]</td>\n",
              "    </tr>\n",
              "  </tbody>\n",
              "</table>\n",
              "</div>"
            ],
            "text/plain": [
              "                                          clean_text                                   labels\n",
              "0  info found 100 pages 45 mb pdf files wait unti...                 [male, 15, Student, Leo]\n",
              "1  team members drewes van der laag urllink mail ...                 [male, 15, Student, Leo]\n",
              "2  het kader van kernfusie op aarde maak je eigen...                 [male, 15, Student, Leo]\n",
              "3                                    testing testing                 [male, 15, Student, Leo]\n",
              "4  thanks yahoos toolbar capture urls popupswhich...  [male, 33, InvestmentBanking, Aquarius]"
            ]
          },
          "metadata": {
            "tags": []
          },
          "execution_count": 25
        }
      ]
    },
    {
      "cell_type": "markdown",
      "metadata": {
        "id": "M_XxEHNai-z-"
      },
      "source": [
        " **c) Train test split**"
      ]
    },
    {
      "cell_type": "code",
      "metadata": {
        "id": "awH_yVmKikH7"
      },
      "source": [
        "X = df.clean_text\n",
        "y = df.labels\n",
        "\n",
        "X_train, X_test, y_train, y_test =train_test_split(X,y, random_state=4,test_size = 0.2,shuffle = True)"
      ],
      "execution_count": 26,
      "outputs": []
    },
    {
      "cell_type": "code",
      "metadata": {
        "colab": {
          "base_uri": "https://localhost:8080/"
        },
        "id": "0wRrO1w4jNuY",
        "outputId": "dfe86022-dae0-4da9-e33d-e35c4ad78072"
      },
      "source": [
        "print(\"shape of training set :\", X_train.shape)\n",
        "print(\"shape of test set :\", X_test.shape)"
      ],
      "execution_count": 27,
      "outputs": [
        {
          "output_type": "stream",
          "text": [
            "shape of training set : (545027,)\n",
            "shape of test set : (136257,)\n"
          ],
          "name": "stdout"
        }
      ]
    },
    {
      "cell_type": "markdown",
      "metadata": {
        "id": "BglzpMKNk4tE"
      },
      "source": [
        " **d) Vectorisation**"
      ]
    },
    {
      "cell_type": "markdown",
      "metadata": {
        "id": "TDxbAXznlW9C"
      },
      "source": [
        "**tf-idf vectorizer**"
      ]
    },
    {
      "cell_type": "code",
      "metadata": {
        "colab": {
          "base_uri": "https://localhost:8080/"
        },
        "id": "JZM477RKlWei",
        "outputId": "a24a7284-3d70-4d91-f0a1-15bccfa18fe4"
      },
      "source": [
        "tfidf = TfidfVectorizer()\n",
        "tfidf.fit(list(X_train) + list(X_test))"
      ],
      "execution_count": 28,
      "outputs": [
        {
          "output_type": "execute_result",
          "data": {
            "text/plain": [
              "TfidfVectorizer(analyzer='word', binary=False, decode_error='strict',\n",
              "                dtype=<class 'numpy.float64'>, encoding='utf-8',\n",
              "                input='content', lowercase=True, max_df=1.0, max_features=None,\n",
              "                min_df=1, ngram_range=(1, 1), norm='l2', preprocessor=None,\n",
              "                smooth_idf=True, stop_words=None, strip_accents=None,\n",
              "                sublinear_tf=False, token_pattern='(?u)\\\\b\\\\w\\\\w+\\\\b',\n",
              "                tokenizer=None, use_idf=True, vocabulary=None)"
            ]
          },
          "metadata": {
            "tags": []
          },
          "execution_count": 28
        }
      ]
    },
    {
      "cell_type": "code",
      "metadata": {
        "id": "1a4X6RcGl8uk"
      },
      "source": [
        "X_train_tfv =  tfidf.transform(X_train) \n",
        "X_test_tfv = tfidf.transform(X_test)"
      ],
      "execution_count": 29,
      "outputs": []
    },
    {
      "cell_type": "markdown",
      "metadata": {
        "id": "EzXmRk9kuqgA"
      },
      "source": [
        " **Target/label transformation**"
      ]
    },
    {
      "cell_type": "code",
      "metadata": {
        "colab": {
          "base_uri": "https://localhost:8080/"
        },
        "id": "mqv7tJA2vFQ_",
        "outputId": "2c7f87cb-e176-4a2b-ba9c-c419f2223d4e"
      },
      "source": [
        "label_count=dict()\n",
        "\n",
        "for labels in df.labels.values:\n",
        "    for label in labels:\n",
        "        if label in label_count:\n",
        "            label_count[str(label)]+=1\n",
        "        else:\n",
        "            label_count[str(label)]=1\n",
        "        \n",
        "label_count"
      ],
      "execution_count": 30,
      "outputs": [
        {
          "output_type": "execute_result",
          "data": {
            "text/plain": [
              "{'13': 13133,\n",
              " '14': 27400,\n",
              " '15': 41767,\n",
              " '16': 72708,\n",
              " '17': 80859,\n",
              " '23': 72889,\n",
              " '24': 80071,\n",
              " '25': 67051,\n",
              " '26': 55312,\n",
              " '27': 46124,\n",
              " '33': 17584,\n",
              " '34': 21347,\n",
              " '35': 17462,\n",
              " '36': 14229,\n",
              " '37': 9317,\n",
              " '38': 7545,\n",
              " '39': 5556,\n",
              " '40': 5016,\n",
              " '41': 3738,\n",
              " '42': 2908,\n",
              " '43': 4230,\n",
              " '44': 2044,\n",
              " '45': 4482,\n",
              " '46': 2733,\n",
              " '47': 2207,\n",
              " '48': 3572,\n",
              " 'Accounting': 3832,\n",
              " 'Advertising': 4676,\n",
              " 'Agriculture': 1235,\n",
              " 'Aquarius': 49687,\n",
              " 'Architecture': 1638,\n",
              " 'Aries': 64979,\n",
              " 'Arts': 32449,\n",
              " 'Automotive': 1244,\n",
              " 'Banking': 4049,\n",
              " 'Biotech': 2234,\n",
              " 'BusinessServices': 4500,\n",
              " 'Cancer': 65048,\n",
              " 'Capricorn': 49201,\n",
              " 'Chemicals': 3928,\n",
              " 'Communications-Media': 20140,\n",
              " 'Construction': 1093,\n",
              " 'Consulting': 5862,\n",
              " 'Education': 29633,\n",
              " 'Engineering': 11653,\n",
              " 'Environment': 592,\n",
              " 'Fashion': 4851,\n",
              " 'Gemini': 51985,\n",
              " 'Government': 6907,\n",
              " 'HumanResources': 3010,\n",
              " 'Internet': 16006,\n",
              " 'InvestmentBanking': 1292,\n",
              " 'Law': 9040,\n",
              " 'LawEnforcement-Security': 1878,\n",
              " 'Leo': 53811,\n",
              " 'Libra': 62363,\n",
              " 'Manufacturing': 2272,\n",
              " 'Maritime': 280,\n",
              " 'Marketing': 4769,\n",
              " 'Military': 3128,\n",
              " 'Museums-Libraries': 3096,\n",
              " 'Non-Profit': 14700,\n",
              " 'Pisces': 54053,\n",
              " 'Publishing': 7753,\n",
              " 'RealEstate': 2870,\n",
              " 'Religion': 5235,\n",
              " 'Sagittarius': 50036,\n",
              " 'Science': 7269,\n",
              " 'Scorpio': 57161,\n",
              " 'Sports-Recreation': 3038,\n",
              " 'Student': 153903,\n",
              " 'Taurus': 62561,\n",
              " 'Technology': 42055,\n",
              " 'Telecommunications': 3891,\n",
              " 'Tourism': 1942,\n",
              " 'Transportation': 2326,\n",
              " 'Virgo': 60399,\n",
              " 'female': 336091,\n",
              " 'indUnk': 251015,\n",
              " 'male': 345193}"
            ]
          },
          "metadata": {
            "tags": []
          },
          "execution_count": 30
        }
      ]
    },
    {
      "cell_type": "code",
      "metadata": {
        "id": "n-fvEjk9mL7e"
      },
      "source": [
        "from sklearn.preprocessing import MultiLabelBinarizer\n",
        "\n",
        "MultiLabelBinarizer=MultiLabelBinarizer(classes=sorted(label_count.keys()))\n",
        "\n",
        "\n",
        "y_train = MultiLabelBinarizer.fit_transform(y_train)\n",
        "y_test = MultiLabelBinarizer.transform(y_test)"
      ],
      "execution_count": 31,
      "outputs": []
    },
    {
      "cell_type": "code",
      "metadata": {
        "colab": {
          "base_uri": "https://localhost:8080/"
        },
        "id": "c_Phj1mpwsmI",
        "outputId": "74ca8d7e-b273-42ee-a25a-31f8a938a613"
      },
      "source": [
        "print('y_train',y_train)\n",
        "print('y_test',y_test)"
      ],
      "execution_count": 32,
      "outputs": [
        {
          "output_type": "stream",
          "text": [
            "y_train [[0 0 1 ... 1 0 0]\n",
            " [0 0 0 ... 0 1 1]\n",
            " [0 0 0 ... 1 1 0]\n",
            " ...\n",
            " [0 0 0 ... 0 0 1]\n",
            " [0 0 1 ... 1 0 0]\n",
            " [0 0 0 ... 1 0 0]]\n",
            "y_test [[0 0 0 ... 0 1 1]\n",
            " [0 0 0 ... 0 1 1]\n",
            " [0 0 0 ... 1 0 0]\n",
            " ...\n",
            " [0 0 0 ... 0 0 1]\n",
            " [0 0 0 ... 0 0 1]\n",
            " [0 0 0 ... 0 0 1]]\n"
          ],
          "name": "stdout"
        }
      ]
    },
    {
      "cell_type": "markdown",
      "metadata": {
        "id": "q0L25JLpzsyi"
      },
      "source": [
        "### **3. Design, train, tune and test the best text classifier.**"
      ]
    },
    {
      "cell_type": "code",
      "metadata": {
        "id": "5Ac4KPaVwvv8"
      },
      "source": [
        "from sklearn.linear_model import LogisticRegression\n",
        "from sklearn.pipeline import Pipeline\n",
        "from sklearn.metrics import accuracy_score\n",
        "from sklearn.multiclass import OneVsRestClassifier\n",
        "\n",
        "LogReg = Pipeline([('clf', OneVsRestClassifier(LogisticRegression(solver='saga'),n_jobs=-1))])"
      ],
      "execution_count": 33,
      "outputs": []
    },
    {
      "cell_type": "code",
      "metadata": {
        "id": "zluofmc8xb55",
        "colab": {
          "base_uri": "https://localhost:8080/"
        },
        "outputId": "84b4c79d-6e9c-4cf6-c7f6-d916d7f1af3b"
      },
      "source": [
        "LogReg.fit(X_train_tfv, y_train)"
      ],
      "execution_count": 34,
      "outputs": [
        {
          "output_type": "execute_result",
          "data": {
            "text/plain": [
              "Pipeline(memory=None,\n",
              "         steps=[('clf',\n",
              "                 OneVsRestClassifier(estimator=LogisticRegression(C=1.0,\n",
              "                                                                  class_weight=None,\n",
              "                                                                  dual=False,\n",
              "                                                                  fit_intercept=True,\n",
              "                                                                  intercept_scaling=1,\n",
              "                                                                  l1_ratio=None,\n",
              "                                                                  max_iter=100,\n",
              "                                                                  multi_class='auto',\n",
              "                                                                  n_jobs=None,\n",
              "                                                                  penalty='l2',\n",
              "                                                                  random_state=None,\n",
              "                                                                  solver='saga',\n",
              "                                                                  tol=0.0001,\n",
              "                                                                  verbose=0,\n",
              "                                                                  warm_start=False),\n",
              "                                     n_jobs=-1))],\n",
              "         verbose=False)"
            ]
          },
          "metadata": {
            "tags": []
          },
          "execution_count": 34
        }
      ]
    },
    {
      "cell_type": "code",
      "metadata": {
        "id": "7HHJJ7Vg92l1"
      },
      "source": [
        "Y_pred = LogReg.predict(X_test_tfv)"
      ],
      "execution_count": 35,
      "outputs": []
    },
    {
      "cell_type": "code",
      "metadata": {
        "colab": {
          "base_uri": "https://localhost:8080/"
        },
        "id": "kfC6Aou2x1NC",
        "outputId": "d029e29d-3012-4cef-e813-69c8b884b601"
      },
      "source": [
        "print('Testing Accuracy score: ', accuracy_score(y_test, Y_pred))"
      ],
      "execution_count": 36,
      "outputs": [
        {
          "output_type": "stream",
          "text": [
            "Testing Accuracy score:  0.02245756181333803\n"
          ],
          "name": "stdout"
        }
      ]
    },
    {
      "cell_type": "markdown",
      "metadata": {
        "id": "t66uHfhpz0z3"
      },
      "source": [
        "### **4. Display and explain detail the classification report**"
      ]
    },
    {
      "cell_type": "code",
      "metadata": {
        "colab": {
          "base_uri": "https://localhost:8080/"
        },
        "id": "FwgAmTitc-BB",
        "outputId": "044b0b55-7400-470e-af79-d64622e972aa"
      },
      "source": [
        "from sklearn.metrics import confusion_matrix,classification_report\n",
        "print(classification_report(y_test.argmax(axis=1), Y_pred.argmax(axis=1)))"
      ],
      "execution_count": 37,
      "outputs": [
        {
          "output_type": "stream",
          "text": [
            "/usr/local/lib/python3.7/dist-packages/sklearn/metrics/_classification.py:1272: UndefinedMetricWarning: Recall and F-score are ill-defined and being set to 0.0 in labels with no true samples. Use `zero_division` parameter to control this behavior.\n",
            "  _warn_prf(average, modifier, msg_start, len(result))\n"
          ],
          "name": "stderr"
        },
        {
          "output_type": "stream",
          "text": [
            "              precision    recall  f1-score   support\n",
            "\n",
            "           0       0.87      0.05      0.10      2677\n",
            "           1       0.81      0.07      0.14      5504\n",
            "           2       0.74      0.07      0.13      8347\n",
            "           3       0.79      0.12      0.21     14714\n",
            "           4       0.76      0.12      0.21     16262\n",
            "           5       0.82      0.03      0.06     14668\n",
            "           6       0.85      0.04      0.07     15869\n",
            "           7       0.80      0.03      0.06     13422\n",
            "           8       0.82      0.04      0.07     10954\n",
            "           9       0.86      0.03      0.06      9301\n",
            "          10       0.98      0.02      0.05      3545\n",
            "          11       0.91      0.11      0.20      4157\n",
            "          12       0.83      0.07      0.13      3529\n",
            "          13       0.95      0.06      0.12      2809\n",
            "          14       0.97      0.06      0.11      1764\n",
            "          15       0.97      0.02      0.05      1449\n",
            "          16       1.00      0.01      0.02      1097\n",
            "          17       1.00      0.22      0.36      1015\n",
            "          18       1.00      0.00      0.01       740\n",
            "          19       0.80      0.01      0.03       554\n",
            "          20       0.84      0.03      0.06       876\n",
            "          21       0.67      0.01      0.01       382\n",
            "          22       0.82      0.02      0.03       879\n",
            "          23       0.34      0.02      0.03       564\n",
            "          24       0.97      0.09      0.16       430\n",
            "          25       0.69      0.05      0.09       749\n",
            "          26       0.00      0.00      0.00         0\n",
            "          29       0.00      0.00      0.00         0\n",
            "          31       0.00      0.00      0.00         0\n",
            "          32       0.00      0.00      0.00         0\n",
            "          34       0.00      0.00      0.00         0\n",
            "          36       0.00      0.00      0.00         0\n",
            "          37       0.00      0.00      0.00         0\n",
            "          38       0.00      0.00      0.00         0\n",
            "          40       0.00      0.00      0.00         0\n",
            "          43       0.00      0.00      0.00         0\n",
            "          44       0.00      0.00      0.00         0\n",
            "          46       0.00      0.00      0.00         0\n",
            "          47       0.00      0.00      0.00         0\n",
            "          48       0.00      0.00      0.00         0\n",
            "          50       0.00      0.00      0.00         0\n",
            "          52       0.00      0.00      0.00         0\n",
            "          54       0.00      0.00      0.00         0\n",
            "          55       0.00      0.00      0.00         0\n",
            "          58       0.00      0.00      0.00         0\n",
            "          59       0.00      0.00      0.00         0\n",
            "          60       0.00      0.00      0.00         0\n",
            "          61       0.00      0.00      0.00         0\n",
            "          62       0.00      0.00      0.00         0\n",
            "          63       0.00      0.00      0.00         0\n",
            "          64       0.00      0.00      0.00         0\n",
            "          65       0.00      0.00      0.00         0\n",
            "          66       0.00      0.00      0.00         0\n",
            "          67       0.00      0.00      0.00         0\n",
            "          68       0.00      0.00      0.00         0\n",
            "          70       0.00      0.00      0.00         0\n",
            "          71       0.00      0.00      0.00         0\n",
            "          72       0.00      0.00      0.00         0\n",
            "          73       0.00      0.00      0.00         0\n",
            "          76       0.00      0.00      0.00         0\n",
            "          77       0.00      0.00      0.00         0\n",
            "          78       0.00      0.00      0.00         0\n",
            "          79       0.00      0.00      0.00         0\n",
            "\n",
            "    accuracy                           0.06    136257\n",
            "   macro avg       0.35      0.02      0.04    136257\n",
            "weighted avg       0.82      0.06      0.11    136257\n",
            "\n"
          ],
          "name": "stdout"
        }
      ]
    },
    {
      "cell_type": "markdown",
      "metadata": {
        "id": "Gru3pTPEvVrr"
      },
      "source": [
        "#### **Observation:**\n",
        "1. As per observation, model is giving low accuracy.\n",
        "2. As recall means \"how many of this class find over the whole number of element of this class\", so as per above clssification report recall value is also very low for all the classes.\n",
        "3. As per precision most of the classes are correctly classified. (most of the classes are above 0.80)\n"
      ]
    },
    {
      "cell_type": "markdown",
      "metadata": {
        "id": "zDJan7Mz0NFJ"
      },
      "source": [
        "### **5. Print the true vs predicted labels for any 5 entries from the dataset.**"
      ]
    },
    {
      "cell_type": "code",
      "metadata": {
        "id": "uYbu9pEqXGMG"
      },
      "source": [
        "import random \n",
        "\n",
        "def print_prediction(Y_pred, y_test = y_test , n = 5):\n",
        "    j = []\n",
        "    for i in range(n):\n",
        "        j.append(random.randint(0, len(y_test)))\n",
        "    print(j)\n",
        "                 \n",
        "    for k in j:\n",
        "        print(MultiLabelBinarizer.inverse_transform(Y_pred)[k])\n",
        "        print(MultiLabelBinarizer.inverse_transform(y_test)[k])"
      ],
      "execution_count": 38,
      "outputs": []
    },
    {
      "cell_type": "code",
      "metadata": {
        "colab": {
          "base_uri": "https://localhost:8080/"
        },
        "id": "05hNqjZhX_84",
        "outputId": "6ed6b552-f5be-45c8-c04e-ed545486c1ca"
      },
      "source": [
        "print_prediction(Y_pred=Y_pred,y_test=y_test, n= 5)"
      ],
      "execution_count": 39,
      "outputs": [
        {
          "output_type": "stream",
          "text": [
            "[91686, 128589, 11245, 6290, 38279]\n",
            "('female',)\n",
            "('23', 'Virgo', 'indUnk', 'male')\n",
            "('male',)\n",
            "('26', 'Leo', 'Student', 'female')\n",
            "('male',)\n",
            "('24', 'Libra', 'Student', 'male')\n",
            "('indUnk', 'male')\n",
            "('23', 'Aquarius', 'female', 'indUnk')\n",
            "('male',)\n",
            "('15', 'Student', 'Taurus', 'male')\n"
          ],
          "name": "stdout"
        }
      ]
    },
    {
      "cell_type": "code",
      "metadata": {
        "id": "ANrLDXQeYXU1"
      },
      "source": [
        "five_pred = Y_pred[:5]\n",
        "five_actual = y_test[:5]"
      ],
      "execution_count": 40,
      "outputs": []
    },
    {
      "cell_type": "code",
      "metadata": {
        "colab": {
          "base_uri": "https://localhost:8080/"
        },
        "id": "6gtsfkLIah6B",
        "outputId": "873aa784-5b1a-4d0a-8e34-fee07c35b560"
      },
      "source": [
        "five_actual = MultiLabelBinarizer.inverse_transform(five_actual)\n",
        "five_actual"
      ],
      "execution_count": 41,
      "outputs": [
        {
          "output_type": "execute_result",
          "data": {
            "text/plain": [
              "[('34', 'Aries', 'indUnk', 'male'),\n",
              " ('17', 'Leo', 'indUnk', 'male'),\n",
              " ('24', 'Arts', 'Scorpio', 'female'),\n",
              " ('17', 'Aquarius', 'indUnk', 'male'),\n",
              " ('23', 'Aquarius', 'Technology', 'male')]"
            ]
          },
          "metadata": {
            "tags": []
          },
          "execution_count": 41
        }
      ]
    },
    {
      "cell_type": "code",
      "metadata": {
        "colab": {
          "base_uri": "https://localhost:8080/"
        },
        "id": "NYiatOwJasc8",
        "outputId": "4d3c651e-1f23-464b-da1d-b4d5d095ed01"
      },
      "source": [
        "five_pred = MultiLabelBinarizer.inverse_transform(five_pred)\n",
        "five_pred"
      ],
      "execution_count": 42,
      "outputs": [
        {
          "output_type": "execute_result",
          "data": {
            "text/plain": [
              "[('male',),\n",
              " ('indUnk', 'male'),\n",
              " ('24', 'Arts', 'Sagittarius', 'female'),\n",
              " ('male',),\n",
              " ('male',)]"
            ]
          },
          "metadata": {
            "tags": []
          },
          "execution_count": 42
        }
      ]
    },
    {
      "cell_type": "markdown",
      "metadata": {
        "id": "uOpLQdx4hZdJ"
      },
      "source": [
        "# **PART 2**"
      ]
    },
    {
      "cell_type": "markdown",
      "metadata": {
        "id": "XMMglvrIsOeb"
      },
      "source": [
        "## **Design a python based interactive semi - rule based chatbot**"
      ]
    },
    {
      "cell_type": "code",
      "metadata": {
        "id": "I2S0QxX1a2LZ"
      },
      "source": [
        "import json\n",
        "FILE_PATH = '/content/drive/MyDrive/Dataset/NLP assg/GL Bot.json'\n",
        "with open(FILE_PATH) as file:\n",
        "    data = json.load(file)"
      ],
      "execution_count": 43,
      "outputs": []
    },
    {
      "cell_type": "code",
      "metadata": {
        "id": "2fsSzWyDvZBL"
      },
      "source": [
        "words = []\n",
        "labels = []\n",
        "docs_x = []\n",
        "docs_y = []"
      ],
      "execution_count": 44,
      "outputs": []
    },
    {
      "cell_type": "code",
      "metadata": {
        "colab": {
          "base_uri": "https://localhost:8080/"
        },
        "id": "QRWKsZxTYsyK",
        "outputId": "3007fc0d-45cf-44b8-92e8-737364cf27f0"
      },
      "source": [
        "nltk.download('punkt')"
      ],
      "execution_count": 45,
      "outputs": [
        {
          "output_type": "stream",
          "text": [
            "[nltk_data] Downloading package punkt to /root/nltk_data...\n",
            "[nltk_data]   Package punkt is already up-to-date!\n"
          ],
          "name": "stdout"
        },
        {
          "output_type": "execute_result",
          "data": {
            "text/plain": [
              "True"
            ]
          },
          "metadata": {
            "tags": []
          },
          "execution_count": 45
        }
      ]
    },
    {
      "cell_type": "code",
      "metadata": {
        "id": "vfOMSd4Lvq8c"
      },
      "source": [
        "for intent in data['intents']:\n",
        "    for pattern in intent['patterns']:\n",
        "        wrds = nltk.word_tokenize(pattern)\n",
        "        words.extend(wrds)\n",
        "        docs_x.append(wrds)\n",
        "        docs_y.append(intent[\"tag\"])\n",
        "        \n",
        "    if intent['tag'] not in labels:\n",
        "        labels.append(intent['tag'])"
      ],
      "execution_count": 46,
      "outputs": []
    },
    {
      "cell_type": "markdown",
      "metadata": {
        "id": "0Zh1LcTtzCYr"
      },
      "source": [
        "**Stemming**"
      ]
    },
    {
      "cell_type": "code",
      "metadata": {
        "id": "NHtvLHcBxlI3"
      },
      "source": [
        "stemmer = LancasterStemmer()\n",
        "words = [stemmer.stem(w.lower()) for w in words if w != \"?\"]\n",
        "words = sorted(list(set(words)))\n",
        "\n",
        "labels = sorted(labels)"
      ],
      "execution_count": 47,
      "outputs": []
    },
    {
      "cell_type": "code",
      "metadata": {
        "id": "OkwmnGYPzJte"
      },
      "source": [
        "training = []\n",
        "output = []\n",
        "\n",
        "out_empty = [0 for _ in range(len(labels))]\n",
        "\n",
        "for x, doc in enumerate(docs_x):\n",
        "    bag = []\n",
        "\n",
        "    wrds = [stemmer.stem(w.lower()) for w in doc]\n",
        "\n",
        "    for w in words:\n",
        "        if w in wrds:\n",
        "            bag.append(1)\n",
        "        else:\n",
        "            bag.append(0)\n",
        "\n",
        "    output_row = out_empty[:]\n",
        "    output_row[labels.index(docs_y[x])] = 1\n",
        "\n",
        "    training.append(bag)\n",
        "    output.append(output_row)"
      ],
      "execution_count": 48,
      "outputs": []
    },
    {
      "cell_type": "code",
      "metadata": {
        "id": "MjU8e_iZ1GLY"
      },
      "source": [
        "training = np.array(training)\n",
        "output = np.array(output)"
      ],
      "execution_count": 49,
      "outputs": []
    },
    {
      "cell_type": "code",
      "metadata": {
        "colab": {
          "base_uri": "https://localhost:8080/"
        },
        "id": "9k27rnlU1Rlp",
        "outputId": "33ee1109-1849-436a-8d86-d8990a4ddb84"
      },
      "source": [
        "print(training.shape)\n",
        "print(output.shape)"
      ],
      "execution_count": 50,
      "outputs": [
        {
          "output_type": "stream",
          "text": [
            "(128, 150)\n",
            "(128, 8)\n"
          ],
          "name": "stdout"
        }
      ]
    },
    {
      "cell_type": "code",
      "metadata": {
        "colab": {
          "base_uri": "https://localhost:8080/"
        },
        "id": "Z8KHQi9H1Ve7",
        "outputId": "8276fa00-dca6-43d8-b98b-b5d0f413acf5"
      },
      "source": [
        "from tensorflow.python.framework import ops\n",
        "ops.reset_default_graph()\n",
        "\n",
        "net = tflearn.input_data(shape=[None, len(training[0])])\n",
        "net = tflearn.fully_connected(net, 8)\n",
        "net = tflearn.fully_connected(net, 8)\n",
        "net = tflearn.fully_connected(net, len(output[0]), activation=\"softmax\")\n",
        "net = tflearn.regression(net)\n",
        "\n",
        "model = tflearn.DNN(net)"
      ],
      "execution_count": 51,
      "outputs": [
        {
          "output_type": "stream",
          "text": [
            "WARNING:tensorflow:From /usr/local/lib/python3.7/dist-packages/tflearn/initializations.py:165: calling TruncatedNormal.__init__ (from tensorflow.python.ops.init_ops) with dtype is deprecated and will be removed in a future version.\n",
            "Instructions for updating:\n",
            "Call initializer instance with the dtype argument instead of passing it to the constructor\n"
          ],
          "name": "stdout"
        }
      ]
    },
    {
      "cell_type": "code",
      "metadata": {
        "colab": {
          "base_uri": "https://localhost:8080/"
        },
        "id": "rbql3dN-2day",
        "outputId": "7719cb0c-f89c-4b86-b4ec-1e024194b6cb"
      },
      "source": [
        "model.fit(training, output, n_epoch=100, batch_size=8, show_metric=True)"
      ],
      "execution_count": 52,
      "outputs": [
        {
          "output_type": "stream",
          "text": [
            "Training Step: 1599  | total loss: \u001b[1m\u001b[32m0.26877\u001b[0m\u001b[0m | time: 0.081s\n",
            "| Adam | epoch: 100 | loss: 0.26877 - acc: 0.9989 -- iter: 120/128\n",
            "Training Step: 1600  | total loss: \u001b[1m\u001b[32m0.26365\u001b[0m\u001b[0m | time: 0.089s\n",
            "| Adam | epoch: 100 | loss: 0.26365 - acc: 0.9990 -- iter: 128/128\n",
            "--\n"
          ],
          "name": "stdout"
        }
      ]
    },
    {
      "cell_type": "code",
      "metadata": {
        "id": "QsHGr_Xe5_Cm"
      },
      "source": [
        "def bag_of_words(s, words):\n",
        "    bag = [0 for _ in range(len(words))]\n",
        "\n",
        "    s_words = nltk.word_tokenize(s)\n",
        "    s_words = [stemmer.stem(word.lower()) for word in s_words]\n",
        "\n",
        "    for se in s_words:\n",
        "        for i, w in enumerate(words):\n",
        "            if w == se:\n",
        "                bag[i] = 1\n",
        "            \n",
        "    return np.array(bag)\n",
        "\n",
        "\n",
        "def chat():\n",
        "    print(\"Start talking with the bot (type quit to stop)!\")\n",
        "    while True:\n",
        "        inp = input(\"You: \")\n",
        "        if inp.lower() == \"quit\":\n",
        "            break\n",
        "\n",
        "        results = model.predict([bag_of_words(inp, words)])\n",
        "        results_index = np.argmax(results)\n",
        "        tag = labels[results_index]\n",
        "\n",
        "        for tg in data[\"intents\"]:\n",
        "            if tg['tag'] == tag:\n",
        "                responses = tg['responses']\n",
        "\n",
        "        print(random.choice(responses))"
      ],
      "execution_count": 53,
      "outputs": []
    },
    {
      "cell_type": "code",
      "metadata": {
        "colab": {
          "base_uri": "https://localhost:8080/"
        },
        "id": "7Pe-ElMF7ko2",
        "outputId": "c1e26a3f-2ff3-4a9e-a691-f93cf48627ed"
      },
      "source": [
        "chat()"
      ],
      "execution_count": 54,
      "outputs": [
        {
          "output_type": "stream",
          "text": [
            "Start talking with the bot (type quit to stop)!\n",
            "You: hi\n",
            "Hello! how can i help you ?\n",
            "You: whom to contact for olympus\n",
            "Link: Olympus wiki\n",
            "You: i am not able to understand ada boosting\n",
            "Link: Machine Learning wiki \n",
            "You: i am not able to understand deep learning\"\n",
            "Link: Neural Nets wiki\n",
            "You: EPOChs\n",
            "Link: Neural Nets wiki\n",
            "You: name please\n",
            "I am your virtual learning assistant\n",
            "You: you r stupid\n",
            "Please use respectful words\n",
            "You: my problem is not solved\n",
            "Tarnsferring the request to your PM\n",
            "You: you are a good learning buddy\n",
            "I hope I was able to assist you, Good Bye\n",
            "You: quit\n"
          ],
          "name": "stdout"
        }
      ]
    }
  ]
}