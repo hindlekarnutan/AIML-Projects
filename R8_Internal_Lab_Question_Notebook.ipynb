{
  "nbformat": 4,
  "nbformat_minor": 0,
  "metadata": {
    "colab": {
      "name": "R8 Internal Lab Question Notebook.ipynb",
      "provenance": [],
      "collapsed_sections": []
    },
    "kernelspec": {
      "name": "python3",
      "display_name": "Python 3"
    }
  },
  "cells": [
    {
      "cell_type": "markdown",
      "metadata": {
        "id": "PHYs6Z84xV8E"
      },
      "source": [
        "<img src=\"http://drive.google.com/uc?export=view&id=1tpOCamr9aWz817atPnyXus8w5gJ3mIts\" width=500px>\n",
        "\n",
        "Proprietary content. © Great Learning. All Rights Reserved. Unauthorized use or distribution prohibited."
      ]
    },
    {
      "cell_type": "markdown",
      "metadata": {
        "id": "5QQxgAmWzSye"
      },
      "source": [
        "# Mobile Phone Review Analysis"
      ]
    },
    {
      "cell_type": "markdown",
      "metadata": {
        "id": "FbwHYUXhxaqD"
      },
      "source": [
        "## Context\n",
        "\n",
        "The product companies can utilize the detailed review comments to gather insights from the end user. Most of the products are sold via e-commerce sites like Flipkart or Amazon where customers can buy a product and give their review about the product on the web site. \n",
        "Product managers can identify the relevant reviews from the website and run a sentiment analysis tool to understand what the sentiments of the customer are. Based on their sentiments, they can identify what users think of the current product. Are they happy? Discontent? \n",
        "They can also come up with a document that lists the features, the team needs to focus on for making the product better. \n",
        "\n",
        "## Objective\n",
        "\n",
        "Given the review data rating label, we will try to get insights about various brands and their ratings using text analytics and build a model to predict the rating and overall sentiment. \n"
      ]
    },
    {
      "cell_type": "markdown",
      "metadata": {
        "id": "CI7usguRzeox"
      },
      "source": [
        "### Package version\n",
        "\n",
        "- tensorflow==2.3.0\n",
        "- scikit-learn==0.22.2.post1\n",
        "- pandas==1.0.5\n",
        "- numpy==1.18.5\n",
        "- matplotlib==3.2.2\n",
        "- google==2.0.3"
      ]
    },
    {
      "cell_type": "markdown",
      "metadata": {
        "id": "aiMdVjHRH7NR"
      },
      "source": [
        "### Data Dictionary \n",
        "\n",
        "product_data.csv - contains product details\n",
        "- 'asin',  - Product ASIN\n",
        "- 'brand', - Product Brand\n",
        "- 'title', - Product Title\n",
        "- 'url',  - Product URL\n",
        "- 'image', - Product Image URL\n",
        "- 'rating',- Product Avg. Rating\n",
        "- 'reviewUrl' - Product Review Page URL\n",
        "- 'totalReviews' - Product Total Reviews\n",
        "- ‘price’ - Product Price ($)\n",
        "- ‘originalPrice’ - Product Original Price ($)\n",
        " \n",
        "reviews.csv  - contains user review details\n",
        " \n",
        "- 'asin' - Product ASIN\n",
        "- 'name' - Reviewer Name\n",
        "- 'rating' - Reviewer Rating (scale 1 to 5)\n",
        "- 'date'  - Review Date\n",
        "- 'verified' - Valid Customer\n",
        "- 'title'  - Review Title\n",
        "- 'body'  - Review Content\n",
        "- 'helpfulVotes  - Helpful Feedbacks\n"
      ]
    },
    {
      "cell_type": "markdown",
      "metadata": {
        "id": "cEn52o8jznJK"
      },
      "source": [
        "## Table of Content\n",
        "\n",
        "1. Import Libraries\n",
        "\n",
        "2. Setting options\n",
        "\n",
        "3. Read Data\n",
        "\n",
        "4. Data Analysis and EDA\n",
        "\n",
        "5. Text preprocessing and Vectorization\n",
        "\n",
        "6. Model building\n",
        "\n",
        "7. Conclusion and Interpretation"
      ]
    },
    {
      "cell_type": "markdown",
      "metadata": {
        "id": "x_Lom6cXzqn7"
      },
      "source": [
        "## 1. Import Libraries"
      ]
    },
    {
      "cell_type": "markdown",
      "metadata": {
        "id": "FZtVstH8zre2"
      },
      "source": [
        "Let us start by mounting the drive"
      ]
    },
    {
      "cell_type": "code",
      "metadata": {
        "id": "xv9jxv3-R5Xl",
        "colab": {
          "base_uri": "https://localhost:8080/"
        },
        "outputId": "1032e603-a49d-4aa0-cd3c-9cabb6c379ac"
      },
      "source": [
        "from google.colab import drive\n",
        "drive.mount('/content/drive')"
      ],
      "execution_count": 1,
      "outputs": [
        {
          "output_type": "stream",
          "text": [
            "Drive already mounted at /content/drive; to attempt to forcibly remount, call drive.mount(\"/content/drive\", force_remount=True).\n"
          ],
          "name": "stdout"
        }
      ]
    },
    {
      "cell_type": "markdown",
      "metadata": {
        "id": "Gv-tZoFjz2WD"
      },
      "source": [
        "Let us check for the version of installed tensorflow."
      ]
    },
    {
      "cell_type": "code",
      "metadata": {
        "id": "eiuUVBuDzzn9",
        "colab": {
          "base_uri": "https://localhost:8080/"
        },
        "outputId": "be56a7c0-2254-446d-dd09-2ed474a57a12"
      },
      "source": [
        "# used to supress display of warnings\n",
        "import warnings\n",
        "\n",
        "# os is used to provide a way of using operating system dependent functionality\n",
        "# We use it for setting working folder\n",
        "import os\n",
        "\n",
        "# Pandas is used for data manipulation and analysis\n",
        "import pandas as pd \n",
        "\n",
        "# Numpy is used for large, multi-dimensional arrays and matrices, along with mathematical operators on these arrays\n",
        "import numpy as np\n",
        "\n",
        "# Matplotlib is a data visualization library for 2D plots of arrays, built on NumPy arrays \n",
        "# and designed to work with the broader SciPy stack\n",
        "import matplotlib.pyplot as plt\n",
        "%matplotlib inline\n",
        "from matplotlib import pyplot\n",
        "\n",
        "# Seaborn is based on matplotlib, which aids in drawing attractive and informative statistical graphics.\n",
        "import seaborn as sns\n",
        "import tensorflow \n",
        "print(tensorflow.__version__)"
      ],
      "execution_count": 2,
      "outputs": [
        {
          "output_type": "stream",
          "text": [
            "2.4.1\n"
          ],
          "name": "stdout"
        }
      ]
    },
    {
      "cell_type": "markdown",
      "metadata": {
        "id": "fze-aokU0ukH"
      },
      "source": [
        "## 2. Setting Options"
      ]
    },
    {
      "cell_type": "code",
      "metadata": {
        "id": "T3FALggG0xXa"
      },
      "source": [
        "# suppress display of warnings\n",
        "warnings.filterwarnings('ignore')\n",
        "\n",
        "# display all dataframe columns\n",
        "pd.options.display.max_columns = None\n",
        "\n",
        "# to set the limit to 3 decimals\n",
        "pd.options.display.float_format = '{:.7f}'.format\n",
        "\n",
        "# display all dataframe rows\n",
        "pd.options.display.max_rows = None"
      ],
      "execution_count": 3,
      "outputs": []
    },
    {
      "cell_type": "markdown",
      "metadata": {
        "id": "ZT1P1WdK1vfZ"
      },
      "source": [
        "## 3. Read Data"
      ]
    },
    {
      "cell_type": "markdown",
      "metadata": {
        "id": "-UOW6zwww7L1"
      },
      "source": [
        "### 3.1 Read the provided CSVs and check 5 random samples and shape to understand the datasets"
      ]
    },
    {
      "cell_type": "code",
      "metadata": {
        "id": "nxT2g284xF1W"
      },
      "source": [
        "product = pd.read_csv('/content/drive/MyDrive/Dataset/product_data.csv')\n",
        "reviews = pd.read_csv('/content/drive/MyDrive/Dataset/reviews.csv')"
      ],
      "execution_count": 4,
      "outputs": []
    },
    {
      "cell_type": "code",
      "metadata": {
        "id": "GRjG44fRxGIq",
        "colab": {
          "base_uri": "https://localhost:8080/",
          "height": 530
        },
        "outputId": "01fd3728-b221-4eb3-ddc2-b61b78d92637"
      },
      "source": [
        "product.head(5)"
      ],
      "execution_count": 5,
      "outputs": [
        {
          "output_type": "execute_result",
          "data": {
            "text/html": [
              "<div>\n",
              "<style scoped>\n",
              "    .dataframe tbody tr th:only-of-type {\n",
              "        vertical-align: middle;\n",
              "    }\n",
              "\n",
              "    .dataframe tbody tr th {\n",
              "        vertical-align: top;\n",
              "    }\n",
              "\n",
              "    .dataframe thead th {\n",
              "        text-align: right;\n",
              "    }\n",
              "</style>\n",
              "<table border=\"1\" class=\"dataframe\">\n",
              "  <thead>\n",
              "    <tr style=\"text-align: right;\">\n",
              "      <th></th>\n",
              "      <th>asin</th>\n",
              "      <th>brand</th>\n",
              "      <th>title</th>\n",
              "      <th>url</th>\n",
              "      <th>image</th>\n",
              "      <th>rating</th>\n",
              "      <th>reviewUrl</th>\n",
              "      <th>totalReviews</th>\n",
              "      <th>price</th>\n",
              "      <th>originalPrice</th>\n",
              "    </tr>\n",
              "  </thead>\n",
              "  <tbody>\n",
              "    <tr>\n",
              "      <th>0</th>\n",
              "      <td>B0000SX2UC</td>\n",
              "      <td>NaN</td>\n",
              "      <td>Dual-Band / Tri-Mode Sprint PCS Phone w/ Voice...</td>\n",
              "      <td>https://www.amazon.com/Dual-Band-Tri-Mode-Acti...</td>\n",
              "      <td>https://m.media-amazon.com/images/I/2143EBQ210...</td>\n",
              "      <td>3.0000000</td>\n",
              "      <td>https://www.amazon.com/product-reviews/B0000SX2UC</td>\n",
              "      <td>14</td>\n",
              "      <td>0.0000000</td>\n",
              "      <td>0.0000000</td>\n",
              "    </tr>\n",
              "    <tr>\n",
              "      <th>1</th>\n",
              "      <td>B0009N5L7K</td>\n",
              "      <td>Motorola</td>\n",
              "      <td>Motorola I265 phone</td>\n",
              "      <td>https://www.amazon.com/Motorola-i265-I265-phon...</td>\n",
              "      <td>https://m.media-amazon.com/images/I/419WBAVDAR...</td>\n",
              "      <td>3.0000000</td>\n",
              "      <td>https://www.amazon.com/product-reviews/B0009N5L7K</td>\n",
              "      <td>7</td>\n",
              "      <td>49.9500000</td>\n",
              "      <td>0.0000000</td>\n",
              "    </tr>\n",
              "    <tr>\n",
              "      <th>2</th>\n",
              "      <td>B000SKTZ0S</td>\n",
              "      <td>Motorola</td>\n",
              "      <td>MOTOROLA C168i AT&amp;T CINGULAR PREPAID GOPHONE C...</td>\n",
              "      <td>https://www.amazon.com/MOTOROLA-C168i-CINGULAR...</td>\n",
              "      <td>https://m.media-amazon.com/images/I/71b+q3ydkI...</td>\n",
              "      <td>2.7000000</td>\n",
              "      <td>https://www.amazon.com/product-reviews/B000SKTZ0S</td>\n",
              "      <td>22</td>\n",
              "      <td>99.9900000</td>\n",
              "      <td>0.0000000</td>\n",
              "    </tr>\n",
              "    <tr>\n",
              "      <th>3</th>\n",
              "      <td>B001AO4OUC</td>\n",
              "      <td>Motorola</td>\n",
              "      <td>Motorola i335 Cell Phone Boost Mobile</td>\n",
              "      <td>https://www.amazon.com/Motorola-i335-Phone-Boo...</td>\n",
              "      <td>https://m.media-amazon.com/images/I/710UO8gdT+...</td>\n",
              "      <td>3.3000000</td>\n",
              "      <td>https://www.amazon.com/product-reviews/B001AO4OUC</td>\n",
              "      <td>21</td>\n",
              "      <td>0.0000000</td>\n",
              "      <td>0.0000000</td>\n",
              "    </tr>\n",
              "    <tr>\n",
              "      <th>4</th>\n",
              "      <td>B001DCJAJG</td>\n",
              "      <td>Motorola</td>\n",
              "      <td>Motorola V365 no contract cellular phone AT&amp;T</td>\n",
              "      <td>https://www.amazon.com/Motorola-V365-contract-...</td>\n",
              "      <td>https://m.media-amazon.com/images/I/61LYNCVrrK...</td>\n",
              "      <td>3.1000000</td>\n",
              "      <td>https://www.amazon.com/product-reviews/B001DCJAJG</td>\n",
              "      <td>12</td>\n",
              "      <td>149.9900000</td>\n",
              "      <td>0.0000000</td>\n",
              "    </tr>\n",
              "  </tbody>\n",
              "</table>\n",
              "</div>"
            ],
            "text/plain": [
              "         asin     brand                                              title  \\\n",
              "0  B0000SX2UC       NaN  Dual-Band / Tri-Mode Sprint PCS Phone w/ Voice...   \n",
              "1  B0009N5L7K  Motorola                                Motorola I265 phone   \n",
              "2  B000SKTZ0S  Motorola  MOTOROLA C168i AT&T CINGULAR PREPAID GOPHONE C...   \n",
              "3  B001AO4OUC  Motorola              Motorola i335 Cell Phone Boost Mobile   \n",
              "4  B001DCJAJG  Motorola      Motorola V365 no contract cellular phone AT&T   \n",
              "\n",
              "                                                 url  \\\n",
              "0  https://www.amazon.com/Dual-Band-Tri-Mode-Acti...   \n",
              "1  https://www.amazon.com/Motorola-i265-I265-phon...   \n",
              "2  https://www.amazon.com/MOTOROLA-C168i-CINGULAR...   \n",
              "3  https://www.amazon.com/Motorola-i335-Phone-Boo...   \n",
              "4  https://www.amazon.com/Motorola-V365-contract-...   \n",
              "\n",
              "                                               image    rating  \\\n",
              "0  https://m.media-amazon.com/images/I/2143EBQ210... 3.0000000   \n",
              "1  https://m.media-amazon.com/images/I/419WBAVDAR... 3.0000000   \n",
              "2  https://m.media-amazon.com/images/I/71b+q3ydkI... 2.7000000   \n",
              "3  https://m.media-amazon.com/images/I/710UO8gdT+... 3.3000000   \n",
              "4  https://m.media-amazon.com/images/I/61LYNCVrrK... 3.1000000   \n",
              "\n",
              "                                           reviewUrl  totalReviews  \\\n",
              "0  https://www.amazon.com/product-reviews/B0000SX2UC            14   \n",
              "1  https://www.amazon.com/product-reviews/B0009N5L7K             7   \n",
              "2  https://www.amazon.com/product-reviews/B000SKTZ0S            22   \n",
              "3  https://www.amazon.com/product-reviews/B001AO4OUC            21   \n",
              "4  https://www.amazon.com/product-reviews/B001DCJAJG            12   \n",
              "\n",
              "        price  originalPrice  \n",
              "0   0.0000000      0.0000000  \n",
              "1  49.9500000      0.0000000  \n",
              "2  99.9900000      0.0000000  \n",
              "3   0.0000000      0.0000000  \n",
              "4 149.9900000      0.0000000  "
            ]
          },
          "metadata": {
            "tags": []
          },
          "execution_count": 5
        }
      ]
    },
    {
      "cell_type": "code",
      "metadata": {
        "colab": {
          "base_uri": "https://localhost:8080/",
          "height": 204
        },
        "id": "oSLvBRNhBPSk",
        "outputId": "5eef95d6-cd35-4347-f46b-7fc17f21f8bf"
      },
      "source": [
        "reviews.head(5)"
      ],
      "execution_count": 6,
      "outputs": [
        {
          "output_type": "execute_result",
          "data": {
            "text/html": [
              "<div>\n",
              "<style scoped>\n",
              "    .dataframe tbody tr th:only-of-type {\n",
              "        vertical-align: middle;\n",
              "    }\n",
              "\n",
              "    .dataframe tbody tr th {\n",
              "        vertical-align: top;\n",
              "    }\n",
              "\n",
              "    .dataframe thead th {\n",
              "        text-align: right;\n",
              "    }\n",
              "</style>\n",
              "<table border=\"1\" class=\"dataframe\">\n",
              "  <thead>\n",
              "    <tr style=\"text-align: right;\">\n",
              "      <th></th>\n",
              "      <th>asin</th>\n",
              "      <th>name</th>\n",
              "      <th>rating</th>\n",
              "      <th>date</th>\n",
              "      <th>verified</th>\n",
              "      <th>title</th>\n",
              "      <th>body</th>\n",
              "      <th>helpfulVotes</th>\n",
              "    </tr>\n",
              "  </thead>\n",
              "  <tbody>\n",
              "    <tr>\n",
              "      <th>0</th>\n",
              "      <td>B0000SX2UC</td>\n",
              "      <td>Janet</td>\n",
              "      <td>3</td>\n",
              "      <td>October 11, 2005</td>\n",
              "      <td>False</td>\n",
              "      <td>Def not best, but not worst</td>\n",
              "      <td>I had the Samsung A600 for awhile which is abs...</td>\n",
              "      <td>1.0000000</td>\n",
              "    </tr>\n",
              "    <tr>\n",
              "      <th>1</th>\n",
              "      <td>B0000SX2UC</td>\n",
              "      <td>Luke Wyatt</td>\n",
              "      <td>1</td>\n",
              "      <td>January 7, 2004</td>\n",
              "      <td>False</td>\n",
              "      <td>Text Messaging Doesn't Work</td>\n",
              "      <td>Due to a software issue between Nokia and Spri...</td>\n",
              "      <td>17.0000000</td>\n",
              "    </tr>\n",
              "    <tr>\n",
              "      <th>2</th>\n",
              "      <td>B0000SX2UC</td>\n",
              "      <td>Brooke</td>\n",
              "      <td>5</td>\n",
              "      <td>December 30, 2003</td>\n",
              "      <td>False</td>\n",
              "      <td>Love This Phone</td>\n",
              "      <td>This is a great, reliable phone. I also purcha...</td>\n",
              "      <td>5.0000000</td>\n",
              "    </tr>\n",
              "    <tr>\n",
              "      <th>3</th>\n",
              "      <td>B0000SX2UC</td>\n",
              "      <td>amy m. teague</td>\n",
              "      <td>3</td>\n",
              "      <td>March 18, 2004</td>\n",
              "      <td>False</td>\n",
              "      <td>Love the Phone, BUT...!</td>\n",
              "      <td>I love the phone and all, because I really did...</td>\n",
              "      <td>1.0000000</td>\n",
              "    </tr>\n",
              "    <tr>\n",
              "      <th>4</th>\n",
              "      <td>B0000SX2UC</td>\n",
              "      <td>tristazbimmer</td>\n",
              "      <td>4</td>\n",
              "      <td>August 28, 2005</td>\n",
              "      <td>False</td>\n",
              "      <td>Great phone service and options, lousy case!</td>\n",
              "      <td>The phone has been great for every purpose it ...</td>\n",
              "      <td>1.0000000</td>\n",
              "    </tr>\n",
              "  </tbody>\n",
              "</table>\n",
              "</div>"
            ],
            "text/plain": [
              "         asin           name  rating               date  verified  \\\n",
              "0  B0000SX2UC          Janet       3   October 11, 2005     False   \n",
              "1  B0000SX2UC     Luke Wyatt       1    January 7, 2004     False   \n",
              "2  B0000SX2UC         Brooke       5  December 30, 2003     False   \n",
              "3  B0000SX2UC  amy m. teague       3     March 18, 2004     False   \n",
              "4  B0000SX2UC  tristazbimmer       4    August 28, 2005     False   \n",
              "\n",
              "                                          title  \\\n",
              "0                   Def not best, but not worst   \n",
              "1                   Text Messaging Doesn't Work   \n",
              "2                               Love This Phone   \n",
              "3                       Love the Phone, BUT...!   \n",
              "4  Great phone service and options, lousy case!   \n",
              "\n",
              "                                                body  helpfulVotes  \n",
              "0  I had the Samsung A600 for awhile which is abs...     1.0000000  \n",
              "1  Due to a software issue between Nokia and Spri...    17.0000000  \n",
              "2  This is a great, reliable phone. I also purcha...     5.0000000  \n",
              "3  I love the phone and all, because I really did...     1.0000000  \n",
              "4  The phone has been great for every purpose it ...     1.0000000  "
            ]
          },
          "metadata": {
            "tags": []
          },
          "execution_count": 6
        }
      ]
    },
    {
      "cell_type": "code",
      "metadata": {
        "colab": {
          "base_uri": "https://localhost:8080/"
        },
        "id": "AqmvOpboBTxc",
        "outputId": "0581649c-4fd6-4233-c946-955937be0cfa"
      },
      "source": [
        "print(product.shape)\n",
        "print(reviews.shape)"
      ],
      "execution_count": 7,
      "outputs": [
        {
          "output_type": "stream",
          "text": [
            "(720, 10)\n",
            "(67986, 8)\n"
          ],
          "name": "stdout"
        }
      ]
    },
    {
      "cell_type": "code",
      "metadata": {
        "colab": {
          "base_uri": "https://localhost:8080/"
        },
        "id": "jqE_1c1wCB7O",
        "outputId": "f80e1709-3cb9-41df-a18f-e9c9ae65ac43"
      },
      "source": [
        "product.info()"
      ],
      "execution_count": 8,
      "outputs": [
        {
          "output_type": "stream",
          "text": [
            "<class 'pandas.core.frame.DataFrame'>\n",
            "RangeIndex: 720 entries, 0 to 719\n",
            "Data columns (total 10 columns):\n",
            " #   Column         Non-Null Count  Dtype  \n",
            "---  ------         --------------  -----  \n",
            " 0   asin           720 non-null    object \n",
            " 1   brand          716 non-null    object \n",
            " 2   title          720 non-null    object \n",
            " 3   url            720 non-null    object \n",
            " 4   image          720 non-null    object \n",
            " 5   rating         720 non-null    float64\n",
            " 6   reviewUrl      720 non-null    object \n",
            " 7   totalReviews   720 non-null    int64  \n",
            " 8   price          720 non-null    float64\n",
            " 9   originalPrice  720 non-null    float64\n",
            "dtypes: float64(3), int64(1), object(6)\n",
            "memory usage: 56.4+ KB\n"
          ],
          "name": "stdout"
        }
      ]
    },
    {
      "cell_type": "code",
      "metadata": {
        "colab": {
          "base_uri": "https://localhost:8080/"
        },
        "id": "RV30aPTECIa1",
        "outputId": "df1d7f56-ec06-478b-80a3-07a3a7820114"
      },
      "source": [
        "reviews.info()"
      ],
      "execution_count": 9,
      "outputs": [
        {
          "output_type": "stream",
          "text": [
            "<class 'pandas.core.frame.DataFrame'>\n",
            "RangeIndex: 67986 entries, 0 to 67985\n",
            "Data columns (total 8 columns):\n",
            " #   Column        Non-Null Count  Dtype  \n",
            "---  ------        --------------  -----  \n",
            " 0   asin          67986 non-null  object \n",
            " 1   name          67984 non-null  object \n",
            " 2   rating        67986 non-null  int64  \n",
            " 3   date          67986 non-null  object \n",
            " 4   verified      67986 non-null  bool   \n",
            " 5   title         67972 non-null  object \n",
            " 6   body          67965 non-null  object \n",
            " 7   helpfulVotes  27215 non-null  float64\n",
            "dtypes: bool(1), float64(1), int64(1), object(5)\n",
            "memory usage: 3.7+ MB\n"
          ],
          "name": "stdout"
        }
      ]
    },
    {
      "cell_type": "markdown",
      "metadata": {
        "id": "rED6DbDBKTjM"
      },
      "source": [
        "## 4.  Data Analysis and EDA"
      ]
    },
    {
      "cell_type": "markdown",
      "metadata": {
        "id": "awlqmp40xMfc"
      },
      "source": [
        "### 4.1 Drop unnecessary columns like 'url', 'image' from the product_data"
      ]
    },
    {
      "cell_type": "code",
      "metadata": {
        "id": "VT4d-6TCxZCm"
      },
      "source": [
        "product.drop(['url','image'],axis=1,inplace=True)"
      ],
      "execution_count": 10,
      "outputs": []
    },
    {
      "cell_type": "code",
      "metadata": {
        "colab": {
          "base_uri": "https://localhost:8080/"
        },
        "id": "jm4z1676C0VH",
        "outputId": "ca234b92-504d-48a7-a6ae-6cf1babaff89"
      },
      "source": [
        "product.columns"
      ],
      "execution_count": 11,
      "outputs": [
        {
          "output_type": "execute_result",
          "data": {
            "text/plain": [
              "Index(['asin', 'brand', 'title', 'rating', 'reviewUrl', 'totalReviews',\n",
              "       'price', 'originalPrice'],\n",
              "      dtype='object')"
            ]
          },
          "metadata": {
            "tags": []
          },
          "execution_count": 11
        }
      ]
    },
    {
      "cell_type": "markdown",
      "metadata": {
        "id": "Zk0WW5D5xZK9"
      },
      "source": [
        "### 4.2 Check statistical summary of both datasets. Note:- Include both numerical and object type columns."
      ]
    },
    {
      "cell_type": "code",
      "metadata": {
        "id": "ylwcqQpcx_Tl",
        "colab": {
          "base_uri": "https://localhost:8080/",
          "height": 407
        },
        "outputId": "243e83ba-d990-4750-e07c-ebc66482411d"
      },
      "source": [
        "product.describe(include='all')"
      ],
      "execution_count": 12,
      "outputs": [
        {
          "output_type": "execute_result",
          "data": {
            "text/html": [
              "<div>\n",
              "<style scoped>\n",
              "    .dataframe tbody tr th:only-of-type {\n",
              "        vertical-align: middle;\n",
              "    }\n",
              "\n",
              "    .dataframe tbody tr th {\n",
              "        vertical-align: top;\n",
              "    }\n",
              "\n",
              "    .dataframe thead th {\n",
              "        text-align: right;\n",
              "    }\n",
              "</style>\n",
              "<table border=\"1\" class=\"dataframe\">\n",
              "  <thead>\n",
              "    <tr style=\"text-align: right;\">\n",
              "      <th></th>\n",
              "      <th>asin</th>\n",
              "      <th>brand</th>\n",
              "      <th>title</th>\n",
              "      <th>rating</th>\n",
              "      <th>reviewUrl</th>\n",
              "      <th>totalReviews</th>\n",
              "      <th>price</th>\n",
              "      <th>originalPrice</th>\n",
              "    </tr>\n",
              "  </thead>\n",
              "  <tbody>\n",
              "    <tr>\n",
              "      <th>count</th>\n",
              "      <td>720</td>\n",
              "      <td>716</td>\n",
              "      <td>720</td>\n",
              "      <td>720.0000000</td>\n",
              "      <td>720</td>\n",
              "      <td>720.0000000</td>\n",
              "      <td>720.0000000</td>\n",
              "      <td>720.0000000</td>\n",
              "    </tr>\n",
              "    <tr>\n",
              "      <th>unique</th>\n",
              "      <td>720</td>\n",
              "      <td>10</td>\n",
              "      <td>718</td>\n",
              "      <td>nan</td>\n",
              "      <td>720</td>\n",
              "      <td>nan</td>\n",
              "      <td>nan</td>\n",
              "      <td>nan</td>\n",
              "    </tr>\n",
              "    <tr>\n",
              "      <th>top</th>\n",
              "      <td>B00N532A34</td>\n",
              "      <td>Samsung</td>\n",
              "      <td>Apple iPhone 6S, 64GB, Rose Gold - For AT&amp;T / ...</td>\n",
              "      <td>nan</td>\n",
              "      <td>https://www.amazon.com/product-reviews/B07KX1L519</td>\n",
              "      <td>nan</td>\n",
              "      <td>nan</td>\n",
              "      <td>nan</td>\n",
              "    </tr>\n",
              "    <tr>\n",
              "      <th>freq</th>\n",
              "      <td>1</td>\n",
              "      <td>346</td>\n",
              "      <td>2</td>\n",
              "      <td>nan</td>\n",
              "      <td>1</td>\n",
              "      <td>nan</td>\n",
              "      <td>nan</td>\n",
              "      <td>nan</td>\n",
              "    </tr>\n",
              "    <tr>\n",
              "      <th>mean</th>\n",
              "      <td>NaN</td>\n",
              "      <td>NaN</td>\n",
              "      <td>NaN</td>\n",
              "      <td>3.7137500</td>\n",
              "      <td>NaN</td>\n",
              "      <td>105.6791667</td>\n",
              "      <td>234.9489306</td>\n",
              "      <td>63.6907778</td>\n",
              "    </tr>\n",
              "    <tr>\n",
              "      <th>std</th>\n",
              "      <td>NaN</td>\n",
              "      <td>NaN</td>\n",
              "      <td>NaN</td>\n",
              "      <td>0.7160138</td>\n",
              "      <td>NaN</td>\n",
              "      <td>167.6011014</td>\n",
              "      <td>200.0084407</td>\n",
              "      <td>172.4053696</td>\n",
              "    </tr>\n",
              "    <tr>\n",
              "      <th>min</th>\n",
              "      <td>NaN</td>\n",
              "      <td>NaN</td>\n",
              "      <td>NaN</td>\n",
              "      <td>1.0000000</td>\n",
              "      <td>NaN</td>\n",
              "      <td>1.0000000</td>\n",
              "      <td>0.0000000</td>\n",
              "      <td>0.0000000</td>\n",
              "    </tr>\n",
              "    <tr>\n",
              "      <th>25%</th>\n",
              "      <td>NaN</td>\n",
              "      <td>NaN</td>\n",
              "      <td>NaN</td>\n",
              "      <td>3.3000000</td>\n",
              "      <td>NaN</td>\n",
              "      <td>7.0000000</td>\n",
              "      <td>97.5125000</td>\n",
              "      <td>0.0000000</td>\n",
              "    </tr>\n",
              "    <tr>\n",
              "      <th>50%</th>\n",
              "      <td>NaN</td>\n",
              "      <td>NaN</td>\n",
              "      <td>NaN</td>\n",
              "      <td>3.8000000</td>\n",
              "      <td>NaN</td>\n",
              "      <td>32.0000000</td>\n",
              "      <td>188.9750000</td>\n",
              "      <td>0.0000000</td>\n",
              "    </tr>\n",
              "    <tr>\n",
              "      <th>75%</th>\n",
              "      <td>NaN</td>\n",
              "      <td>NaN</td>\n",
              "      <td>NaN</td>\n",
              "      <td>4.1000000</td>\n",
              "      <td>NaN</td>\n",
              "      <td>122.2500000</td>\n",
              "      <td>336.7250000</td>\n",
              "      <td>0.0000000</td>\n",
              "    </tr>\n",
              "    <tr>\n",
              "      <th>max</th>\n",
              "      <td>NaN</td>\n",
              "      <td>NaN</td>\n",
              "      <td>NaN</td>\n",
              "      <td>5.0000000</td>\n",
              "      <td>NaN</td>\n",
              "      <td>983.0000000</td>\n",
              "      <td>999.9900000</td>\n",
              "      <td>999.9900000</td>\n",
              "    </tr>\n",
              "  </tbody>\n",
              "</table>\n",
              "</div>"
            ],
            "text/plain": [
              "              asin    brand  \\\n",
              "count          720      716   \n",
              "unique         720       10   \n",
              "top     B00N532A34  Samsung   \n",
              "freq             1      346   \n",
              "mean           NaN      NaN   \n",
              "std            NaN      NaN   \n",
              "min            NaN      NaN   \n",
              "25%            NaN      NaN   \n",
              "50%            NaN      NaN   \n",
              "75%            NaN      NaN   \n",
              "max            NaN      NaN   \n",
              "\n",
              "                                                    title      rating  \\\n",
              "count                                                 720 720.0000000   \n",
              "unique                                                718         nan   \n",
              "top     Apple iPhone 6S, 64GB, Rose Gold - For AT&T / ...         nan   \n",
              "freq                                                    2         nan   \n",
              "mean                                                  NaN   3.7137500   \n",
              "std                                                   NaN   0.7160138   \n",
              "min                                                   NaN   1.0000000   \n",
              "25%                                                   NaN   3.3000000   \n",
              "50%                                                   NaN   3.8000000   \n",
              "75%                                                   NaN   4.1000000   \n",
              "max                                                   NaN   5.0000000   \n",
              "\n",
              "                                                reviewUrl  totalReviews  \\\n",
              "count                                                 720   720.0000000   \n",
              "unique                                                720           nan   \n",
              "top     https://www.amazon.com/product-reviews/B07KX1L519           nan   \n",
              "freq                                                    1           nan   \n",
              "mean                                                  NaN   105.6791667   \n",
              "std                                                   NaN   167.6011014   \n",
              "min                                                   NaN     1.0000000   \n",
              "25%                                                   NaN     7.0000000   \n",
              "50%                                                   NaN    32.0000000   \n",
              "75%                                                   NaN   122.2500000   \n",
              "max                                                   NaN   983.0000000   \n",
              "\n",
              "             price  originalPrice  \n",
              "count  720.0000000    720.0000000  \n",
              "unique         nan            nan  \n",
              "top            nan            nan  \n",
              "freq           nan            nan  \n",
              "mean   234.9489306     63.6907778  \n",
              "std    200.0084407    172.4053696  \n",
              "min      0.0000000      0.0000000  \n",
              "25%     97.5125000      0.0000000  \n",
              "50%    188.9750000      0.0000000  \n",
              "75%    336.7250000      0.0000000  \n",
              "max    999.9900000    999.9900000  "
            ]
          },
          "metadata": {
            "tags": []
          },
          "execution_count": 12
        }
      ]
    },
    {
      "cell_type": "code",
      "metadata": {
        "id": "WFaDkvIjyDtG",
        "colab": {
          "base_uri": "https://localhost:8080/",
          "height": 390
        },
        "outputId": "9776e061-b3e8-4249-ba2b-6eaf9ef6bb9c"
      },
      "source": [
        "reviews.describe(include='all')"
      ],
      "execution_count": 13,
      "outputs": [
        {
          "output_type": "execute_result",
          "data": {
            "text/html": [
              "<div>\n",
              "<style scoped>\n",
              "    .dataframe tbody tr th:only-of-type {\n",
              "        vertical-align: middle;\n",
              "    }\n",
              "\n",
              "    .dataframe tbody tr th {\n",
              "        vertical-align: top;\n",
              "    }\n",
              "\n",
              "    .dataframe thead th {\n",
              "        text-align: right;\n",
              "    }\n",
              "</style>\n",
              "<table border=\"1\" class=\"dataframe\">\n",
              "  <thead>\n",
              "    <tr style=\"text-align: right;\">\n",
              "      <th></th>\n",
              "      <th>asin</th>\n",
              "      <th>name</th>\n",
              "      <th>rating</th>\n",
              "      <th>date</th>\n",
              "      <th>verified</th>\n",
              "      <th>title</th>\n",
              "      <th>body</th>\n",
              "      <th>helpfulVotes</th>\n",
              "    </tr>\n",
              "  </thead>\n",
              "  <tbody>\n",
              "    <tr>\n",
              "      <th>count</th>\n",
              "      <td>67986</td>\n",
              "      <td>67984</td>\n",
              "      <td>67986.0000000</td>\n",
              "      <td>67986</td>\n",
              "      <td>67986</td>\n",
              "      <td>67972</td>\n",
              "      <td>67965</td>\n",
              "      <td>27215.0000000</td>\n",
              "    </tr>\n",
              "    <tr>\n",
              "      <th>unique</th>\n",
              "      <td>720</td>\n",
              "      <td>47323</td>\n",
              "      <td>nan</td>\n",
              "      <td>2983</td>\n",
              "      <td>2</td>\n",
              "      <td>41489</td>\n",
              "      <td>59811</td>\n",
              "      <td>nan</td>\n",
              "    </tr>\n",
              "    <tr>\n",
              "      <th>top</th>\n",
              "      <td>B00F2SKPIM</td>\n",
              "      <td>Amazon Customer</td>\n",
              "      <td>nan</td>\n",
              "      <td>December 11, 2019</td>\n",
              "      <td>True</td>\n",
              "      <td>Five Stars</td>\n",
              "      <td>Good</td>\n",
              "      <td>nan</td>\n",
              "    </tr>\n",
              "    <tr>\n",
              "      <th>freq</th>\n",
              "      <td>981</td>\n",
              "      <td>6507</td>\n",
              "      <td>nan</td>\n",
              "      <td>234</td>\n",
              "      <td>61225</td>\n",
              "      <td>6043</td>\n",
              "      <td>303</td>\n",
              "      <td>nan</td>\n",
              "    </tr>\n",
              "    <tr>\n",
              "      <th>mean</th>\n",
              "      <td>NaN</td>\n",
              "      <td>NaN</td>\n",
              "      <td>3.8079163</td>\n",
              "      <td>NaN</td>\n",
              "      <td>NaN</td>\n",
              "      <td>NaN</td>\n",
              "      <td>NaN</td>\n",
              "      <td>8.2296895</td>\n",
              "    </tr>\n",
              "    <tr>\n",
              "      <th>std</th>\n",
              "      <td>NaN</td>\n",
              "      <td>NaN</td>\n",
              "      <td>1.5829058</td>\n",
              "      <td>NaN</td>\n",
              "      <td>NaN</td>\n",
              "      <td>NaN</td>\n",
              "      <td>NaN</td>\n",
              "      <td>31.9548772</td>\n",
              "    </tr>\n",
              "    <tr>\n",
              "      <th>min</th>\n",
              "      <td>NaN</td>\n",
              "      <td>NaN</td>\n",
              "      <td>1.0000000</td>\n",
              "      <td>NaN</td>\n",
              "      <td>NaN</td>\n",
              "      <td>NaN</td>\n",
              "      <td>NaN</td>\n",
              "      <td>1.0000000</td>\n",
              "    </tr>\n",
              "    <tr>\n",
              "      <th>25%</th>\n",
              "      <td>NaN</td>\n",
              "      <td>NaN</td>\n",
              "      <td>3.0000000</td>\n",
              "      <td>NaN</td>\n",
              "      <td>NaN</td>\n",
              "      <td>NaN</td>\n",
              "      <td>NaN</td>\n",
              "      <td>1.0000000</td>\n",
              "    </tr>\n",
              "    <tr>\n",
              "      <th>50%</th>\n",
              "      <td>NaN</td>\n",
              "      <td>NaN</td>\n",
              "      <td>5.0000000</td>\n",
              "      <td>NaN</td>\n",
              "      <td>NaN</td>\n",
              "      <td>NaN</td>\n",
              "      <td>NaN</td>\n",
              "      <td>2.0000000</td>\n",
              "    </tr>\n",
              "    <tr>\n",
              "      <th>75%</th>\n",
              "      <td>NaN</td>\n",
              "      <td>NaN</td>\n",
              "      <td>5.0000000</td>\n",
              "      <td>NaN</td>\n",
              "      <td>NaN</td>\n",
              "      <td>NaN</td>\n",
              "      <td>NaN</td>\n",
              "      <td>5.0000000</td>\n",
              "    </tr>\n",
              "    <tr>\n",
              "      <th>max</th>\n",
              "      <td>NaN</td>\n",
              "      <td>NaN</td>\n",
              "      <td>5.0000000</td>\n",
              "      <td>NaN</td>\n",
              "      <td>NaN</td>\n",
              "      <td>NaN</td>\n",
              "      <td>NaN</td>\n",
              "      <td>990.0000000</td>\n",
              "    </tr>\n",
              "  </tbody>\n",
              "</table>\n",
              "</div>"
            ],
            "text/plain": [
              "              asin             name        rating               date verified  \\\n",
              "count        67986            67984 67986.0000000              67986    67986   \n",
              "unique         720            47323           nan               2983        2   \n",
              "top     B00F2SKPIM  Amazon Customer           nan  December 11, 2019     True   \n",
              "freq           981             6507           nan                234    61225   \n",
              "mean           NaN              NaN     3.8079163                NaN      NaN   \n",
              "std            NaN              NaN     1.5829058                NaN      NaN   \n",
              "min            NaN              NaN     1.0000000                NaN      NaN   \n",
              "25%            NaN              NaN     3.0000000                NaN      NaN   \n",
              "50%            NaN              NaN     5.0000000                NaN      NaN   \n",
              "75%            NaN              NaN     5.0000000                NaN      NaN   \n",
              "max            NaN              NaN     5.0000000                NaN      NaN   \n",
              "\n",
              "             title   body  helpfulVotes  \n",
              "count        67972  67965 27215.0000000  \n",
              "unique       41489  59811           nan  \n",
              "top     Five Stars   Good           nan  \n",
              "freq          6043    303           nan  \n",
              "mean           NaN    NaN     8.2296895  \n",
              "std            NaN    NaN    31.9548772  \n",
              "min            NaN    NaN     1.0000000  \n",
              "25%            NaN    NaN     1.0000000  \n",
              "50%            NaN    NaN     2.0000000  \n",
              "75%            NaN    NaN     5.0000000  \n",
              "max            NaN    NaN   990.0000000  "
            ]
          },
          "metadata": {
            "tags": []
          },
          "execution_count": 13
        }
      ]
    },
    {
      "cell_type": "markdown",
      "metadata": {
        "id": "cSdGfadUyEdU"
      },
      "source": [
        "### 4.3 From the above statistical summary, write inferences like count of unique products, top brand, top title, range of rating, price range, etc"
      ]
    },
    {
      "cell_type": "markdown",
      "metadata": {
        "id": "w9aEsWEEFGe8"
      },
      "source": [
        "Inferences on Product data:\n",
        "\n",
        "1. Count of unique Products- 720\n",
        "2. Top Brand name- Samsung\n",
        "3. Top title -Google Pixel 2 XL 128GB Unlocked GSM/CDMA 4G LTE Octa-Core Phonew/ 12.2MP Camera - Just Black\t\n",
        "4. range of rating- Max:5 & Min:1\n",
        "5. price range- as per given dta Max price is 999 & Min price is 0"
      ]
    },
    {
      "cell_type": "markdown",
      "metadata": {
        "id": "AW3gSqVgOJ1U"
      },
      "source": [
        "inferences on Reviews data:\n",
        "\n",
        "1. Count of unique Products- 720\n",
        "2. Top name- Amazon Customer\t\n",
        "3. Top title - Five Stars\n",
        "4. range of rating- Max:5 & Min:1"
      ]
    },
    {
      "cell_type": "markdown",
      "metadata": {
        "id": "XMv_hXyxJKZK"
      },
      "source": [
        "### 4.4 Analyze the distribution of ratings and other categorical features like brand, etc"
      ]
    },
    {
      "cell_type": "code",
      "metadata": {
        "id": "oEhjSsMcyirD",
        "colab": {
          "base_uri": "https://localhost:8080/",
          "height": 386
        },
        "outputId": "f362762a-2a71-4026-c953-aa5c1d25166f"
      },
      "source": [
        "sns.displot(product, x='rating',kind=\"kde\")"
      ],
      "execution_count": 14,
      "outputs": [
        {
          "output_type": "execute_result",
          "data": {
            "text/plain": [
              "<seaborn.axisgrid.FacetGrid at 0x7f9c90782410>"
            ]
          },
          "metadata": {
            "tags": []
          },
          "execution_count": 14
        },
        {
          "output_type": "display_data",
          "data": {
            "image/png": "[encoded data removed]",
            "text/plain": [
              "<Figure size 360x360 with 1 Axes>"
            ]
          },
          "metadata": {
            "tags": [],
            "needs_background": "light"
          }
        }
      ]
    },
    {
      "cell_type": "code",
      "metadata": {
        "colab": {
          "base_uri": "https://localhost:8080/",
          "height": 386
        },
        "id": "dkfkiIypJ-r7",
        "outputId": "3da8466d-1e48-44ec-d791-a5e1beb820a7"
      },
      "source": [
        "sns.displot(reviews, x='rating',kind=\"kde\")"
      ],
      "execution_count": 15,
      "outputs": [
        {
          "output_type": "execute_result",
          "data": {
            "text/plain": [
              "<seaborn.axisgrid.FacetGrid at 0x7f9c873b4210>"
            ]
          },
          "metadata": {
            "tags": []
          },
          "execution_count": 15
        },
        {
          "output_type": "display_data",
          "data": {
            "image/png": "[encoded data removed]",
            "text/plain": [
              "<Figure size 360x360 with 1 Axes>"
            ]
          },
          "metadata": {
            "tags": [],
            "needs_background": "light"
          }
        }
      ]
    },
    {
      "cell_type": "code",
      "metadata": {
        "colab": {
          "base_uri": "https://localhost:8080/",
          "height": 319
        },
        "id": "jty9wj81IjSk",
        "outputId": "273ec00e-f646-4eef-c3ad-2901aefb69c1"
      },
      "source": [
        "product['brand'].value_counts().plot(kind='bar')"
      ],
      "execution_count": 16,
      "outputs": [
        {
          "output_type": "execute_result",
          "data": {
            "text/plain": [
              "<matplotlib.axes._subplots.AxesSubplot at 0x7f9c86ea5c90>"
            ]
          },
          "metadata": {
            "tags": []
          },
          "execution_count": 16
        },
        {
          "output_type": "display_data",
          "data": {
            "image/png": "[encoded data removed]",
            "text/plain": [
              "<Figure size 432x288 with 1 Axes>"
            ]
          },
          "metadata": {
            "tags": [],
            "needs_background": "light"
          }
        }
      ]
    },
    {
      "cell_type": "markdown",
      "metadata": {
        "id": "jwZBGODgyi1a"
      },
      "source": [
        "### 4.5 Display average rating per brand"
      ]
    },
    {
      "cell_type": "code",
      "metadata": {
        "id": "OSBBiAv8yscd",
        "colab": {
          "base_uri": "https://localhost:8080/"
        },
        "outputId": "1e266af6-983a-4757-b02b-3fae14a38478"
      },
      "source": [
        "product.groupby('brand')['rating'].mean()"
      ],
      "execution_count": 17,
      "outputs": [
        {
          "output_type": "execute_result",
          "data": {
            "text/plain": [
              "brand\n",
              "ASUS       3.8600000\n",
              "Apple      3.7825397\n",
              "Google     3.7710526\n",
              "HUAWEI     4.0218750\n",
              "Motorola   3.6438095\n",
              "Nokia      3.3863636\n",
              "OnePlus    3.5800000\n",
              "Samsung    3.6326590\n",
              "Sony       3.7888889\n",
              "Xiaomi     4.4152174\n",
              "Name: rating, dtype: float64"
            ]
          },
          "metadata": {
            "tags": []
          },
          "execution_count": 17
        }
      ]
    },
    {
      "cell_type": "code",
      "metadata": {
        "colab": {
          "base_uri": "https://localhost:8080/",
          "height": 333
        },
        "id": "uJreVB75Tfv9",
        "outputId": "3c3b8afd-cf6a-4ac6-c5bd-2dda6d3eb8ef"
      },
      "source": [
        "product.groupby('brand')['rating'].mean().plot(kind='bar')"
      ],
      "execution_count": 18,
      "outputs": [
        {
          "output_type": "execute_result",
          "data": {
            "text/plain": [
              "<matplotlib.axes._subplots.AxesSubplot at 0x7f9c86e495d0>"
            ]
          },
          "metadata": {
            "tags": []
          },
          "execution_count": 18
        },
        {
          "output_type": "display_data",
          "data": {
            "image/png": "[encoded data removed]",
            "text/plain": [
              "<Figure size 432x288 with 1 Axes>"
            ]
          },
          "metadata": {
            "tags": [],
            "needs_background": "light"
          }
        }
      ]
    },
    {
      "cell_type": "markdown",
      "metadata": {
        "id": "vUXuEwlgyvB0"
      },
      "source": [
        "### 4.6 Display average price per brand"
      ]
    },
    {
      "cell_type": "code",
      "metadata": {
        "id": "ACgIwVlyy3Pu",
        "colab": {
          "base_uri": "https://localhost:8080/"
        },
        "outputId": "309e6846-3f63-4f42-cada-665b4cb53dc1"
      },
      "source": [
        "product.groupby('brand')['price'].mean()"
      ],
      "execution_count": 19,
      "outputs": [
        {
          "output_type": "execute_result",
          "data": {
            "text/plain": [
              "brand\n",
              "ASUS       309.6860000\n",
              "Apple      303.5811111\n",
              "Google     241.8676316\n",
              "HUAWEI     218.8290625\n",
              "Motorola   139.1210476\n",
              "Nokia      111.4438636\n",
              "OnePlus    426.1960000\n",
              "Samsung    256.5272543\n",
              "Sony       332.7248148\n",
              "Xiaomi     214.9676087\n",
              "Name: price, dtype: float64"
            ]
          },
          "metadata": {
            "tags": []
          },
          "execution_count": 19
        }
      ]
    },
    {
      "cell_type": "code",
      "metadata": {
        "colab": {
          "base_uri": "https://localhost:8080/",
          "height": 333
        },
        "id": "l4NV177DTmw5",
        "outputId": "6bd0f415-a8e5-44b9-9b6c-a7c14266b5dc"
      },
      "source": [
        "product.groupby('brand')['price'].mean().plot(kind='bar')"
      ],
      "execution_count": 20,
      "outputs": [
        {
          "output_type": "execute_result",
          "data": {
            "text/plain": [
              "<matplotlib.axes._subplots.AxesSubplot at 0x7f9c86d92750>"
            ]
          },
          "metadata": {
            "tags": []
          },
          "execution_count": 20
        },
        {
          "output_type": "display_data",
          "data": {
            "image/png": "[encoded data removed]",
            "text/plain": [
              "<Figure size 432x288 with 1 Axes>"
            ]
          },
          "metadata": {
            "tags": [],
            "needs_background": "light"
          }
        }
      ]
    },
    {
      "cell_type": "markdown",
      "metadata": {
        "id": "U0JfwL74y3a-"
      },
      "source": [
        "### 4.7 Display average 'totalReviews' per brand"
      ]
    },
    {
      "cell_type": "code",
      "metadata": {
        "id": "wfzciNxqzBYu",
        "colab": {
          "base_uri": "https://localhost:8080/"
        },
        "outputId": "bb469865-3eb9-4ac2-cfd3-4fc8c89959a8"
      },
      "source": [
        "product.groupby('brand')['totalReviews'].mean()"
      ],
      "execution_count": 21,
      "outputs": [
        {
          "output_type": "execute_result",
          "data": {
            "text/plain": [
              "brand\n",
              "ASUS        52.6000000\n",
              "Apple      100.2380952\n",
              "Google     111.5263158\n",
              "HUAWEI      77.0937500\n",
              "Motorola    89.7047619\n",
              "Nokia      140.5000000\n",
              "OnePlus     40.6000000\n",
              "Samsung    108.9624277\n",
              "Sony       122.6666667\n",
              "Xiaomi     121.1739130\n",
              "Name: totalReviews, dtype: float64"
            ]
          },
          "metadata": {
            "tags": []
          },
          "execution_count": 21
        }
      ]
    },
    {
      "cell_type": "code",
      "metadata": {
        "colab": {
          "base_uri": "https://localhost:8080/",
          "height": 333
        },
        "id": "2Gx4l8ybTwOw",
        "outputId": "e95f39a1-d281-468e-a1df-94e2c90ca801"
      },
      "source": [
        "product.groupby('brand')['totalReviews'].mean().plot(kind='bar')"
      ],
      "execution_count": 22,
      "outputs": [
        {
          "output_type": "execute_result",
          "data": {
            "text/plain": [
              "<matplotlib.axes._subplots.AxesSubplot at 0x7f9c86d34e90>"
            ]
          },
          "metadata": {
            "tags": []
          },
          "execution_count": 22
        },
        {
          "output_type": "display_data",
          "data": {
            "image/png": "[encoded data removed]",
            "text/plain": [
              "<Figure size 432x288 with 1 Axes>"
            ]
          },
          "metadata": {
            "tags": [],
            "needs_background": "light"
          }
        }
      ]
    },
    {
      "cell_type": "markdown",
      "metadata": {
        "id": "x_fxI7OAeDUM"
      },
      "source": [
        "### 4.8 Merge two datasets using 'asin' and check the shape of the final dataset"
      ]
    },
    {
      "cell_type": "code",
      "metadata": {
        "id": "svpHfWI9zNAP"
      },
      "source": [
        "product_reviews = pd.merge(reviews, product, on='asin', how='inner')"
      ],
      "execution_count": 23,
      "outputs": []
    },
    {
      "cell_type": "code",
      "metadata": {
        "colab": {
          "base_uri": "https://localhost:8080/"
        },
        "id": "oUhv1xDeMiXs",
        "outputId": "2603734d-e857-4555-943f-20973f6f7608"
      },
      "source": [
        "product_reviews.shape"
      ],
      "execution_count": 24,
      "outputs": [
        {
          "output_type": "execute_result",
          "data": {
            "text/plain": [
              "(67986, 15)"
            ]
          },
          "metadata": {
            "tags": []
          },
          "execution_count": 24
        }
      ]
    },
    {
      "cell_type": "markdown",
      "metadata": {
        "id": "zdTfwlL7fYpq"
      },
      "source": [
        "### 4.9 Rename important features with appropriate names.\n",
        "Imortant features - \"rating_x\": \"user_rating\", \"title_x\": \"review_title\", \"title_y\": \"item_title\", \"rating_y\": \"overall_rating\""
      ]
    },
    {
      "cell_type": "code",
      "metadata": {
        "colab": {
          "base_uri": "https://localhost:8080/"
        },
        "id": "pi6XRs4GOsmL",
        "outputId": "a318ed36-ed3c-4ef5-d3f3-01b28dfe0493"
      },
      "source": [
        "product_reviews.columns"
      ],
      "execution_count": 25,
      "outputs": [
        {
          "output_type": "execute_result",
          "data": {
            "text/plain": [
              "Index(['asin', 'name', 'rating_x', 'date', 'verified', 'title_x', 'body',\n",
              "       'helpfulVotes', 'brand', 'title_y', 'rating_y', 'reviewUrl',\n",
              "       'totalReviews', 'price', 'originalPrice'],\n",
              "      dtype='object')"
            ]
          },
          "metadata": {
            "tags": []
          },
          "execution_count": 25
        }
      ]
    },
    {
      "cell_type": "code",
      "metadata": {
        "id": "KI-6FCkZztXM"
      },
      "source": [
        "product_reviews.rename(columns={\"rating_x\": \"user_rating\", \"title_x\": \"review_title\", \"title_y\": \"item_title\",\n",
        "                                \"rating_y\": \"overall_rating\"}, inplace=True)"
      ],
      "execution_count": 26,
      "outputs": []
    },
    {
      "cell_type": "code",
      "metadata": {
        "colab": {
          "base_uri": "https://localhost:8080/"
        },
        "id": "2caOdjJnOqDw",
        "outputId": "45c906d4-de21-458f-807f-791a50a07c9c"
      },
      "source": [
        "product_reviews.columns"
      ],
      "execution_count": 27,
      "outputs": [
        {
          "output_type": "execute_result",
          "data": {
            "text/plain": [
              "Index(['asin', 'name', 'user_rating', 'date', 'verified', 'review_title',\n",
              "       'body', 'helpfulVotes', 'brand', 'item_title', 'overall_rating',\n",
              "       'reviewUrl', 'totalReviews', 'price', 'originalPrice'],\n",
              "      dtype='object')"
            ]
          },
          "metadata": {
            "tags": []
          },
          "execution_count": 27
        }
      ]
    },
    {
      "cell_type": "markdown",
      "metadata": {
        "id": "hNHEElHszthc"
      },
      "source": [
        "### 4.10 Select rows having verified reviews and check the shape of the final dataset"
      ]
    },
    {
      "cell_type": "code",
      "metadata": {
        "id": "Jyav9_Zoz-rT",
        "colab": {
          "base_uri": "https://localhost:8080/"
        },
        "outputId": "65d1f3fe-9c63-4061-f60a-646dbc61319c"
      },
      "source": [
        "product_reviews['verified'].value_counts()"
      ],
      "execution_count": 28,
      "outputs": [
        {
          "output_type": "execute_result",
          "data": {
            "text/plain": [
              "True     61225\n",
              "False     6761\n",
              "Name: verified, dtype: int64"
            ]
          },
          "metadata": {
            "tags": []
          },
          "execution_count": 28
        }
      ]
    },
    {
      "cell_type": "code",
      "metadata": {
        "id": "d0D2ICS2UPoq"
      },
      "source": [
        "verified_reviews = product_reviews[product_reviews['verified']==True]"
      ],
      "execution_count": 29,
      "outputs": []
    },
    {
      "cell_type": "code",
      "metadata": {
        "colab": {
          "base_uri": "https://localhost:8080/"
        },
        "id": "ICaQ8GVnUkcg",
        "outputId": "200d0bce-cd0f-4315-d777-30dcc0a0bfcb"
      },
      "source": [
        "verified_reviews.shape"
      ],
      "execution_count": 30,
      "outputs": [
        {
          "output_type": "execute_result",
          "data": {
            "text/plain": [
              "(61225, 15)"
            ]
          },
          "metadata": {
            "tags": []
          },
          "execution_count": 30
        }
      ]
    },
    {
      "cell_type": "markdown",
      "metadata": {
        "id": "EpKusPjdz-2q"
      },
      "source": [
        "### 4.11 Check the number of reviews for various brands and report the brand that have highest number of reviews"
      ]
    },
    {
      "cell_type": "code",
      "metadata": {
        "id": "5tux6vwr0JDb",
        "colab": {
          "base_uri": "https://localhost:8080/"
        },
        "outputId": "78cb3890-a412-4a0f-a217-952bcaf69cf9"
      },
      "source": [
        "verified_reviews.groupby('brand')['totalReviews'].count()"
      ],
      "execution_count": 31,
      "outputs": [
        {
          "output_type": "execute_result",
          "data": {
            "text/plain": [
              "brand\n",
              "ASUS          206\n",
              "Apple        4876\n",
              "Google       3163\n",
              "HUAWEI       2019\n",
              "Motorola     7714\n",
              "Nokia        4878\n",
              "OnePlus       304\n",
              "Samsung     31020\n",
              "Sony         2691\n",
              "Xiaomi       4207\n",
              "Name: totalReviews, dtype: int64"
            ]
          },
          "metadata": {
            "tags": []
          },
          "execution_count": 31
        }
      ]
    },
    {
      "cell_type": "code",
      "metadata": {
        "colab": {
          "base_uri": "https://localhost:8080/",
          "height": 333
        },
        "id": "9mYRylXHVNIx",
        "outputId": "952c69d8-98ce-4364-a622-e9c00b2ff270"
      },
      "source": [
        "verified_reviews.groupby('brand')['totalReviews'].count().plot(kind='bar')"
      ],
      "execution_count": 32,
      "outputs": [
        {
          "output_type": "execute_result",
          "data": {
            "text/plain": [
              "<matplotlib.axes._subplots.AxesSubplot at 0x7f9c86c54cd0>"
            ]
          },
          "metadata": {
            "tags": []
          },
          "execution_count": 32
        },
        {
          "output_type": "display_data",
          "data": {
            "image/png": "[encoded data removed]",
            "text/plain": [
              "<Figure size 432x288 with 1 Axes>"
            ]
          },
          "metadata": {
            "tags": [],
            "needs_background": "light"
          }
        }
      ]
    },
    {
      "cell_type": "markdown",
      "metadata": {
        "id": "mfywTov5VVLW"
      },
      "source": [
        "**samsung brand is having highest number of reviews.**"
      ]
    },
    {
      "cell_type": "markdown",
      "metadata": {
        "id": "gPGjMFE-0Q5k"
      },
      "source": [
        "### 4.12 Drop irrelevant columns and keep important features like 'brand','body','price','user_rating','review_title' for further analysis"
      ]
    },
    {
      "cell_type": "code",
      "metadata": {
        "id": "J_IvLN6e0e6z",
        "colab": {
          "base_uri": "https://localhost:8080/"
        },
        "outputId": "c006b25d-1181-4b18-8607-36938eab87a7"
      },
      "source": [
        "verified_reviews.columns"
      ],
      "execution_count": 33,
      "outputs": [
        {
          "output_type": "execute_result",
          "data": {
            "text/plain": [
              "Index(['asin', 'name', 'user_rating', 'date', 'verified', 'review_title',\n",
              "       'body', 'helpfulVotes', 'brand', 'item_title', 'overall_rating',\n",
              "       'reviewUrl', 'totalReviews', 'price', 'originalPrice'],\n",
              "      dtype='object')"
            ]
          },
          "metadata": {
            "tags": []
          },
          "execution_count": 33
        }
      ]
    },
    {
      "cell_type": "code",
      "metadata": {
        "id": "ISL4WeanWQJn"
      },
      "source": [
        "verified_reviews.drop(['asin', 'reviewUrl',\n",
        "       'totalReviews', 'originalPrice', 'name', 'overall_rating',\n",
        "       'date', 'verified', 'item_title', 'helpfulVotes','price'],axis=1, inplace=True)"
      ],
      "execution_count": 34,
      "outputs": []
    },
    {
      "cell_type": "markdown",
      "metadata": {
        "id": "x8JtNEgqaa3N"
      },
      "source": [
        "I have drop 'Price' column also as improper values observed like some mobiles are having 0 price."
      ]
    },
    {
      "cell_type": "code",
      "metadata": {
        "colab": {
          "base_uri": "https://localhost:8080/"
        },
        "id": "HzlzLEy2W3F-",
        "outputId": "666addc7-6aa0-4e44-dda8-60433751b1d7"
      },
      "source": [
        "verified_reviews.columns"
      ],
      "execution_count": 35,
      "outputs": [
        {
          "output_type": "execute_result",
          "data": {
            "text/plain": [
              "Index(['user_rating', 'review_title', 'body', 'brand'], dtype='object')"
            ]
          },
          "metadata": {
            "tags": []
          },
          "execution_count": 35
        }
      ]
    },
    {
      "cell_type": "code",
      "metadata": {
        "colab": {
          "base_uri": "https://localhost:8080/",
          "height": 204
        },
        "id": "WvAxzJvfYktQ",
        "outputId": "e247b113-160b-41f1-b49c-389bea85c04c"
      },
      "source": [
        "verified_reviews.head(5)"
      ],
      "execution_count": 36,
      "outputs": [
        {
          "output_type": "execute_result",
          "data": {
            "text/html": [
              "<div>\n",
              "<style scoped>\n",
              "    .dataframe tbody tr th:only-of-type {\n",
              "        vertical-align: middle;\n",
              "    }\n",
              "\n",
              "    .dataframe tbody tr th {\n",
              "        vertical-align: top;\n",
              "    }\n",
              "\n",
              "    .dataframe thead th {\n",
              "        text-align: right;\n",
              "    }\n",
              "</style>\n",
              "<table border=\"1\" class=\"dataframe\">\n",
              "  <thead>\n",
              "    <tr style=\"text-align: right;\">\n",
              "      <th></th>\n",
              "      <th>user_rating</th>\n",
              "      <th>review_title</th>\n",
              "      <th>body</th>\n",
              "      <th>brand</th>\n",
              "    </tr>\n",
              "  </thead>\n",
              "  <tbody>\n",
              "    <tr>\n",
              "      <th>14</th>\n",
              "      <td>1</td>\n",
              "      <td>Stupid phone</td>\n",
              "      <td>DON'T BUY OUT OF SERVICE</td>\n",
              "      <td>Motorola</td>\n",
              "    </tr>\n",
              "    <tr>\n",
              "      <th>17</th>\n",
              "      <td>1</td>\n",
              "      <td>Phones locked</td>\n",
              "      <td>1 star because the phones locked so I have to ...</td>\n",
              "      <td>Motorola</td>\n",
              "    </tr>\n",
              "    <tr>\n",
              "      <th>18</th>\n",
              "      <td>5</td>\n",
              "      <td>Excellent product</td>\n",
              "      <td>The product has been very good. I had used thi...</td>\n",
              "      <td>Motorola</td>\n",
              "    </tr>\n",
              "    <tr>\n",
              "      <th>21</th>\n",
              "      <td>4</td>\n",
              "      <td>Nice, but</td>\n",
              "      <td>I bought this phone to replace an LG phone tha...</td>\n",
              "      <td>Motorola</td>\n",
              "    </tr>\n",
              "    <tr>\n",
              "      <th>22</th>\n",
              "      <td>1</td>\n",
              "      <td>It seems it doesn't work with the existing AT&amp;...</td>\n",
              "      <td>I purchased this phone for my AT&amp;T phone repla...</td>\n",
              "      <td>Motorola</td>\n",
              "    </tr>\n",
              "  </tbody>\n",
              "</table>\n",
              "</div>"
            ],
            "text/plain": [
              "    user_rating                                       review_title  \\\n",
              "14            1                                       Stupid phone   \n",
              "17            1                                      Phones locked   \n",
              "18            5                                  Excellent product   \n",
              "21            4                                          Nice, but   \n",
              "22            1  It seems it doesn't work with the existing AT&...   \n",
              "\n",
              "                                                 body     brand  \n",
              "14                           DON'T BUY OUT OF SERVICE  Motorola  \n",
              "17  1 star because the phones locked so I have to ...  Motorola  \n",
              "18  The product has been very good. I had used thi...  Motorola  \n",
              "21  I bought this phone to replace an LG phone tha...  Motorola  \n",
              "22  I purchased this phone for my AT&T phone repla...  Motorola  "
            ]
          },
          "metadata": {
            "tags": []
          },
          "execution_count": 36
        }
      ]
    },
    {
      "cell_type": "markdown",
      "metadata": {
        "id": "Gzo_rVT60fDf"
      },
      "source": [
        "### 4.13 Perform univariate analysis. Check distribution of price, user_rating"
      ]
    },
    {
      "cell_type": "code",
      "metadata": {
        "colab": {
          "base_uri": "https://localhost:8080/",
          "height": 279
        },
        "id": "EVd0FFx5blk1",
        "outputId": "a47f6ca5-daa9-4ccc-aae1-2eb504d13d78"
      },
      "source": [
        "verified_reviews['user_rating'].value_counts().plot(kind='bar')"
      ],
      "execution_count": 37,
      "outputs": [
        {
          "output_type": "execute_result",
          "data": {
            "text/plain": [
              "<matplotlib.axes._subplots.AxesSubplot at 0x7f9c90756790>"
            ]
          },
          "metadata": {
            "tags": []
          },
          "execution_count": 37
        },
        {
          "output_type": "display_data",
          "data": {
            "image/png": "[encoded data removed]",
            "text/plain": [
              "<Figure size 432x288 with 1 Axes>"
            ]
          },
          "metadata": {
            "tags": [],
            "needs_background": "light"
          }
        }
      ]
    },
    {
      "cell_type": "markdown",
      "metadata": {
        "id": "x0Y_kE9T0uAf"
      },
      "source": [
        "### 4.14 Create a new column called \"sentiment\". It should have value as 1 (positive) if the user_Rating is greater than 3, value as 0 (neutral) if the user_Rating == 3, and -1 (negative) is the user_Rating is less than 3."
      ]
    },
    {
      "cell_type": "code",
      "metadata": {
        "id": "jGon-2xU1Ujb"
      },
      "source": [
        "verified_reviews[\"sentiment\"] = verified_reviews['user_rating'].apply(lambda x:1 if x>3 else(0 if x==3 else(-1)))"
      ],
      "execution_count": 38,
      "outputs": []
    },
    {
      "cell_type": "code",
      "metadata": {
        "colab": {
          "base_uri": "https://localhost:8080/"
        },
        "id": "SnXKyR8ne_Yl",
        "outputId": "0a77f63d-7f5c-47e3-b828-392b7d2b1ac7"
      },
      "source": [
        "verified_reviews[\"sentiment\"].value_counts()"
      ],
      "execution_count": 39,
      "outputs": [
        {
          "output_type": "execute_result",
          "data": {
            "text/plain": [
              " 1    42939\n",
              "-1    14158\n",
              " 0     4128\n",
              "Name: sentiment, dtype: int64"
            ]
          },
          "metadata": {
            "tags": []
          },
          "execution_count": 39
        }
      ]
    },
    {
      "cell_type": "markdown",
      "metadata": {
        "id": "K4rxSZWp1VAb"
      },
      "source": [
        "### 4.15 Check frequency distribution of the 'sentiment'"
      ]
    },
    {
      "cell_type": "code",
      "metadata": {
        "id": "yt3gH7Iz1dVP",
        "colab": {
          "base_uri": "https://localhost:8080/",
          "height": 282
        },
        "outputId": "47026325-5a43-4780-bda9-9f16aa7cef1c"
      },
      "source": [
        "verified_reviews[\"sentiment\"].value_counts().plot(kind='bar')"
      ],
      "execution_count": 40,
      "outputs": [
        {
          "output_type": "execute_result",
          "data": {
            "text/plain": [
              "<matplotlib.axes._subplots.AxesSubplot at 0x7f9c86b15610>"
            ]
          },
          "metadata": {
            "tags": []
          },
          "execution_count": 40
        },
        {
          "output_type": "display_data",
          "data": {
            "image/png": "[encoded data removed]",
            "text/plain": [
              "<Figure size 432x288 with 1 Axes>"
            ]
          },
          "metadata": {
            "tags": [],
            "needs_background": "light"
          }
        }
      ]
    },
    {
      "cell_type": "markdown",
      "metadata": {
        "id": "rK0KMghP1ddb"
      },
      "source": [
        "### 4.16 Perform bivariate analysis. Check correlation/crosstab between features and write your inferences."
      ]
    },
    {
      "cell_type": "code",
      "metadata": {
        "id": "scAV4fRg1nX0",
        "colab": {
          "base_uri": "https://localhost:8080/",
          "height": 390
        },
        "outputId": "f3ba059b-580c-49b3-a707-acd85c1c274c"
      },
      "source": [
        "pd.crosstab(verified_reviews['sentiment'],verified_reviews['brand']).T"
      ],
      "execution_count": 41,
      "outputs": [
        {
          "output_type": "execute_result",
          "data": {
            "text/html": [
              "<div>\n",
              "<style scoped>\n",
              "    .dataframe tbody tr th:only-of-type {\n",
              "        vertical-align: middle;\n",
              "    }\n",
              "\n",
              "    .dataframe tbody tr th {\n",
              "        vertical-align: top;\n",
              "    }\n",
              "\n",
              "    .dataframe thead th {\n",
              "        text-align: right;\n",
              "    }\n",
              "</style>\n",
              "<table border=\"1\" class=\"dataframe\">\n",
              "  <thead>\n",
              "    <tr style=\"text-align: right;\">\n",
              "      <th>sentiment</th>\n",
              "      <th>-1</th>\n",
              "      <th>0</th>\n",
              "      <th>1</th>\n",
              "    </tr>\n",
              "    <tr>\n",
              "      <th>brand</th>\n",
              "      <th></th>\n",
              "      <th></th>\n",
              "      <th></th>\n",
              "    </tr>\n",
              "  </thead>\n",
              "  <tbody>\n",
              "    <tr>\n",
              "      <th>ASUS</th>\n",
              "      <td>49</td>\n",
              "      <td>20</td>\n",
              "      <td>137</td>\n",
              "    </tr>\n",
              "    <tr>\n",
              "      <th>Apple</th>\n",
              "      <td>1320</td>\n",
              "      <td>307</td>\n",
              "      <td>3249</td>\n",
              "    </tr>\n",
              "    <tr>\n",
              "      <th>Google</th>\n",
              "      <td>804</td>\n",
              "      <td>207</td>\n",
              "      <td>2152</td>\n",
              "    </tr>\n",
              "    <tr>\n",
              "      <th>HUAWEI</th>\n",
              "      <td>261</td>\n",
              "      <td>105</td>\n",
              "      <td>1653</td>\n",
              "    </tr>\n",
              "    <tr>\n",
              "      <th>Motorola</th>\n",
              "      <td>1667</td>\n",
              "      <td>553</td>\n",
              "      <td>5494</td>\n",
              "    </tr>\n",
              "    <tr>\n",
              "      <th>Nokia</th>\n",
              "      <td>1437</td>\n",
              "      <td>467</td>\n",
              "      <td>2974</td>\n",
              "    </tr>\n",
              "    <tr>\n",
              "      <th>OnePlus</th>\n",
              "      <td>34</td>\n",
              "      <td>11</td>\n",
              "      <td>259</td>\n",
              "    </tr>\n",
              "    <tr>\n",
              "      <th>Samsung</th>\n",
              "      <td>7469</td>\n",
              "      <td>2030</td>\n",
              "      <td>21521</td>\n",
              "    </tr>\n",
              "    <tr>\n",
              "      <th>Sony</th>\n",
              "      <td>663</td>\n",
              "      <td>216</td>\n",
              "      <td>1812</td>\n",
              "    </tr>\n",
              "    <tr>\n",
              "      <th>Xiaomi</th>\n",
              "      <td>427</td>\n",
              "      <td>201</td>\n",
              "      <td>3579</td>\n",
              "    </tr>\n",
              "  </tbody>\n",
              "</table>\n",
              "</div>"
            ],
            "text/plain": [
              "sentiment    -1     0      1\n",
              "brand                       \n",
              "ASUS         49    20    137\n",
              "Apple      1320   307   3249\n",
              "Google      804   207   2152\n",
              "HUAWEI      261   105   1653\n",
              "Motorola   1667   553   5494\n",
              "Nokia      1437   467   2974\n",
              "OnePlus      34    11    259\n",
              "Samsung    7469  2030  21521\n",
              "Sony        663   216   1812\n",
              "Xiaomi      427   201   3579"
            ]
          },
          "metadata": {
            "tags": []
          },
          "execution_count": 41
        }
      ]
    },
    {
      "cell_type": "code",
      "metadata": {
        "colab": {
          "base_uri": "https://localhost:8080/",
          "height": 111
        },
        "id": "hSmi8rnHgLF3",
        "outputId": "3266bc61-a94d-4831-f3a3-ef6a6faae880"
      },
      "source": [
        "verified_reviews.corr()"
      ],
      "execution_count": 42,
      "outputs": [
        {
          "output_type": "execute_result",
          "data": {
            "text/html": [
              "<div>\n",
              "<style scoped>\n",
              "    .dataframe tbody tr th:only-of-type {\n",
              "        vertical-align: middle;\n",
              "    }\n",
              "\n",
              "    .dataframe tbody tr th {\n",
              "        vertical-align: top;\n",
              "    }\n",
              "\n",
              "    .dataframe thead th {\n",
              "        text-align: right;\n",
              "    }\n",
              "</style>\n",
              "<table border=\"1\" class=\"dataframe\">\n",
              "  <thead>\n",
              "    <tr style=\"text-align: right;\">\n",
              "      <th></th>\n",
              "      <th>user_rating</th>\n",
              "      <th>sentiment</th>\n",
              "    </tr>\n",
              "  </thead>\n",
              "  <tbody>\n",
              "    <tr>\n",
              "      <th>user_rating</th>\n",
              "      <td>1.0000000</td>\n",
              "      <td>0.9694496</td>\n",
              "    </tr>\n",
              "    <tr>\n",
              "      <th>sentiment</th>\n",
              "      <td>0.9694496</td>\n",
              "      <td>1.0000000</td>\n",
              "    </tr>\n",
              "  </tbody>\n",
              "</table>\n",
              "</div>"
            ],
            "text/plain": [
              "             user_rating  sentiment\n",
              "user_rating    1.0000000  0.9694496\n",
              "sentiment      0.9694496  1.0000000"
            ]
          },
          "metadata": {
            "tags": []
          },
          "execution_count": 42
        }
      ]
    },
    {
      "cell_type": "markdown",
      "metadata": {
        "id": "qtE9W1GxPH5n"
      },
      "source": [
        "Observation:\n",
        "1. As per correlation value ,'user_rating' and 'sentiment' are highly correlated with each other.\n",
        "2. with the crosstab function we can observed that samsung is having  maximum count in positive as well as negative reviews."
      ]
    },
    {
      "cell_type": "markdown",
      "metadata": {
        "id": "2Nzj7ZXVLakx"
      },
      "source": [
        "## 5. Text Preprocessing and Vectorization"
      ]
    },
    {
      "cell_type": "markdown",
      "metadata": {
        "id": "ZbC_RPndnlf3"
      },
      "source": [
        "We will analyze the 'body' and 'review_title' to gain more understanding.\n",
        "\n",
        "We will ppeform the below tasks\n",
        "\n",
        "- Convert the text into lowercase\n",
        "- Remove punctuation\n",
        "- Remove stopwords (English, from nltk corpus)\n",
        "- Remove other keywords like \"phone\" and brand name"
      ]
    },
    {
      "cell_type": "markdown",
      "metadata": {
        "id": "XnhMQsxz2DJH"
      },
      "source": [
        "### 5.1 Change the datatype of the 'body' column to 'str' and convert it into lowercase. Print any two samples and check the output."
      ]
    },
    {
      "cell_type": "code",
      "metadata": {
        "id": "1DbTf2yc2VOQ",
        "colab": {
          "base_uri": "https://localhost:8080/"
        },
        "outputId": "4e5710ba-69ff-4a1b-ffe9-1a74bf4dba59"
      },
      "source": [
        "verified_reviews['body'].dtypes"
      ],
      "execution_count": 43,
      "outputs": [
        {
          "output_type": "execute_result",
          "data": {
            "text/plain": [
              "dtype('O')"
            ]
          },
          "metadata": {
            "tags": []
          },
          "execution_count": 43
        }
      ]
    },
    {
      "cell_type": "code",
      "metadata": {
        "colab": {
          "base_uri": "https://localhost:8080/",
          "height": 111
        },
        "id": "5uZqxroth2AJ",
        "outputId": "0f3c9898-8dc5-4890-b322-274312afb1e2"
      },
      "source": [
        "verified_reviews.sample(2)"
      ],
      "execution_count": 44,
      "outputs": [
        {
          "output_type": "execute_result",
          "data": {
            "text/html": [
              "<div>\n",
              "<style scoped>\n",
              "    .dataframe tbody tr th:only-of-type {\n",
              "        vertical-align: middle;\n",
              "    }\n",
              "\n",
              "    .dataframe tbody tr th {\n",
              "        vertical-align: top;\n",
              "    }\n",
              "\n",
              "    .dataframe thead th {\n",
              "        text-align: right;\n",
              "    }\n",
              "</style>\n",
              "<table border=\"1\" class=\"dataframe\">\n",
              "  <thead>\n",
              "    <tr style=\"text-align: right;\">\n",
              "      <th></th>\n",
              "      <th>user_rating</th>\n",
              "      <th>review_title</th>\n",
              "      <th>body</th>\n",
              "      <th>brand</th>\n",
              "      <th>sentiment</th>\n",
              "    </tr>\n",
              "  </thead>\n",
              "  <tbody>\n",
              "    <tr>\n",
              "      <th>9079</th>\n",
              "      <td>5</td>\n",
              "      <td>Good bang for your buck</td>\n",
              "      <td>Price was good got it for my delivery driver, ...</td>\n",
              "      <td>Samsung</td>\n",
              "      <td>1</td>\n",
              "    </tr>\n",
              "    <tr>\n",
              "      <th>16212</th>\n",
              "      <td>3</td>\n",
              "      <td>Works fine, current company i use for this pho...</td>\n",
              "      <td>Works fine, current company i use for this pho...</td>\n",
              "      <td>Samsung</td>\n",
              "      <td>0</td>\n",
              "    </tr>\n",
              "  </tbody>\n",
              "</table>\n",
              "</div>"
            ],
            "text/plain": [
              "       user_rating                                       review_title  \\\n",
              "9079             5                            Good bang for your buck   \n",
              "16212            3  Works fine, current company i use for this pho...   \n",
              "\n",
              "                                                    body    brand  sentiment  \n",
              "9079   Price was good got it for my delivery driver, ...  Samsung          1  \n",
              "16212  Works fine, current company i use for this pho...  Samsung          0  "
            ]
          },
          "metadata": {
            "tags": []
          },
          "execution_count": 44
        }
      ]
    },
    {
      "cell_type": "code",
      "metadata": {
        "id": "8zl27UQQhfFt"
      },
      "source": [
        "verified_reviews['body']=verified_reviews['body'].astype('str').apply(lambda x: x.lower())"
      ],
      "execution_count": 45,
      "outputs": []
    },
    {
      "cell_type": "code",
      "metadata": {
        "colab": {
          "base_uri": "https://localhost:8080/",
          "height": 111
        },
        "id": "YiscMPgJhuEx",
        "outputId": "cc58388f-55d5-4c5c-afef-08a6f18ab1a9"
      },
      "source": [
        "verified_reviews.sample(2)"
      ],
      "execution_count": 46,
      "outputs": [
        {
          "output_type": "execute_result",
          "data": {
            "text/html": [
              "<div>\n",
              "<style scoped>\n",
              "    .dataframe tbody tr th:only-of-type {\n",
              "        vertical-align: middle;\n",
              "    }\n",
              "\n",
              "    .dataframe tbody tr th {\n",
              "        vertical-align: top;\n",
              "    }\n",
              "\n",
              "    .dataframe thead th {\n",
              "        text-align: right;\n",
              "    }\n",
              "</style>\n",
              "<table border=\"1\" class=\"dataframe\">\n",
              "  <thead>\n",
              "    <tr style=\"text-align: right;\">\n",
              "      <th></th>\n",
              "      <th>user_rating</th>\n",
              "      <th>review_title</th>\n",
              "      <th>body</th>\n",
              "      <th>brand</th>\n",
              "      <th>sentiment</th>\n",
              "    </tr>\n",
              "  </thead>\n",
              "  <tbody>\n",
              "    <tr>\n",
              "      <th>25254</th>\n",
              "      <td>2</td>\n",
              "      <td>Don’t waste your money</td>\n",
              "      <td>i have had this phone for 2 months. today the ...</td>\n",
              "      <td>Samsung</td>\n",
              "      <td>-1</td>\n",
              "    </tr>\n",
              "    <tr>\n",
              "      <th>33108</th>\n",
              "      <td>1</td>\n",
              "      <td>Don't work !!??</td>\n",
              "      <td>i'm very upset i bought this phone and two day...</td>\n",
              "      <td>Samsung</td>\n",
              "      <td>-1</td>\n",
              "    </tr>\n",
              "  </tbody>\n",
              "</table>\n",
              "</div>"
            ],
            "text/plain": [
              "       user_rating            review_title  \\\n",
              "25254            2  Don’t waste your money   \n",
              "33108            1         Don't work !!??   \n",
              "\n",
              "                                                    body    brand  sentiment  \n",
              "25254  i have had this phone for 2 months. today the ...  Samsung         -1  \n",
              "33108  i'm very upset i bought this phone and two day...  Samsung         -1  "
            ]
          },
          "metadata": {
            "tags": []
          },
          "execution_count": 46
        }
      ]
    },
    {
      "cell_type": "markdown",
      "metadata": {
        "id": "lsppV0X52VXf"
      },
      "source": [
        "### 5.2 Remove punctuations from the lowercased 'body' column and display at least two samples."
      ]
    },
    {
      "cell_type": "code",
      "metadata": {
        "id": "lQXKc8et2onG"
      },
      "source": [
        "verified_reviews['body'] = verified_reviews['body'].replace('[^\\w\\s]','',regex=True)"
      ],
      "execution_count": 47,
      "outputs": []
    },
    {
      "cell_type": "code",
      "metadata": {
        "colab": {
          "base_uri": "https://localhost:8080/",
          "height": 204
        },
        "id": "-E7dk6vqjU9P",
        "outputId": "920aa6d7-c897-40c1-9c98-b35d7843459d"
      },
      "source": [
        "verified_reviews.sample(5)"
      ],
      "execution_count": 48,
      "outputs": [
        {
          "output_type": "execute_result",
          "data": {
            "text/html": [
              "<div>\n",
              "<style scoped>\n",
              "    .dataframe tbody tr th:only-of-type {\n",
              "        vertical-align: middle;\n",
              "    }\n",
              "\n",
              "    .dataframe tbody tr th {\n",
              "        vertical-align: top;\n",
              "    }\n",
              "\n",
              "    .dataframe thead th {\n",
              "        text-align: right;\n",
              "    }\n",
              "</style>\n",
              "<table border=\"1\" class=\"dataframe\">\n",
              "  <thead>\n",
              "    <tr style=\"text-align: right;\">\n",
              "      <th></th>\n",
              "      <th>user_rating</th>\n",
              "      <th>review_title</th>\n",
              "      <th>body</th>\n",
              "      <th>brand</th>\n",
              "      <th>sentiment</th>\n",
              "    </tr>\n",
              "  </thead>\n",
              "  <tbody>\n",
              "    <tr>\n",
              "      <th>32790</th>\n",
              "      <td>1</td>\n",
              "      <td>... have to pay to return this phone not a happy</td>\n",
              "      <td>now i have to pay to return this phone not a h...</td>\n",
              "      <td>Samsung</td>\n",
              "      <td>-1</td>\n",
              "    </tr>\n",
              "    <tr>\n",
              "      <th>32877</th>\n",
              "      <td>4</td>\n",
              "      <td>item is ok</td>\n",
              "      <td>i liked the item</td>\n",
              "      <td>Samsung</td>\n",
              "      <td>1</td>\n",
              "    </tr>\n",
              "    <tr>\n",
              "      <th>63990</th>\n",
              "      <td>2</td>\n",
              "      <td>Arrived damaged</td>\n",
              "      <td>arrived with a scratched screen quality does n...</td>\n",
              "      <td>Samsung</td>\n",
              "      <td>-1</td>\n",
              "    </tr>\n",
              "    <tr>\n",
              "      <th>32282</th>\n",
              "      <td>5</td>\n",
              "      <td>Five Stars</td>\n",
              "      <td>easy phone to use does everything i need it fo...</td>\n",
              "      <td>Samsung</td>\n",
              "      <td>1</td>\n",
              "    </tr>\n",
              "    <tr>\n",
              "      <th>61072</th>\n",
              "      <td>5</td>\n",
              "      <td>Great Product</td>\n",
              "      <td>love it</td>\n",
              "      <td>Samsung</td>\n",
              "      <td>1</td>\n",
              "    </tr>\n",
              "  </tbody>\n",
              "</table>\n",
              "</div>"
            ],
            "text/plain": [
              "       user_rating                                      review_title  \\\n",
              "32790            1  ... have to pay to return this phone not a happy   \n",
              "32877            4                                        item is ok   \n",
              "63990            2                                   Arrived damaged   \n",
              "32282            5                                        Five Stars   \n",
              "61072            5                                     Great Product   \n",
              "\n",
              "                                                    body    brand  sentiment  \n",
              "32790  now i have to pay to return this phone not a h...  Samsung         -1  \n",
              "32877                                   i liked the item  Samsung          1  \n",
              "63990  arrived with a scratched screen quality does n...  Samsung         -1  \n",
              "32282  easy phone to use does everything i need it fo...  Samsung          1  \n",
              "61072                                            love it  Samsung          1  "
            ]
          },
          "metadata": {
            "tags": []
          },
          "execution_count": 48
        }
      ]
    },
    {
      "cell_type": "markdown",
      "metadata": {
        "id": "8Zk7ja6A2owN"
      },
      "source": [
        "### 5.3 Remove stop words from the above pre-processed 'body' column and display at least two samples."
      ]
    },
    {
      "cell_type": "code",
      "metadata": {
        "colab": {
          "base_uri": "https://localhost:8080/"
        },
        "id": "Fc_2bKu5jrfH",
        "outputId": "a91ec91c-f075-4445-de6e-ff01f5b9d24c"
      },
      "source": [
        "import nltk\n",
        "from nltk.corpus import stopwords\n",
        "nltk.download('stopwords')"
      ],
      "execution_count": 49,
      "outputs": [
        {
          "output_type": "stream",
          "text": [
            "[nltk_data] Downloading package stopwords to /root/nltk_data...\n",
            "[nltk_data]   Package stopwords is already up-to-date!\n"
          ],
          "name": "stdout"
        },
        {
          "output_type": "execute_result",
          "data": {
            "text/plain": [
              "True"
            ]
          },
          "metadata": {
            "tags": []
          },
          "execution_count": 49
        }
      ]
    },
    {
      "cell_type": "code",
      "metadata": {
        "id": "n6jj7L6hj3CJ"
      },
      "source": [
        "stop = set(stopwords.words('english'))"
      ],
      "execution_count": 50,
      "outputs": []
    },
    {
      "cell_type": "code",
      "metadata": {
        "id": "1d-DhX_e2yQ-"
      },
      "source": [
        "verified_reviews['body'] = verified_reviews['body'].apply(lambda words: \" \".join (word for word in words.split() if word not in stop))"
      ],
      "execution_count": 51,
      "outputs": []
    },
    {
      "cell_type": "code",
      "metadata": {
        "colab": {
          "base_uri": "https://localhost:8080/"
        },
        "id": "n4Rk_RNsnbcr",
        "outputId": "1df15c1d-430b-4965-8e80-57beba4e8309"
      },
      "source": [
        "verified_reviews['body'].head(5)"
      ],
      "execution_count": 52,
      "outputs": [
        {
          "output_type": "execute_result",
          "data": {
            "text/plain": [
              "14                                     dont buy service\n",
              "17      1 star phones locked pay additional fees unlock\n",
              "18    product good used cell phone one projects work...\n",
              "21    bought phone replace lg phone didnt like expec...\n",
              "22    purchased phone att phone replacement even tho...\n",
              "Name: body, dtype: object"
            ]
          },
          "metadata": {
            "tags": []
          },
          "execution_count": 52
        }
      ]
    },
    {
      "cell_type": "markdown",
      "metadata": {
        "id": "TQNvXay42yaQ"
      },
      "source": [
        "### 5.4 Apply lemmatisation on the above preprocessed text and display a few samples"
      ]
    },
    {
      "cell_type": "code",
      "metadata": {
        "id": "oQ1VfFaa3DET",
        "colab": {
          "base_uri": "https://localhost:8080/"
        },
        "outputId": "3759e291-6a16-43be-d276-c94db4f230b8"
      },
      "source": [
        "nltk.download('wordnet')"
      ],
      "execution_count": 53,
      "outputs": [
        {
          "output_type": "stream",
          "text": [
            "[nltk_data] Downloading package wordnet to /root/nltk_data...\n",
            "[nltk_data]   Package wordnet is already up-to-date!\n"
          ],
          "name": "stdout"
        },
        {
          "output_type": "execute_result",
          "data": {
            "text/plain": [
              "True"
            ]
          },
          "metadata": {
            "tags": []
          },
          "execution_count": 53
        }
      ]
    },
    {
      "cell_type": "code",
      "metadata": {
        "id": "SgZQvHptqGzS"
      },
      "source": [
        "w_token = nltk.tokenize.WhitespaceTokenizer()\n",
        "lemmatisation = nltk.stem.WordNetLemmatizer()"
      ],
      "execution_count": 54,
      "outputs": []
    },
    {
      "cell_type": "code",
      "metadata": {
        "id": "L2a_4D5Spcti"
      },
      "source": [
        "def lam_txt(text):\n",
        "  out_text = [lemmatisation.lemmatize(word)for word in w_token.tokenize(text)]\n",
        "  return out_text"
      ],
      "execution_count": 55,
      "outputs": []
    },
    {
      "cell_type": "code",
      "metadata": {
        "id": "pMfVndYXo_uH"
      },
      "source": [
        "verified_reviews['keywords'] = verified_reviews['body'].apply(lam_txt)\n",
        "verified_reviews['clean_text']=verified_reviews['keywords'].apply(lambda x: \" \".join([word for word in x]))"
      ],
      "execution_count": 56,
      "outputs": []
    },
    {
      "cell_type": "code",
      "metadata": {
        "colab": {
          "base_uri": "https://localhost:8080/",
          "height": 272
        },
        "id": "XZSA-_ThpL-p",
        "outputId": "249930e5-7986-4cf3-e2bf-dddb33bce0e2"
      },
      "source": [
        "verified_reviews.sample(5)"
      ],
      "execution_count": 57,
      "outputs": [
        {
          "output_type": "execute_result",
          "data": {
            "text/html": [
              "<div>\n",
              "<style scoped>\n",
              "    .dataframe tbody tr th:only-of-type {\n",
              "        vertical-align: middle;\n",
              "    }\n",
              "\n",
              "    .dataframe tbody tr th {\n",
              "        vertical-align: top;\n",
              "    }\n",
              "\n",
              "    .dataframe thead th {\n",
              "        text-align: right;\n",
              "    }\n",
              "</style>\n",
              "<table border=\"1\" class=\"dataframe\">\n",
              "  <thead>\n",
              "    <tr style=\"text-align: right;\">\n",
              "      <th></th>\n",
              "      <th>user_rating</th>\n",
              "      <th>review_title</th>\n",
              "      <th>body</th>\n",
              "      <th>brand</th>\n",
              "      <th>sentiment</th>\n",
              "      <th>keywords</th>\n",
              "      <th>clean_text</th>\n",
              "    </tr>\n",
              "  </thead>\n",
              "  <tbody>\n",
              "    <tr>\n",
              "      <th>37133</th>\n",
              "      <td>5</td>\n",
              "      <td>This is an A+ seller -- great customer service</td>\n",
              "      <td>seller great customer service quality product ...</td>\n",
              "      <td>Google</td>\n",
              "      <td>1</td>\n",
              "      <td>[seller, great, customer, service, quality, pr...</td>\n",
              "      <td>seller great customer service quality product ...</td>\n",
              "    </tr>\n",
              "    <tr>\n",
              "      <th>15063</th>\n",
              "      <td>5</td>\n",
              "      <td>Five Stars</td>\n",
              "      <td>excelent product</td>\n",
              "      <td>Nokia</td>\n",
              "      <td>1</td>\n",
              "      <td>[excelent, product]</td>\n",
              "      <td>excelent product</td>\n",
              "    </tr>\n",
              "    <tr>\n",
              "      <th>67185</th>\n",
              "      <td>5</td>\n",
              "      <td>Best from Redmi</td>\n",
              "      <td>received expecting cellphone big screen really...</td>\n",
              "      <td>Xiaomi</td>\n",
              "      <td>1</td>\n",
              "      <td>[received, expecting, cellphone, big, screen, ...</td>\n",
              "      <td>received expecting cellphone big screen really...</td>\n",
              "    </tr>\n",
              "    <tr>\n",
              "      <th>62297</th>\n",
              "      <td>4</td>\n",
              "      <td>A Decent Phone On Paper That's Riddled With Bu...</td>\n",
              "      <td>first warning even major update designed fix f...</td>\n",
              "      <td>Samsung</td>\n",
              "      <td>1</td>\n",
              "      <td>[first, warning, even, major, update, designed...</td>\n",
              "      <td>first warning even major update designed fix f...</td>\n",
              "    </tr>\n",
              "    <tr>\n",
              "      <th>11166</th>\n",
              "      <td>5</td>\n",
              "      <td>Great phone for the price</td>\n",
              "      <td>phone easy use extremely easy set especially t...</td>\n",
              "      <td>Nokia</td>\n",
              "      <td>1</td>\n",
              "      <td>[phone, easy, use, extremely, easy, set, espec...</td>\n",
              "      <td>phone easy use extremely easy set especially t...</td>\n",
              "    </tr>\n",
              "  </tbody>\n",
              "</table>\n",
              "</div>"
            ],
            "text/plain": [
              "       user_rating                                       review_title  \\\n",
              "37133            5     This is an A+ seller -- great customer service   \n",
              "15063            5                                         Five Stars   \n",
              "67185            5                                    Best from Redmi   \n",
              "62297            4  A Decent Phone On Paper That's Riddled With Bu...   \n",
              "11166            5                          Great phone for the price   \n",
              "\n",
              "                                                    body    brand  sentiment  \\\n",
              "37133  seller great customer service quality product ...   Google          1   \n",
              "15063                                   excelent product    Nokia          1   \n",
              "67185  received expecting cellphone big screen really...   Xiaomi          1   \n",
              "62297  first warning even major update designed fix f...  Samsung          1   \n",
              "11166  phone easy use extremely easy set especially t...    Nokia          1   \n",
              "\n",
              "                                                keywords  \\\n",
              "37133  [seller, great, customer, service, quality, pr...   \n",
              "15063                                [excelent, product]   \n",
              "67185  [received, expecting, cellphone, big, screen, ...   \n",
              "62297  [first, warning, even, major, update, designed...   \n",
              "11166  [phone, easy, use, extremely, easy, set, espec...   \n",
              "\n",
              "                                              clean_text  \n",
              "37133  seller great customer service quality product ...  \n",
              "15063                                   excelent product  \n",
              "67185  received expecting cellphone big screen really...  \n",
              "62297  first warning even major update designed fix f...  \n",
              "11166  phone easy use extremely easy set especially t...  "
            ]
          },
          "metadata": {
            "tags": []
          },
          "execution_count": 57
        }
      ]
    },
    {
      "cell_type": "markdown",
      "metadata": {
        "id": "OzweL_fA3DiN"
      },
      "source": [
        "### 5.5 Write a function to check word frequency of the text"
      ]
    },
    {
      "cell_type": "code",
      "metadata": {
        "id": "sQ3ARIzjErHk"
      },
      "source": [
        "def freq(str): \n",
        "\n",
        "\t# break the string into list of words \n",
        "\tstr_list = str.split() \n",
        "\n",
        "\t# gives set of unique words \n",
        "\tunique_words = set(str_list) \n",
        "\t\n",
        "\tfor words in unique_words : \n",
        "\t\tprint('Frequency of ', words , 'is :', str_list.count(words)) "
      ],
      "execution_count": 58,
      "outputs": []
    },
    {
      "cell_type": "code",
      "metadata": {
        "colab": {
          "base_uri": "https://localhost:8080/"
        },
        "id": "1IgHB2BxHb02",
        "outputId": "06b3d875-427f-4b8e-e4f2-75443e3a6e8f"
      },
      "source": [
        "if __name__ == \"__main__\": \n",
        "\tstr ='1 star phones locked pay additional fees unlock'\n",
        "\tfreq(str) "
      ],
      "execution_count": 59,
      "outputs": [
        {
          "output_type": "stream",
          "text": [
            "Frequency of  1 is : 1\n",
            "Frequency of  locked is : 1\n",
            "Frequency of  fees is : 1\n",
            "Frequency of  unlock is : 1\n",
            "Frequency of  pay is : 1\n",
            "Frequency of  star is : 1\n",
            "Frequency of  phones is : 1\n",
            "Frequency of  additional is : 1\n"
          ],
          "name": "stdout"
        }
      ]
    },
    {
      "cell_type": "code",
      "metadata": {
        "id": "MzIAyX3N6lz5",
        "colab": {
          "base_uri": "https://localhost:8080/"
        },
        "outputId": "082d32d1-ed29-4e8d-b103-209fd49f7b58"
      },
      "source": [
        "top_N = 20\n",
        "dist = nltk.FreqDist(verified_reviews['body'])\n",
        "print('All frequencies')\n",
        "\n",
        "wf=pd.DataFrame(dist.most_common(top_N),columns=['Word','Frequency'])\n",
        "\n",
        "print(wf)"
      ],
      "execution_count": 60,
      "outputs": [
        {
          "output_type": "stream",
          "text": [
            "All frequencies\n",
            "             Word  Frequency\n",
            "0            good        737\n",
            "1     great phone        409\n",
            "2            love        373\n",
            "3           great        248\n",
            "4      love phone        225\n",
            "5       excellent        221\n",
            "6       excelente        198\n",
            "7      good phone        176\n",
            "8         perfect        169\n",
            "9              ok        144\n",
            "10                       140\n",
            "11           nice        136\n",
            "12    works great        118\n",
            "13     nice phone        109\n",
            "14           like        102\n",
            "15   good product        100\n",
            "16  great product         95\n",
            "17      muy bueno         73\n",
            "18       excelent         65\n",
            "19        awesome         64\n"
          ],
          "name": "stdout"
        }
      ]
    },
    {
      "cell_type": "markdown",
      "metadata": {
        "id": "s0UgcEo_6l8O"
      },
      "source": [
        "### 5.6 Check word frequency of review having top ratings (sentiment = 1) and display output of few samples"
      ]
    },
    {
      "cell_type": "code",
      "metadata": {
        "id": "BLEEFEmv60mU"
      },
      "source": [
        "sentiments_1 = verified_reviews[verified_reviews['sentiment']==1]"
      ],
      "execution_count": 61,
      "outputs": []
    },
    {
      "cell_type": "code",
      "metadata": {
        "colab": {
          "base_uri": "https://localhost:8080/"
        },
        "id": "WxlD2xXgI23c",
        "outputId": "7a90d924-e0b0-4f70-ef92-85f6a5510f29"
      },
      "source": [
        "pd.options.display.max_colwidth = 200\n",
        "sentiments_1['body'].head(5)"
      ],
      "execution_count": 62,
      "outputs": [
        {
          "output_type": "execute_result",
          "data": {
            "text/plain": [
              "18                                                                                                     product good used cell phone one projects worked wonders definitely recommend anyone interested buying\n",
              "21    bought phone replace lg phone didnt like expected put old sim card new phone worked two serious drawbacks device related candy bar style first buttons exposed easy hit one accidentally second scre...\n",
              "24                                                                                                                                                                                     served well back phone\n",
              "26                                                                                                                               sturdy clarity great easy use problem speaker option big issue im living atm\n",
              "28                                                       beautiful job used item att account good see bill little avoided big amount billsi would recommend product body good quality really met expectations\n",
              "Name: body, dtype: object"
            ]
          },
          "metadata": {
            "tags": []
          },
          "execution_count": 62
        }
      ]
    },
    {
      "cell_type": "code",
      "metadata": {
        "colab": {
          "base_uri": "https://localhost:8080/"
        },
        "id": "voMAS6XUIswu",
        "outputId": "8559472c-c4f4-44e1-c5b7-b53a6f503521"
      },
      "source": [
        "if __name__ == \"__main__\": \n",
        "\tstr ='product good used cell phone one projects worked wonders definitely recommend anyone interested buying'\n",
        "\tfreq(str) "
      ],
      "execution_count": 63,
      "outputs": [
        {
          "output_type": "stream",
          "text": [
            "Frequency of  worked is : 1\n",
            "Frequency of  anyone is : 1\n",
            "Frequency of  product is : 1\n",
            "Frequency of  wonders is : 1\n",
            "Frequency of  used is : 1\n",
            "Frequency of  definitely is : 1\n",
            "Frequency of  one is : 1\n",
            "Frequency of  buying is : 1\n",
            "Frequency of  cell is : 1\n",
            "Frequency of  phone is : 1\n",
            "Frequency of  recommend is : 1\n",
            "Frequency of  projects is : 1\n",
            "Frequency of  good is : 1\n",
            "Frequency of  interested is : 1\n"
          ],
          "name": "stdout"
        }
      ]
    },
    {
      "cell_type": "code",
      "metadata": {
        "colab": {
          "base_uri": "https://localhost:8080/"
        },
        "id": "fHgu07VZ6xtv",
        "outputId": "b38bdc19-23fa-4352-e8f7-1fa64cd8a4b5"
      },
      "source": [
        "top_N = 20\n",
        "dist = nltk.FreqDist(sentiments_1['body'])\n",
        "print('All frequencies')\n",
        "f=pd.DataFrame(dist.most_common(top_N),columns=['Word','Frequency'])\n",
        "print(f)"
      ],
      "execution_count": 64,
      "outputs": [
        {
          "output_type": "stream",
          "text": [
            "All frequencies\n",
            "             Word  Frequency\n",
            "0            good        683\n",
            "1     great phone        408\n",
            "2            love        369\n",
            "3           great        247\n",
            "4      love phone        225\n",
            "5       excellent        221\n",
            "6       excelente        198\n",
            "7      good phone        171\n",
            "8         perfect        169\n",
            "9            nice        129\n",
            "10                       125\n",
            "11             ok        120\n",
            "12    works great        118\n",
            "13     nice phone        107\n",
            "14           like        101\n",
            "15   good product         98\n",
            "16  great product         93\n",
            "17      muy bueno         73\n",
            "18       excelent         65\n",
            "19        awesome         63\n"
          ],
          "name": "stdout"
        }
      ]
    },
    {
      "cell_type": "markdown",
      "metadata": {
        "id": "9UbdTGsv60t1"
      },
      "source": [
        "### 5.7 Initialize tf-idf vectorizer and transform the preprocessed body text"
      ]
    },
    {
      "cell_type": "code",
      "metadata": {
        "id": "DDi6H3UNsTXH"
      },
      "source": [
        "from sklearn.feature_extraction.text import TfidfVectorizer\n",
        "tfidf = TfidfVectorizer()"
      ],
      "execution_count": 65,
      "outputs": []
    },
    {
      "cell_type": "code",
      "metadata": {
        "id": "_Jfo6go_69yh"
      },
      "source": [
        "tfidf_trans = tfidf.fit_transform(verified_reviews['clean_text'])"
      ],
      "execution_count": 66,
      "outputs": []
    },
    {
      "cell_type": "markdown",
      "metadata": {
        "id": "5dqPXETLKN0h"
      },
      "source": [
        "### 5.8 Segregate the data into dependent (sentiment) and independent (transformed body using tf-idf) features for building a classifier. "
      ]
    },
    {
      "cell_type": "code",
      "metadata": {
        "id": "B1rF19xHudY7"
      },
      "source": [
        "# tfidf_trans is independent features for building a classifier."
      ],
      "execution_count": 67,
      "outputs": []
    },
    {
      "cell_type": "code",
      "metadata": {
        "id": "mpOLAYn07W6F"
      },
      "source": [
        "target = verified_reviews['sentiment'] #dependent features"
      ],
      "execution_count": 68,
      "outputs": []
    },
    {
      "cell_type": "markdown",
      "metadata": {
        "id": "4K03FO0q7XBP"
      },
      "source": [
        "### 5.9 Split the data into Train & Test Sets"
      ]
    },
    {
      "cell_type": "code",
      "metadata": {
        "id": "D548-7cE7dZa"
      },
      "source": [
        "from sklearn.model_selection import train_test_split\n",
        "\n",
        "x_train,x_test,y_train,y_test = train_test_split(tfidf_trans,target)"
      ],
      "execution_count": 69,
      "outputs": []
    },
    {
      "cell_type": "markdown",
      "metadata": {
        "id": "rhD1a-beKvE7"
      },
      "source": [
        "## 6. Model building"
      ]
    },
    {
      "cell_type": "markdown",
      "metadata": {
        "id": "UPFovmN03exD"
      },
      "source": [
        "### 6.1 Build a random forest classifier to predict the 'sentiment'\n",
        "### 6.2 Predict on test set\n",
        "### 6.3 Check accuracy and confusion matrix"
      ]
    },
    {
      "cell_type": "code",
      "metadata": {
        "id": "y0ytdD-_30P9"
      },
      "source": [
        "from sklearn.ensemble import RandomForestClassifier\n",
        "from sklearn import metrics \n",
        "n_estimators = 400\n",
        "max_depth = 50"
      ],
      "execution_count": 70,
      "outputs": []
    },
    {
      "cell_type": "code",
      "metadata": {
        "id": "tGNX-rsm0O07"
      },
      "source": [
        "model = RandomForestClassifier(n_estimators=n_estimators, max_depth=max_depth)\n",
        "model.fit(x_train, y_train)\n",
        "preds = model.predict(x_test)\n",
        "accuracy = metrics.accuracy_score(y_test , preds)"
      ],
      "execution_count": 71,
      "outputs": []
    },
    {
      "cell_type": "code",
      "metadata": {
        "colab": {
          "base_uri": "https://localhost:8080/"
        },
        "id": "6ATOOObj3X-A",
        "outputId": "3f281262-4b02-4369-9a21-ce2ec366d209"
      },
      "source": [
        "accuracy"
      ],
      "execution_count": 72,
      "outputs": [
        {
          "output_type": "execute_result",
          "data": {
            "text/plain": [
              "0.7695172143463774"
            ]
          },
          "metadata": {
            "tags": []
          },
          "execution_count": 72
        }
      ]
    },
    {
      "cell_type": "code",
      "metadata": {
        "colab": {
          "base_uri": "https://localhost:8080/"
        },
        "id": "JupdrooB3fbi",
        "outputId": "d7c6c33f-1e17-4b76-98f0-bce202a5ecfa"
      },
      "source": [
        "from sklearn.metrics import confusion_matrix,classification_report\n",
        "print(confusion_matrix(y_test, preds))"
      ],
      "execution_count": 73,
      "outputs": [
        {
          "output_type": "stream",
          "text": [
            "[[ 1146     0  2413]\n",
            " [   77     7   981]\n",
            " [   57     0 10626]]\n"
          ],
          "name": "stdout"
        }
      ]
    },
    {
      "cell_type": "markdown",
      "metadata": {
        "id": "Ey7an7ukLxWB"
      },
      "source": [
        "## 7. Write your conclusion"
      ]
    },
    {
      "cell_type": "markdown",
      "metadata": {
        "id": "p8AWM3ssYVS0"
      },
      "source": [
        "In summary, we have learned how to perform basic NLP tasks and used a machine learning classifier to build a model to predict the rating and overall sentiment."
      ]
    },
    {
      "cell_type": "code",
      "metadata": {
        "id": "lRBK_YhzYXZI"
      },
      "source": [
        ""
      ],
      "execution_count": 73,
      "outputs": []
    }
  ]
}