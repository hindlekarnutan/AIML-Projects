{
  "nbformat": 4,
  "nbformat_minor": 0,
  "metadata": {
    "colab": {
      "name": "NLP Project_2.ipynb",
      "provenance": [],
      "collapsed_sections": []
    },
    "kernelspec": {
      "name": "python3",
      "display_name": "Python 3"
    },
    "language_info": {
      "name": "python"
    },
    "accelerator": "GPU"
  },
  "cells": [
    {
      "cell_type": "markdown",
      "metadata": {
        "id": "4b4Twzg4klVW"
      },
      "source": [
        "## **Build a sequential NLP classifier which can use input text parameters to determine the customer sentiments.** "
      ]
    },
    {
      "cell_type": "code",
      "metadata": {
        "colab": {
          "base_uri": "https://localhost:8080/"
        },
        "id": "Kt71-fcz0bK8",
        "outputId": "9b8c19c2-9092-4c86-d294-1a97d374c190"
      },
      "source": [
        "from google.colab import drive\n",
        "drive.mount('/content/drive')"
      ],
      "execution_count": 1,
      "outputs": [
        {
          "output_type": "stream",
          "text": [
            "Drive already mounted at /content/drive; to attempt to forcibly remount, call drive.mount(\"/content/drive\", force_remount=True).\n"
          ],
          "name": "stdout"
        }
      ]
    },
    {
      "cell_type": "code",
      "metadata": {
        "id": "7nuBQHE-t3iP"
      },
      "source": [
        "import json\n",
        "import numpy as np,re\n",
        "import pandas as pd\n",
        "import seaborn as sns\n",
        "from tensorflow.keras.preprocessing.text import Tokenizer\n",
        "from tensorflow.keras.preprocessing.sequence import pad_sequences\n",
        "from sklearn.preprocessing import OneHotEncoder\n",
        "from sklearn.model_selection import train_test_split\n",
        "import tensorflow as tf\n",
        "from tensorflow.keras.models import Sequential\n",
        "from tensorflow.keras.layers import Embedding, Bidirectional, LSTM, Dense, Dropout, Flatten"
      ],
      "execution_count": 2,
      "outputs": []
    },
    {
      "cell_type": "markdown",
      "metadata": {
        "id": "I8TjP0EW1rMT"
      },
      "source": [
        "# **1. Read and explore the data**"
      ]
    },
    {
      "cell_type": "code",
      "metadata": {
        "id": "7bq4kXBU35K6"
      },
      "source": [
        "data = pd.read_json('/content/drive/MyDrive/Dataset/Sarcasm_Headlines_Dataset.json', lines = True)"
      ],
      "execution_count": 3,
      "outputs": []
    },
    {
      "cell_type": "code",
      "metadata": {
        "colab": {
          "base_uri": "https://localhost:8080/",
          "height": 359
        },
        "id": "_W29AITY4Qlt",
        "outputId": "d669b1d4-6ecb-445b-cfc8-a0d8fa552854"
      },
      "source": [
        "data.head(10)"
      ],
      "execution_count": 4,
      "outputs": [
        {
          "output_type": "execute_result",
          "data": {
            "text/html": [
              "<div>\n",
              "<style scoped>\n",
              "    .dataframe tbody tr th:only-of-type {\n",
              "        vertical-align: middle;\n",
              "    }\n",
              "\n",
              "    .dataframe tbody tr th {\n",
              "        vertical-align: top;\n",
              "    }\n",
              "\n",
              "    .dataframe thead th {\n",
              "        text-align: right;\n",
              "    }\n",
              "</style>\n",
              "<table border=\"1\" class=\"dataframe\">\n",
              "  <thead>\n",
              "    <tr style=\"text-align: right;\">\n",
              "      <th></th>\n",
              "      <th>is_sarcastic</th>\n",
              "      <th>headline</th>\n",
              "      <th>article_link</th>\n",
              "    </tr>\n",
              "  </thead>\n",
              "  <tbody>\n",
              "    <tr>\n",
              "      <th>0</th>\n",
              "      <td>1</td>\n",
              "      <td>thirtysomething scientists unveil doomsday clo...</td>\n",
              "      <td>https://www.theonion.com/thirtysomething-scien...</td>\n",
              "    </tr>\n",
              "    <tr>\n",
              "      <th>1</th>\n",
              "      <td>0</td>\n",
              "      <td>dem rep. totally nails why congress is falling...</td>\n",
              "      <td>https://www.huffingtonpost.com/entry/donna-edw...</td>\n",
              "    </tr>\n",
              "    <tr>\n",
              "      <th>2</th>\n",
              "      <td>0</td>\n",
              "      <td>eat your veggies: 9 deliciously different recipes</td>\n",
              "      <td>https://www.huffingtonpost.com/entry/eat-your-...</td>\n",
              "    </tr>\n",
              "    <tr>\n",
              "      <th>3</th>\n",
              "      <td>1</td>\n",
              "      <td>inclement weather prevents liar from getting t...</td>\n",
              "      <td>https://local.theonion.com/inclement-weather-p...</td>\n",
              "    </tr>\n",
              "    <tr>\n",
              "      <th>4</th>\n",
              "      <td>1</td>\n",
              "      <td>mother comes pretty close to using word 'strea...</td>\n",
              "      <td>https://www.theonion.com/mother-comes-pretty-c...</td>\n",
              "    </tr>\n",
              "    <tr>\n",
              "      <th>5</th>\n",
              "      <td>0</td>\n",
              "      <td>my white inheritance</td>\n",
              "      <td>https://www.huffingtonpost.com/entry/my-white-...</td>\n",
              "    </tr>\n",
              "    <tr>\n",
              "      <th>6</th>\n",
              "      <td>0</td>\n",
              "      <td>5 ways to file your taxes with less stress</td>\n",
              "      <td>https://www.huffingtonpost.com/entry/5-ways-to...</td>\n",
              "    </tr>\n",
              "    <tr>\n",
              "      <th>7</th>\n",
              "      <td>1</td>\n",
              "      <td>richard branson's global-warming donation near...</td>\n",
              "      <td>https://www.theonion.com/richard-bransons-glob...</td>\n",
              "    </tr>\n",
              "    <tr>\n",
              "      <th>8</th>\n",
              "      <td>1</td>\n",
              "      <td>shadow government getting too large to meet in...</td>\n",
              "      <td>https://politics.theonion.com/shadow-governmen...</td>\n",
              "    </tr>\n",
              "    <tr>\n",
              "      <th>9</th>\n",
              "      <td>0</td>\n",
              "      <td>lots of parents know this scenario</td>\n",
              "      <td>https://www.huffingtonpost.comhttp://pubx.co/6...</td>\n",
              "    </tr>\n",
              "  </tbody>\n",
              "</table>\n",
              "</div>"
            ],
            "text/plain": [
              "   is_sarcastic  ...                                       article_link\n",
              "0             1  ...  https://www.theonion.com/thirtysomething-scien...\n",
              "1             0  ...  https://www.huffingtonpost.com/entry/donna-edw...\n",
              "2             0  ...  https://www.huffingtonpost.com/entry/eat-your-...\n",
              "3             1  ...  https://local.theonion.com/inclement-weather-p...\n",
              "4             1  ...  https://www.theonion.com/mother-comes-pretty-c...\n",
              "5             0  ...  https://www.huffingtonpost.com/entry/my-white-...\n",
              "6             0  ...  https://www.huffingtonpost.com/entry/5-ways-to...\n",
              "7             1  ...  https://www.theonion.com/richard-bransons-glob...\n",
              "8             1  ...  https://politics.theonion.com/shadow-governmen...\n",
              "9             0  ...  https://www.huffingtonpost.comhttp://pubx.co/6...\n",
              "\n",
              "[10 rows x 3 columns]"
            ]
          },
          "metadata": {
            "tags": []
          },
          "execution_count": 4
        }
      ]
    },
    {
      "cell_type": "code",
      "metadata": {
        "colab": {
          "base_uri": "https://localhost:8080/"
        },
        "id": "3OPnqr9j4QvB",
        "outputId": "7d3357b5-f770-4492-aaca-e519baf095af"
      },
      "source": [
        "data.isnull().sum()"
      ],
      "execution_count": 5,
      "outputs": [
        {
          "output_type": "execute_result",
          "data": {
            "text/plain": [
              "is_sarcastic    0\n",
              "headline        0\n",
              "article_link    0\n",
              "dtype: int64"
            ]
          },
          "metadata": {
            "tags": []
          },
          "execution_count": 5
        }
      ]
    },
    {
      "cell_type": "code",
      "metadata": {
        "colab": {
          "base_uri": "https://localhost:8080/"
        },
        "id": "199Ws1H21cF7",
        "outputId": "b9192fe2-4f00-4e93-e2a6-e124bfc41072"
      },
      "source": [
        "data.info()"
      ],
      "execution_count": 6,
      "outputs": [
        {
          "output_type": "stream",
          "text": [
            "<class 'pandas.core.frame.DataFrame'>\n",
            "RangeIndex: 28619 entries, 0 to 28618\n",
            "Data columns (total 3 columns):\n",
            " #   Column        Non-Null Count  Dtype \n",
            "---  ------        --------------  ----- \n",
            " 0   is_sarcastic  28619 non-null  int64 \n",
            " 1   headline      28619 non-null  object\n",
            " 2   article_link  28619 non-null  object\n",
            "dtypes: int64(1), object(2)\n",
            "memory usage: 670.9+ KB\n"
          ],
          "name": "stdout"
        }
      ]
    },
    {
      "cell_type": "code",
      "metadata": {
        "colab": {
          "base_uri": "https://localhost:8080/"
        },
        "id": "XhcrTBr5k2XY",
        "outputId": "b5de4769-3d5c-4baa-f659-780179017516"
      },
      "source": [
        "data['is_sarcastic'].value_counts()"
      ],
      "execution_count": 7,
      "outputs": [
        {
          "output_type": "execute_result",
          "data": {
            "text/plain": [
              "0    14985\n",
              "1    13634\n",
              "Name: is_sarcastic, dtype: int64"
            ]
          },
          "metadata": {
            "tags": []
          },
          "execution_count": 7
        }
      ]
    },
    {
      "cell_type": "code",
      "metadata": {
        "colab": {
          "base_uri": "https://localhost:8080/",
          "height": 297
        },
        "id": "RaLvsoZDKmFH",
        "outputId": "6252f3e1-a2a9-47c8-9fb1-f1dc866d0e7f"
      },
      "source": [
        "sns.set_style('whitegrid')\n",
        "sns.countplot(x='is_sarcastic',data=data, palette='YlGnBu_r')"
      ],
      "execution_count": 8,
      "outputs": [
        {
          "output_type": "execute_result",
          "data": {
            "text/plain": [
              "<matplotlib.axes._subplots.AxesSubplot at 0x7fe159530710>"
            ]
          },
          "metadata": {
            "tags": []
          },
          "execution_count": 8
        },
        {
          "output_type": "display_data",
          "data": {
            "image/png": "[encoded data removed]",
            "text/plain": [
              "<Figure size 432x288 with 1 Axes>"
            ]
          },
          "metadata": {
            "tags": []
          }
        }
      ]
    },
    {
      "cell_type": "markdown",
      "metadata": {
        "id": "0pZemVhpLKPL"
      },
      "source": [
        "- we can see that the dataset is balanced."
      ]
    },
    {
      "cell_type": "markdown",
      "metadata": {
        "id": "MPRQd3KR43G6"
      },
      "source": [
        "# **2. Retain relevant columns**"
      ]
    },
    {
      "cell_type": "code",
      "metadata": {
        "id": "wMsYsIxN4yuB"
      },
      "source": [
        "df = data.drop('article_link',axis=1)"
      ],
      "execution_count": 9,
      "outputs": []
    },
    {
      "cell_type": "code",
      "metadata": {
        "colab": {
          "base_uri": "https://localhost:8080/",
          "height": 204
        },
        "id": "lxv1XJBs5IJj",
        "outputId": "42fecfcc-59b8-4144-ea0e-0f91018d3ac0"
      },
      "source": [
        "df.head(5)"
      ],
      "execution_count": 10,
      "outputs": [
        {
          "output_type": "execute_result",
          "data": {
            "text/html": [
              "<div>\n",
              "<style scoped>\n",
              "    .dataframe tbody tr th:only-of-type {\n",
              "        vertical-align: middle;\n",
              "    }\n",
              "\n",
              "    .dataframe tbody tr th {\n",
              "        vertical-align: top;\n",
              "    }\n",
              "\n",
              "    .dataframe thead th {\n",
              "        text-align: right;\n",
              "    }\n",
              "</style>\n",
              "<table border=\"1\" class=\"dataframe\">\n",
              "  <thead>\n",
              "    <tr style=\"text-align: right;\">\n",
              "      <th></th>\n",
              "      <th>is_sarcastic</th>\n",
              "      <th>headline</th>\n",
              "    </tr>\n",
              "  </thead>\n",
              "  <tbody>\n",
              "    <tr>\n",
              "      <th>0</th>\n",
              "      <td>1</td>\n",
              "      <td>thirtysomething scientists unveil doomsday clo...</td>\n",
              "    </tr>\n",
              "    <tr>\n",
              "      <th>1</th>\n",
              "      <td>0</td>\n",
              "      <td>dem rep. totally nails why congress is falling...</td>\n",
              "    </tr>\n",
              "    <tr>\n",
              "      <th>2</th>\n",
              "      <td>0</td>\n",
              "      <td>eat your veggies: 9 deliciously different recipes</td>\n",
              "    </tr>\n",
              "    <tr>\n",
              "      <th>3</th>\n",
              "      <td>1</td>\n",
              "      <td>inclement weather prevents liar from getting t...</td>\n",
              "    </tr>\n",
              "    <tr>\n",
              "      <th>4</th>\n",
              "      <td>1</td>\n",
              "      <td>mother comes pretty close to using word 'strea...</td>\n",
              "    </tr>\n",
              "  </tbody>\n",
              "</table>\n",
              "</div>"
            ],
            "text/plain": [
              "   is_sarcastic                                           headline\n",
              "0             1  thirtysomething scientists unveil doomsday clo...\n",
              "1             0  dem rep. totally nails why congress is falling...\n",
              "2             0  eat your veggies: 9 deliciously different recipes\n",
              "3             1  inclement weather prevents liar from getting t...\n",
              "4             1  mother comes pretty close to using word 'strea..."
            ]
          },
          "metadata": {
            "tags": []
          },
          "execution_count": 10
        }
      ]
    },
    {
      "cell_type": "code",
      "metadata": {
        "id": "9LeT7iaFLqaV"
      },
      "source": [
        "df['headline'] = df['headline'].apply(lambda s : re.sub('[^a-zA-Z]', ' ', s))"
      ],
      "execution_count": 11,
      "outputs": []
    },
    {
      "cell_type": "markdown",
      "metadata": {
        "id": "3ahdh7IT5MkA"
      },
      "source": [
        "# **3. Get length of each sentence**"
      ]
    },
    {
      "cell_type": "code",
      "metadata": {
        "id": "BajB-Fzb5Jqb"
      },
      "source": [
        "df['length'] = df['headline'].apply(lambda x:len(x.split(\" \")))"
      ],
      "execution_count": 12,
      "outputs": []
    },
    {
      "cell_type": "code",
      "metadata": {
        "colab": {
          "base_uri": "https://localhost:8080/",
          "height": 359
        },
        "id": "Mkqz8nFo51c4",
        "outputId": "42b8b78c-e39a-46ab-b2fc-8bf123585c74"
      },
      "source": [
        "df.head(10)"
      ],
      "execution_count": 13,
      "outputs": [
        {
          "output_type": "execute_result",
          "data": {
            "text/html": [
              "<div>\n",
              "<style scoped>\n",
              "    .dataframe tbody tr th:only-of-type {\n",
              "        vertical-align: middle;\n",
              "    }\n",
              "\n",
              "    .dataframe tbody tr th {\n",
              "        vertical-align: top;\n",
              "    }\n",
              "\n",
              "    .dataframe thead th {\n",
              "        text-align: right;\n",
              "    }\n",
              "</style>\n",
              "<table border=\"1\" class=\"dataframe\">\n",
              "  <thead>\n",
              "    <tr style=\"text-align: right;\">\n",
              "      <th></th>\n",
              "      <th>is_sarcastic</th>\n",
              "      <th>headline</th>\n",
              "      <th>length</th>\n",
              "    </tr>\n",
              "  </thead>\n",
              "  <tbody>\n",
              "    <tr>\n",
              "      <th>0</th>\n",
              "      <td>1</td>\n",
              "      <td>thirtysomething scientists unveil doomsday clo...</td>\n",
              "      <td>8</td>\n",
              "    </tr>\n",
              "    <tr>\n",
              "      <th>1</th>\n",
              "      <td>0</td>\n",
              "      <td>dem rep  totally nails why congress is falling...</td>\n",
              "      <td>15</td>\n",
              "    </tr>\n",
              "    <tr>\n",
              "      <th>2</th>\n",
              "      <td>0</td>\n",
              "      <td>eat your veggies    deliciously different recipes</td>\n",
              "      <td>9</td>\n",
              "    </tr>\n",
              "    <tr>\n",
              "      <th>3</th>\n",
              "      <td>1</td>\n",
              "      <td>inclement weather prevents liar from getting t...</td>\n",
              "      <td>8</td>\n",
              "    </tr>\n",
              "    <tr>\n",
              "      <th>4</th>\n",
              "      <td>1</td>\n",
              "      <td>mother comes pretty close to using word  strea...</td>\n",
              "      <td>11</td>\n",
              "    </tr>\n",
              "    <tr>\n",
              "      <th>5</th>\n",
              "      <td>0</td>\n",
              "      <td>my white inheritance</td>\n",
              "      <td>3</td>\n",
              "    </tr>\n",
              "    <tr>\n",
              "      <th>6</th>\n",
              "      <td>0</td>\n",
              "      <td>ways to file your taxes with less stress</td>\n",
              "      <td>10</td>\n",
              "    </tr>\n",
              "    <tr>\n",
              "      <th>7</th>\n",
              "      <td>1</td>\n",
              "      <td>richard branson s global warming donation near...</td>\n",
              "      <td>15</td>\n",
              "    </tr>\n",
              "    <tr>\n",
              "      <th>8</th>\n",
              "      <td>1</td>\n",
              "      <td>shadow government getting too large to meet in...</td>\n",
              "      <td>12</td>\n",
              "    </tr>\n",
              "    <tr>\n",
              "      <th>9</th>\n",
              "      <td>0</td>\n",
              "      <td>lots of parents know this scenario</td>\n",
              "      <td>6</td>\n",
              "    </tr>\n",
              "  </tbody>\n",
              "</table>\n",
              "</div>"
            ],
            "text/plain": [
              "   is_sarcastic                                           headline  length\n",
              "0             1  thirtysomething scientists unveil doomsday clo...       8\n",
              "1             0  dem rep  totally nails why congress is falling...      15\n",
              "2             0  eat your veggies    deliciously different recipes       9\n",
              "3             1  inclement weather prevents liar from getting t...       8\n",
              "4             1  mother comes pretty close to using word  strea...      11\n",
              "5             0                               my white inheritance       3\n",
              "6             0           ways to file your taxes with less stress      10\n",
              "7             1  richard branson s global warming donation near...      15\n",
              "8             1  shadow government getting too large to meet in...      12\n",
              "9             0                 lots of parents know this scenario       6"
            ]
          },
          "metadata": {
            "tags": []
          },
          "execution_count": 13
        }
      ]
    },
    {
      "cell_type": "markdown",
      "metadata": {
        "id": "yYdLFRQ7AeQp"
      },
      "source": [
        "# **4. Define parameters**"
      ]
    },
    {
      "cell_type": "code",
      "metadata": {
        "id": "j8lHeTFcAHKg"
      },
      "source": [
        "max_features = 10000\n",
        "maxlen = 256\n",
        "embedding_size = 50"
      ],
      "execution_count": 14,
      "outputs": []
    },
    {
      "cell_type": "markdown",
      "metadata": {
        "id": "la9aZTdeAxe4"
      },
      "source": [
        "# **5. Get indices for words**"
      ]
    },
    {
      "cell_type": "code",
      "metadata": {
        "colab": {
          "base_uri": "https://localhost:8080/"
        },
        "id": "_YE3c8swA2Nx",
        "outputId": "1e544e42-48ae-4cb9-caaf-ac5e2c236cda"
      },
      "source": [
        "tokenizer = Tokenizer(num_words=max_features)\n",
        "\n",
        "tokenizer.fit_on_texts(list(df['headline']))\n",
        "\n",
        "X = tokenizer.texts_to_sequences(df['headline']) \n",
        "\n",
        "print(X[0])"
      ],
      "execution_count": 15,
      "outputs": [
        {
          "output_type": "stream",
          "text": [
            "[352, 3155, 6257, 2143, 2, 641, 1123]\n"
          ],
          "name": "stdout"
        }
      ]
    },
    {
      "cell_type": "markdown",
      "metadata": {
        "id": "U38f5LtNBaNZ"
      },
      "source": [
        "# **6. Create features and labels**"
      ]
    },
    {
      "cell_type": "code",
      "metadata": {
        "id": "GSrXGvcfBcR_"
      },
      "source": [
        "X = pad_sequences(X, maxlen = maxlen)   #features \n",
        "\n",
        "y = np.asarray(df['is_sarcastic'])    #Labels"
      ],
      "execution_count": 16,
      "outputs": []
    },
    {
      "cell_type": "markdown",
      "metadata": {
        "id": "Fma7JTFwBptf"
      },
      "source": [
        "# **7. Get vocabulary size**"
      ]
    },
    {
      "cell_type": "code",
      "metadata": {
        "colab": {
          "base_uri": "https://localhost:8080/"
        },
        "id": "pid7ZF3LFm1T",
        "outputId": "f5e7145a-0ee6-47db-f6bd-79edee0091cc"
      },
      "source": [
        "X.shape"
      ],
      "execution_count": 17,
      "outputs": [
        {
          "output_type": "execute_result",
          "data": {
            "text/plain": [
              "(28619, 256)"
            ]
          },
          "metadata": {
            "tags": []
          },
          "execution_count": 17
        }
      ]
    },
    {
      "cell_type": "code",
      "metadata": {
        "colab": {
          "base_uri": "https://localhost:8080/"
        },
        "id": "58fFP7hRBj-3",
        "outputId": "9ead97ef-9c29-44ac-f68a-4b7c8eda80ad"
      },
      "source": [
        "print(\"Number of Samples:\", len(X))      \n",
        "print(\"Number of Labels: \", len(y))     "
      ],
      "execution_count": 18,
      "outputs": [
        {
          "output_type": "stream",
          "text": [
            "Number of Samples: 28619\n",
            "Number of Labels:  28619\n"
          ],
          "name": "stdout"
        }
      ]
    },
    {
      "cell_type": "code",
      "metadata": {
        "colab": {
          "base_uri": "https://localhost:8080/"
        },
        "id": "1qGJi7UqEvjN",
        "outputId": "42a0e2c2-b43e-450e-886a-bc928cb9ea99"
      },
      "source": [
        "num_words = len(tokenizer.word_index) + 1\n",
        "print('vocabulary size-',num_words)"
      ],
      "execution_count": 19,
      "outputs": [
        {
          "output_type": "stream",
          "text": [
            "vocabulary size- 25916\n"
          ],
          "name": "stdout"
        }
      ]
    },
    {
      "cell_type": "markdown",
      "metadata": {
        "id": "kJ-qQ1KXF74v"
      },
      "source": [
        "# **8. Create a weight matrix using GloVe embeddings**"
      ]
    },
    {
      "cell_type": "code",
      "metadata": {
        "id": "etKIt2hGFvGL"
      },
      "source": [
        "embedding_file = '/content/drive/MyDrive/Dataset/lstm/glove.6B.50d.txt'\n",
        "embedding = {}\n",
        "\n",
        "for o in open(embedding_file):\n",
        "    word = o.split(\" \")[0]\n",
        "    embd = np.asarray(o.split(\" \")[1:] , dtype = 'float32')\n",
        "    embedding[word] = embd"
      ],
      "execution_count": 20,
      "outputs": []
    },
    {
      "cell_type": "code",
      "metadata": {
        "id": "iQG-xKmJmUS0"
      },
      "source": [
        "embedding_matrix = np.zeros((num_words,50))\n",
        "\n",
        "for word,i in tokenizer.word_index.items():\n",
        "  if word in embedding.keys():\n",
        "    embedding_matrix[i] = embedding[word]"
      ],
      "execution_count": 21,
      "outputs": []
    },
    {
      "cell_type": "code",
      "metadata": {
        "colab": {
          "base_uri": "https://localhost:8080/"
        },
        "id": "QzsmoZvtnPyZ",
        "outputId": "feeb2c63-8432-49d1-fd99-017319c44fa0"
      },
      "source": [
        "len(embedding.values())"
      ],
      "execution_count": 22,
      "outputs": [
        {
          "output_type": "execute_result",
          "data": {
            "text/plain": [
              "400000"
            ]
          },
          "metadata": {
            "tags": []
          },
          "execution_count": 22
        }
      ]
    },
    {
      "cell_type": "code",
      "metadata": {
        "id": "xhkjX7hPskwr"
      },
      "source": [
        "X_train, X_test, y_train, y_test = train_test_split(X,y,test_size=0.3)"
      ],
      "execution_count": 23,
      "outputs": []
    },
    {
      "cell_type": "markdown",
      "metadata": {
        "id": "htH4f07NoNbZ"
      },
      "source": [
        "# **9. Define and compile a Bidirectional LSTM model.**"
      ]
    },
    {
      "cell_type": "code",
      "metadata": {
        "id": "CtMqt_byoRdl"
      },
      "source": [
        "model_lstm = Sequential()\n",
        "\n",
        "model_lstm.add(Embedding(num_words, embedding_size,weights = [embedding_matrix], input_length=maxlen))\n",
        "\n",
        "model_lstm.add(Bidirectional(LSTM(16)))\n",
        "\n",
        "model_lstm.add(Dense(16, activation='relu'))\n",
        "\n",
        "model_lstm.add(Dropout(0.5))\n",
        "\n",
        "model_lstm.add(Dense(1, activation='sigmoid'))\n",
        "\n",
        "model_lstm.compile(loss='binary_crossentropy',optimizer='adam',metrics=['accuracy'])"
      ],
      "execution_count": 24,
      "outputs": []
    },
    {
      "cell_type": "code",
      "metadata": {
        "colab": {
          "base_uri": "https://localhost:8080/"
        },
        "id": "wqvKSINRpsVY",
        "outputId": "bd7ad85e-b21b-4aa5-900a-55123b30bcba"
      },
      "source": [
        "model_lstm.summary()"
      ],
      "execution_count": 25,
      "outputs": [
        {
          "output_type": "stream",
          "text": [
            "Model: \"sequential\"\n",
            "_________________________________________________________________\n",
            "Layer (type)                 Output Shape              Param #   \n",
            "=================================================================\n",
            "embedding (Embedding)        (None, 256, 50)           1295800   \n",
            "_________________________________________________________________\n",
            "bidirectional (Bidirectional (None, 32)                8576      \n",
            "_________________________________________________________________\n",
            "dense (Dense)                (None, 16)                528       \n",
            "_________________________________________________________________\n",
            "dropout (Dropout)            (None, 16)                0         \n",
            "_________________________________________________________________\n",
            "dense_1 (Dense)              (None, 1)                 17        \n",
            "=================================================================\n",
            "Total params: 1,304,921\n",
            "Trainable params: 1,304,921\n",
            "Non-trainable params: 0\n",
            "_________________________________________________________________\n"
          ],
          "name": "stdout"
        }
      ]
    },
    {
      "cell_type": "markdown",
      "metadata": {
        "id": "5Pff3AZ5pDru"
      },
      "source": [
        "# **10. Fit the model and check the validation accuracy**"
      ]
    },
    {
      "cell_type": "code",
      "metadata": {
        "colab": {
          "base_uri": "https://localhost:8080/"
        },
        "id": "wVBXPHHhqnHc",
        "outputId": "4256781c-e9a4-4c3c-bd82-3d892650d57d"
      },
      "source": [
        "epochs = 20\n",
        "batch_size = 32\n",
        "history=model_lstm.fit(X_train, y_train, batch_size=batch_size, epochs=epochs, validation_data=(X_test, y_test))"
      ],
      "execution_count": 26,
      "outputs": [
        {
          "output_type": "stream",
          "text": [
            "Epoch 1/20\n",
            "627/627 [==============================] - 78s 112ms/step - loss: 0.5467 - accuracy: 0.7123 - val_loss: 0.3881 - val_accuracy: 0.8312\n",
            "Epoch 2/20\n",
            "627/627 [==============================] - 68s 108ms/step - loss: 0.3407 - accuracy: 0.8646 - val_loss: 0.3381 - val_accuracy: 0.8512\n",
            "Epoch 3/20\n",
            "627/627 [==============================] - 67s 107ms/step - loss: 0.2480 - accuracy: 0.9124 - val_loss: 0.3277 - val_accuracy: 0.8627\n",
            "Epoch 4/20\n",
            "627/627 [==============================] - 67s 107ms/step - loss: 0.1806 - accuracy: 0.9399 - val_loss: 0.3937 - val_accuracy: 0.8592\n",
            "Epoch 5/20\n",
            "627/627 [==============================] - 68s 108ms/step - loss: 0.1385 - accuracy: 0.9568 - val_loss: 0.4180 - val_accuracy: 0.8595\n",
            "Epoch 6/20\n",
            "627/627 [==============================] - 67s 107ms/step - loss: 0.1146 - accuracy: 0.9646 - val_loss: 0.5590 - val_accuracy: 0.8454\n",
            "Epoch 7/20\n",
            "627/627 [==============================] - 67s 107ms/step - loss: 0.0804 - accuracy: 0.9753 - val_loss: 0.5889 - val_accuracy: 0.8488\n",
            "Epoch 8/20\n",
            "627/627 [==============================] - 67s 107ms/step - loss: 0.0599 - accuracy: 0.9830 - val_loss: 0.7064 - val_accuracy: 0.8479\n",
            "Epoch 9/20\n",
            "627/627 [==============================] - 67s 107ms/step - loss: 0.0490 - accuracy: 0.9866 - val_loss: 0.7442 - val_accuracy: 0.8443\n",
            "Epoch 10/20\n",
            "627/627 [==============================] - 67s 107ms/step - loss: 0.0582 - accuracy: 0.9816 - val_loss: 0.8410 - val_accuracy: 0.8451\n",
            "Epoch 11/20\n",
            "627/627 [==============================] - 67s 107ms/step - loss: 0.0297 - accuracy: 0.9924 - val_loss: 0.9624 - val_accuracy: 0.8446\n",
            "Epoch 12/20\n",
            "627/627 [==============================] - 67s 107ms/step - loss: 0.0214 - accuracy: 0.9945 - val_loss: 1.1979 - val_accuracy: 0.8432\n",
            "Epoch 13/20\n",
            "627/627 [==============================] - 67s 107ms/step - loss: 0.0216 - accuracy: 0.9944 - val_loss: 1.0530 - val_accuracy: 0.8452\n",
            "Epoch 14/20\n",
            "627/627 [==============================] - 67s 107ms/step - loss: 0.0164 - accuracy: 0.9958 - val_loss: 1.2502 - val_accuracy: 0.8366\n",
            "Epoch 15/20\n",
            "627/627 [==============================] - 67s 107ms/step - loss: 0.0178 - accuracy: 0.9953 - val_loss: 1.2386 - val_accuracy: 0.8403\n",
            "Epoch 16/20\n",
            "627/627 [==============================] - 67s 107ms/step - loss: 0.0142 - accuracy: 0.9961 - val_loss: 1.3266 - val_accuracy: 0.8397\n",
            "Epoch 17/20\n",
            "627/627 [==============================] - 67s 107ms/step - loss: 0.0122 - accuracy: 0.9968 - val_loss: 1.4919 - val_accuracy: 0.8415\n",
            "Epoch 18/20\n",
            "627/627 [==============================] - 67s 107ms/step - loss: 0.0150 - accuracy: 0.9953 - val_loss: 1.2839 - val_accuracy: 0.8402\n",
            "Epoch 19/20\n",
            "627/627 [==============================] - 67s 107ms/step - loss: 0.0134 - accuracy: 0.9959 - val_loss: 1.4789 - val_accuracy: 0.8381\n",
            "Epoch 20/20\n",
            "627/627 [==============================] - 67s 107ms/step - loss: 0.0073 - accuracy: 0.9980 - val_loss: 1.7763 - val_accuracy: 0.8359\n"
          ],
          "name": "stdout"
        }
      ]
    },
    {
      "cell_type": "markdown",
      "metadata": {
        "id": "U6C_npzvfzKD"
      },
      "source": [
        "**Validation accuracy**"
      ]
    },
    {
      "cell_type": "code",
      "metadata": {
        "colab": {
          "base_uri": "https://localhost:8080/"
        },
        "id": "Ma0LXqxslSPa",
        "outputId": "02d55cdb-e95c-4906-da49-3af3f4b5fc5c"
      },
      "source": [
        "loss, acc = model_lstm.evaluate(X_test, y_test, verbose=2)\n",
        "print(\"Overall scores\")\n",
        "print(\"Loss\\t\\t: \", round(loss, 3))\n",
        "print(\"Validation Accuracy\\t: \", round(acc, 3))"
      ],
      "execution_count": 27,
      "outputs": [
        {
          "output_type": "stream",
          "text": [
            "269/269 - 8s - loss: 1.7763 - accuracy: 0.8359\n",
            "Overall scores\n",
            "Loss\t\t:  1.776\n",
            "Validation Accuracy\t:  0.836\n"
          ],
          "name": "stdout"
        }
      ]
    },
    {
      "cell_type": "code",
      "metadata": {
        "colab": {
          "base_uri": "https://localhost:8080/"
        },
        "id": "jUycXywwtZYj",
        "outputId": "3b8869b6-7330-4111-a037-61b64fc78e1f"
      },
      "source": [
        "predict=model_lstm.predict_classes(X_test)\n",
        "predict_classes=predict.reshape(len(X_test))"
      ],
      "execution_count": 28,
      "outputs": [
        {
          "output_type": "stream",
          "text": [
            "/usr/local/lib/python3.7/dist-packages/tensorflow/python/keras/engine/sequential.py:455: UserWarning: `model.predict_classes()` is deprecated and will be removed after 2021-01-01. Please use instead:* `np.argmax(model.predict(x), axis=-1)`,   if your model does multi-class classification   (e.g. if it uses a `softmax` last-layer activation).* `(model.predict(x) > 0.5).astype(\"int32\")`,   if your model does binary classification   (e.g. if it uses a `sigmoid` last-layer activation).\n",
            "  warnings.warn('`model.predict_classes()` is deprecated and '\n"
          ],
          "name": "stderr"
        }
      ]
    },
    {
      "cell_type": "code",
      "metadata": {
        "colab": {
          "base_uri": "https://localhost:8080/"
        },
        "id": "Bya7tSLuztTR",
        "outputId": "bab856cc-7288-41d7-9a10-2cef9c48b2b8"
      },
      "source": [
        "from sklearn.metrics import confusion_matrix, classification_report\n",
        "print(confusion_matrix(y_test,predict_classes))\n",
        "\n",
        "print(classification_report(y_test,predict_classes))"
      ],
      "execution_count": 29,
      "outputs": [
        {
          "output_type": "stream",
          "text": [
            "[[3637  824]\n",
            " [ 585 3540]]\n",
            "              precision    recall  f1-score   support\n",
            "\n",
            "           0       0.86      0.82      0.84      4461\n",
            "           1       0.81      0.86      0.83      4125\n",
            "\n",
            "    accuracy                           0.84      8586\n",
            "   macro avg       0.84      0.84      0.84      8586\n",
            "weighted avg       0.84      0.84      0.84      8586\n",
            "\n"
          ],
          "name": "stdout"
        }
      ]
    },
    {
      "cell_type": "code",
      "metadata": {
        "id": "1IU_d5gCz1Tj",
        "colab": {
          "base_uri": "https://localhost:8080/",
          "height": 562
        },
        "outputId": "eeb59f40-d08f-4031-fcb8-338f4e215a0d"
      },
      "source": [
        "import matplotlib.pyplot as plt\n",
        "accuracy      = history.history['accuracy']\n",
        "val_accuracy  = history.history['val_accuracy']\n",
        "loss     = history.history['loss']\n",
        "val_loss = history.history['val_loss']\n",
        "\n",
        "epochs   = range(len(accuracy)) # Get number of epochs\n",
        "\n",
        "plt.plot  ( epochs, accuracy, label = 'training accuracy' )\n",
        "plt.plot  ( epochs, val_accuracy, label = 'validation accuracy' )\n",
        "plt.title ('Training and validation accuracy')\n",
        "plt.legend(loc = 'lower right')\n",
        "plt.figure()\n",
        "\n",
        "plt.plot  ( epochs, loss, label = 'training loss' )\n",
        "plt.plot  ( epochs, val_loss, label = 'validation loss' )\n",
        "plt.legend(loc = 'upper right')\n",
        "plt.title ('Training and validation loss'   )"
      ],
      "execution_count": 30,
      "outputs": [
        {
          "output_type": "execute_result",
          "data": {
            "text/plain": [
              "Text(0.5, 1.0, 'Training and validation loss')"
            ]
          },
          "metadata": {
            "tags": []
          },
          "execution_count": 30
        },
        {
          "output_type": "display_data",
          "data": {
            "image/png": "[encoded data removed]",
            "text/plain": [
              "<Figure size 432x288 with 1 Axes>"
            ]
          },
          "metadata": {
            "tags": []
          }
        },
        {
          "output_type": "display_data",
          "data": {
            "image/png": "[encoded data removed]",
            "text/plain": [
              "<Figure size 432x288 with 1 Axes>"
            ]
          },
          "metadata": {
            "tags": []
          }
        }
      ]
    }
  ]
}