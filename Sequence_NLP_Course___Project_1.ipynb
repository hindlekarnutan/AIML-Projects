{
  "nbformat": 4,
  "nbformat_minor": 0,
  "metadata": {
    "colab": {
      "name": "Sequence NLP Course | Project 1.ipynb",
      "provenance": [],
      "collapsed_sections": []
    },
    "kernelspec": {
      "name": "python3",
      "display_name": "Python 3"
    },
    "language_info": {
      "name": "python"
    },
    "accelerator": "GPU"
  },
  "cells": [
    {
      "cell_type": "markdown",
      "metadata": {
        "id": "Uyidzxg6maue"
      },
      "source": [
        "### Build a sequential NLP classifier which can use input text parameters to determine the customer sentiments. "
      ]
    },
    {
      "cell_type": "code",
      "metadata": {
        "id": "hgvnwkTwmRr2"
      },
      "source": [
        "import numpy as np\n",
        "import pandas as pd\n",
        "from matplotlib import pyplot as plt\n",
        "from keras.datasets import imdb\n",
        "from keras.models import Sequential\n",
        "from keras.preprocessing.sequence import pad_sequences\n",
        "from keras.layers import Embedding, GlobalAveragePooling1D, Dense\n",
        "from tensorflow.keras.utils import to_categorical"
      ],
      "execution_count": 1,
      "outputs": []
    },
    {
      "cell_type": "markdown",
      "metadata": {
        "id": "kB3YLXzznaOx"
      },
      "source": [
        "## **1. Import and analyse the data set.**"
      ]
    },
    {
      "cell_type": "code",
      "metadata": {
        "id": "Bjoxc_9bqLFS"
      },
      "source": [
        "num_words = 10000  # ensures we only keep the top 10,000 most frequently occurring words in the training set\n",
        "maxlen = 20\n",
        "embedding_size = 50"
      ],
      "execution_count": 2,
      "outputs": []
    },
    {
      "cell_type": "code",
      "metadata": {
        "colab": {
          "base_uri": "https://localhost:8080/"
        },
        "id": "BIWjXzGrnX4U",
        "outputId": "bc0a51cd-67f7-4074-a9cb-8de779bc1d9c"
      },
      "source": [
        "(X_train, y_train), (X_test, y_test) = imdb.load_data(num_words=num_words)"
      ],
      "execution_count": 3,
      "outputs": [
        {
          "output_type": "stream",
          "text": [
            "Downloading data from https://storage.googleapis.com/tensorflow/tf-keras-datasets/imdb.npz\n",
            "17465344/17464789 [==============================] - 0s 0us/step\n"
          ],
          "name": "stdout"
        },
        {
          "output_type": "stream",
          "text": [
            "<string>:6: VisibleDeprecationWarning: Creating an ndarray from ragged nested sequences (which is a list-or-tuple of lists-or-tuples-or ndarrays with different lengths or shapes) is deprecated. If you meant to do this, you must specify 'dtype=object' when creating the ndarray\n",
            "/usr/local/lib/python3.7/dist-packages/tensorflow/python/keras/datasets/imdb.py:159: VisibleDeprecationWarning: Creating an ndarray from ragged nested sequences (which is a list-or-tuple of lists-or-tuples-or ndarrays with different lengths or shapes) is deprecated. If you meant to do this, you must specify 'dtype=object' when creating the ndarray\n",
            "  x_train, y_train = np.array(xs[:idx]), np.array(labels[:idx])\n",
            "/usr/local/lib/python3.7/dist-packages/tensorflow/python/keras/datasets/imdb.py:160: VisibleDeprecationWarning: Creating an ndarray from ragged nested sequences (which is a list-or-tuple of lists-or-tuples-or ndarrays with different lengths or shapes) is deprecated. If you meant to do this, you must specify 'dtype=object' when creating the ndarray\n",
            "  x_test, y_test = np.array(xs[idx:]), np.array(labels[idx:])\n"
          ],
          "name": "stderr"
        }
      ]
    },
    {
      "cell_type": "code",
      "metadata": {
        "colab": {
          "base_uri": "https://localhost:8080/"
        },
        "id": "BcuP2r5MomsI",
        "outputId": "2a12233c-ee6e-4cda-9aa1-4ffd48bcce7e"
      },
      "source": [
        "print(X_train.shape,y_train.shape)\n",
        "print(X_test.shape,y_test.shape)"
      ],
      "execution_count": 4,
      "outputs": [
        {
          "output_type": "stream",
          "text": [
            "(25000,) (25000,)\n",
            "(25000,) (25000,)\n"
          ],
          "name": "stdout"
        }
      ]
    },
    {
      "cell_type": "code",
      "metadata": {
        "colab": {
          "base_uri": "https://localhost:8080/"
        },
        "id": "au5SZ_ohq8YH",
        "outputId": "779b3ba1-3e56-4a0b-d9e8-3fb7b3469564"
      },
      "source": [
        "print(X_train[0])"
      ],
      "execution_count": 5,
      "outputs": [
        {
          "output_type": "stream",
          "text": [
            "[1, 14, 22, 16, 43, 530, 973, 1622, 1385, 65, 458, 4468, 66, 3941, 4, 173, 36, 256, 5, 25, 100, 43, 838, 112, 50, 670, 2, 9, 35, 480, 284, 5, 150, 4, 172, 112, 167, 2, 336, 385, 39, 4, 172, 4536, 1111, 17, 546, 38, 13, 447, 4, 192, 50, 16, 6, 147, 2025, 19, 14, 22, 4, 1920, 4613, 469, 4, 22, 71, 87, 12, 16, 43, 530, 38, 76, 15, 13, 1247, 4, 22, 17, 515, 17, 12, 16, 626, 18, 2, 5, 62, 386, 12, 8, 316, 8, 106, 5, 4, 2223, 5244, 16, 480, 66, 3785, 33, 4, 130, 12, 16, 38, 619, 5, 25, 124, 51, 36, 135, 48, 25, 1415, 33, 6, 22, 12, 215, 28, 77, 52, 5, 14, 407, 16, 82, 2, 8, 4, 107, 117, 5952, 15, 256, 4, 2, 7, 3766, 5, 723, 36, 71, 43, 530, 476, 26, 400, 317, 46, 7, 4, 2, 1029, 13, 104, 88, 4, 381, 15, 297, 98, 32, 2071, 56, 26, 141, 6, 194, 7486, 18, 4, 226, 22, 21, 134, 476, 26, 480, 5, 144, 30, 5535, 18, 51, 36, 28, 224, 92, 25, 104, 4, 226, 65, 16, 38, 1334, 88, 12, 16, 283, 5, 16, 4472, 113, 103, 32, 15, 16, 5345, 19, 178, 32]\n"
          ],
          "name": "stdout"
        }
      ]
    },
    {
      "cell_type": "markdown",
      "metadata": {
        "id": "6G-p8jyArvhz"
      },
      "source": [
        "## **2. Perform relevant sequence adding on the data**"
      ]
    },
    {
      "cell_type": "code",
      "metadata": {
        "id": "sJz7uabHrmOv"
      },
      "source": [
        "X_train = pad_sequences(X_train,padding='post',maxlen=maxlen)\n",
        "X_test = pad_sequences(X_test,padding='post',maxlen=maxlen)"
      ],
      "execution_count": 6,
      "outputs": []
    },
    {
      "cell_type": "markdown",
      "metadata": {
        "id": "qnq_YrIptIHi"
      },
      "source": [
        "## **3. Perform following data analysis:**"
      ]
    },
    {
      "cell_type": "markdown",
      "metadata": {
        "id": "dJHnpIdJtKgf"
      },
      "source": [
        "### **• Print shape of features and labels**"
      ]
    },
    {
      "cell_type": "code",
      "metadata": {
        "colab": {
          "base_uri": "https://localhost:8080/"
        },
        "id": "ETQX6xvXswQB",
        "outputId": "c9684b95-9455-468d-9a71-4808beacb848"
      },
      "source": [
        "print(X_train.shape,y_train.shape)\n",
        "print(X_test.shape,y_test.shape)"
      ],
      "execution_count": 7,
      "outputs": [
        {
          "output_type": "stream",
          "text": [
            "(25000, 20) (25000,)\n",
            "(25000, 20) (25000,)\n"
          ],
          "name": "stdout"
        }
      ]
    },
    {
      "cell_type": "markdown",
      "metadata": {
        "id": "m2KGZzFUtavf"
      },
      "source": [
        "### **• Print value of any one feature and it's label**"
      ]
    },
    {
      "cell_type": "code",
      "metadata": {
        "colab": {
          "base_uri": "https://localhost:8080/"
        },
        "id": "en2QPxPMtThk",
        "outputId": "dbe5963e-8ce7-4ef8-bc3e-295b56ac98b3"
      },
      "source": [
        "X_train[0]"
      ],
      "execution_count": 8,
      "outputs": [
        {
          "output_type": "execute_result",
          "data": {
            "text/plain": [
              "array([  65,   16,   38, 1334,   88,   12,   16,  283,    5,   16, 4472,\n",
              "        113,  103,   32,   15,   16, 5345,   19,  178,   32], dtype=int32)"
            ]
          },
          "metadata": {
            "tags": []
          },
          "execution_count": 8
        }
      ]
    },
    {
      "cell_type": "code",
      "metadata": {
        "colab": {
          "base_uri": "https://localhost:8080/"
        },
        "id": "z54L3l_-tn9B",
        "outputId": "71017992-f452-432c-c99e-bb04803c2c12"
      },
      "source": [
        "y_train[0]"
      ],
      "execution_count": 9,
      "outputs": [
        {
          "output_type": "execute_result",
          "data": {
            "text/plain": [
              "1"
            ]
          },
          "metadata": {
            "tags": []
          },
          "execution_count": 9
        }
      ]
    },
    {
      "cell_type": "markdown",
      "metadata": {
        "id": "Jq5j7KX4t3aU"
      },
      "source": [
        "## **4. Decode the feature value to get original sentence**"
      ]
    },
    {
      "cell_type": "code",
      "metadata": {
        "id": "56t8C4yattl_",
        "colab": {
          "base_uri": "https://localhost:8080/"
        },
        "outputId": "27c56826-e653-4bf7-db18-814c9304bf5e"
      },
      "source": [
        "word_index = imdb.get_word_index()\n",
        "word_index = {k:(v+3) for k,v in word_index.items()} \n",
        "word_index[\"<PAD>\"] = 0\n",
        "word_index[\"<START>\"] = 1\n",
        "word_index[\"<UNK>\"] = 2 \n",
        "word_index[\"<UNUSED>\"] = 3\n",
        "reverse_word_index = dict([(value, key) for (key, value) in word_index.items()])\n",
        "def decode_review(text):\n",
        "    return ' '.join([reverse_word_index.get(i, '?') for i in text])"
      ],
      "execution_count": 10,
      "outputs": [
        {
          "output_type": "stream",
          "text": [
            "Downloading data from https://storage.googleapis.com/tensorflow/tf-keras-datasets/imdb_word_index.json\n",
            "1646592/1641221 [==============================] - 0s 0us/step\n"
          ],
          "name": "stdout"
        }
      ]
    },
    {
      "cell_type": "code",
      "metadata": {
        "colab": {
          "base_uri": "https://localhost:8080/",
          "height": 35
        },
        "id": "0Wh9s-eSuHid",
        "outputId": "1ecb6113-8275-4a89-a02c-ad9c6974ec2a"
      },
      "source": [
        "decode_review(X_train[0])"
      ],
      "execution_count": 11,
      "outputs": [
        {
          "output_type": "execute_result",
          "data": {
            "application/vnd.google.colaboratory.intrinsic+json": {
              "type": "string"
            },
            "text/plain": [
              "\"story was so lovely because it was true and was someone's life after all that was shared with us all\""
            ]
          },
          "metadata": {
            "tags": []
          },
          "execution_count": 11
        }
      ]
    },
    {
      "cell_type": "code",
      "metadata": {
        "colab": {
          "base_uri": "https://localhost:8080/",
          "height": 35
        },
        "id": "JhEfPa5uuPBy",
        "outputId": "46beb70e-e060-4ea8-d4b7-1141d056ab0a"
      },
      "source": [
        "decode_review(X_train[1])"
      ],
      "execution_count": 12,
      "outputs": [
        {
          "output_type": "execute_result",
          "data": {
            "application/vnd.google.colaboratory.intrinsic+json": {
              "type": "string"
            },
            "text/plain": [
              "\"on the disaster that was the 80's and have a good old laugh at how bad everything was back then\""
            ]
          },
          "metadata": {
            "tags": []
          },
          "execution_count": 12
        }
      ]
    },
    {
      "cell_type": "code",
      "metadata": {
        "colab": {
          "base_uri": "https://localhost:8080/",
          "height": 35
        },
        "id": "z4nK8TVTtuBm",
        "outputId": "a5e1c5df-e282-4d7b-a4ea-2c85b3f7e7d5"
      },
      "source": [
        "decode_review(X_train[3])"
      ],
      "execution_count": 13,
      "outputs": [
        {
          "output_type": "execute_result",
          "data": {
            "application/vnd.google.colaboratory.intrinsic+json": {
              "type": "string"
            },
            "text/plain": [
              "'of storytelling and the age old question of whether there are some truths that cannot be told but only experienced'"
            ]
          },
          "metadata": {
            "tags": []
          },
          "execution_count": 13
        }
      ]
    },
    {
      "cell_type": "markdown",
      "metadata": {
        "id": "BOMrCByQu0G3"
      },
      "source": [
        "## **5. Design, train, tune and test a sequential model.** "
      ]
    },
    {
      "cell_type": "markdown",
      "metadata": {
        "id": "3rn_dHM75lOj"
      },
      "source": [
        "### **neural network architecture using embedding and LSTM layers.**"
      ]
    },
    {
      "cell_type": "code",
      "metadata": {
        "colab": {
          "base_uri": "https://localhost:8080/"
        },
        "id": "YV6YNTjk9u9N",
        "outputId": "c7f78623-40f5-4910-c26a-9902d30c2d4d"
      },
      "source": [
        "from tensorflow.keras.layers import Embedding, LSTM, Dense, Dropout, Flatten\n",
        "model = Sequential()\n",
        "model.add(Embedding(num_words, embedding_size, input_length = maxlen ))\n",
        "model.add(LSTM(128, return_sequences =True))\n",
        "\n",
        "model.add(Flatten())\n",
        "\n",
        "model.add(Dense(16, activation='relu'))\n",
        "model.add(Dropout(0.2))\n",
        "model.add(Dense(1, activation='sigmoid'))\n",
        "model.summary()"
      ],
      "execution_count": 14,
      "outputs": [
        {
          "output_type": "stream",
          "text": [
            "Model: \"sequential\"\n",
            "_________________________________________________________________\n",
            "Layer (type)                 Output Shape              Param #   \n",
            "=================================================================\n",
            "embedding (Embedding)        (None, 20, 50)            500000    \n",
            "_________________________________________________________________\n",
            "lstm (LSTM)                  (None, 20, 128)           91648     \n",
            "_________________________________________________________________\n",
            "flatten (Flatten)            (None, 2560)              0         \n",
            "_________________________________________________________________\n",
            "dense (Dense)                (None, 16)                40976     \n",
            "_________________________________________________________________\n",
            "dropout (Dropout)            (None, 16)                0         \n",
            "_________________________________________________________________\n",
            "dense_1 (Dense)              (None, 1)                 17        \n",
            "=================================================================\n",
            "Total params: 632,641\n",
            "Trainable params: 632,641\n",
            "Non-trainable params: 0\n",
            "_________________________________________________________________\n"
          ],
          "name": "stdout"
        }
      ]
    },
    {
      "cell_type": "code",
      "metadata": {
        "id": "of48BHJh-RUu"
      },
      "source": [
        "model.compile(optimizer='adam',loss='binary_crossentropy',metrics=['accuracy'])"
      ],
      "execution_count": 15,
      "outputs": []
    },
    {
      "cell_type": "code",
      "metadata": {
        "colab": {
          "base_uri": "https://localhost:8080/"
        },
        "id": "tqY5mAjN-oEW",
        "outputId": "be97f513-7816-4e98-c91b-244f08025c0b"
      },
      "source": [
        "history = model.fit(X_train, y_train, validation_data=(X_test,y_test), epochs =20 , batch_size=100)"
      ],
      "execution_count": 16,
      "outputs": [
        {
          "output_type": "stream",
          "text": [
            "Epoch 1/20\n",
            "250/250 [==============================] - 23s 84ms/step - loss: 0.6154 - accuracy: 0.6310 - val_loss: 0.4790 - val_accuracy: 0.7650\n",
            "Epoch 2/20\n",
            "250/250 [==============================] - 20s 80ms/step - loss: 0.4018 - accuracy: 0.8220 - val_loss: 0.4896 - val_accuracy: 0.7656\n",
            "Epoch 3/20\n",
            "250/250 [==============================] - 20s 82ms/step - loss: 0.3154 - accuracy: 0.8606 - val_loss: 0.5246 - val_accuracy: 0.7561\n",
            "Epoch 4/20\n",
            "250/250 [==============================] - 20s 82ms/step - loss: 0.2444 - accuracy: 0.8922 - val_loss: 0.6410 - val_accuracy: 0.7512\n",
            "Epoch 5/20\n",
            "250/250 [==============================] - 20s 82ms/step - loss: 0.1795 - accuracy: 0.9223 - val_loss: 0.9045 - val_accuracy: 0.7385\n",
            "Epoch 6/20\n",
            "250/250 [==============================] - 21s 83ms/step - loss: 0.1286 - accuracy: 0.9443 - val_loss: 1.0812 - val_accuracy: 0.7393\n",
            "Epoch 7/20\n",
            "250/250 [==============================] - 20s 82ms/step - loss: 0.0974 - accuracy: 0.9582 - val_loss: 1.2065 - val_accuracy: 0.7308\n",
            "Epoch 8/20\n",
            "250/250 [==============================] - 20s 81ms/step - loss: 0.0767 - accuracy: 0.9684 - val_loss: 1.4048 - val_accuracy: 0.7319\n",
            "Epoch 9/20\n",
            "250/250 [==============================] - 20s 80ms/step - loss: 0.0581 - accuracy: 0.9769 - val_loss: 1.5581 - val_accuracy: 0.7316\n",
            "Epoch 10/20\n",
            "250/250 [==============================] - 20s 80ms/step - loss: 0.0455 - accuracy: 0.9817 - val_loss: 1.6146 - val_accuracy: 0.7235\n",
            "Epoch 11/20\n",
            "250/250 [==============================] - 20s 81ms/step - loss: 0.0364 - accuracy: 0.9860 - val_loss: 1.8150 - val_accuracy: 0.7145\n",
            "Epoch 12/20\n",
            "250/250 [==============================] - 20s 80ms/step - loss: 0.0268 - accuracy: 0.9905 - val_loss: 1.8921 - val_accuracy: 0.7221\n",
            "Epoch 13/20\n",
            "250/250 [==============================] - 20s 80ms/step - loss: 0.0196 - accuracy: 0.9933 - val_loss: 2.0637 - val_accuracy: 0.7261\n",
            "Epoch 14/20\n",
            "250/250 [==============================] - 20s 81ms/step - loss: 0.0156 - accuracy: 0.9949 - val_loss: 2.1071 - val_accuracy: 0.7222\n",
            "Epoch 15/20\n",
            "250/250 [==============================] - 20s 82ms/step - loss: 0.0153 - accuracy: 0.9951 - val_loss: 2.2087 - val_accuracy: 0.7269\n",
            "Epoch 16/20\n",
            "250/250 [==============================] - 20s 81ms/step - loss: 0.0130 - accuracy: 0.9952 - val_loss: 2.1191 - val_accuracy: 0.7248\n",
            "Epoch 17/20\n",
            "250/250 [==============================] - 20s 81ms/step - loss: 0.0122 - accuracy: 0.9962 - val_loss: 2.2601 - val_accuracy: 0.7180\n",
            "Epoch 18/20\n",
            "250/250 [==============================] - 20s 81ms/step - loss: 0.0118 - accuracy: 0.9962 - val_loss: 2.4563 - val_accuracy: 0.7254\n",
            "Epoch 19/20\n",
            "250/250 [==============================] - 20s 78ms/step - loss: 0.0102 - accuracy: 0.9969 - val_loss: 2.4864 - val_accuracy: 0.7244\n",
            "Epoch 20/20\n",
            "250/250 [==============================] - 20s 78ms/step - loss: 0.0059 - accuracy: 0.9980 - val_loss: 2.4949 - val_accuracy: 0.7259\n"
          ],
          "name": "stdout"
        }
      ]
    },
    {
      "cell_type": "code",
      "metadata": {
        "colab": {
          "base_uri": "https://localhost:8080/"
        },
        "id": "-nftn-KyJ5l0",
        "outputId": "513b1b7a-3e1a-4f7d-fdad-a6b5ed378685"
      },
      "source": [
        "test_loss, test_acc = model.evaluate(X_test, y_test)\n",
        "print(test_acc)"
      ],
      "execution_count": 17,
      "outputs": [
        {
          "output_type": "stream",
          "text": [
            "782/782 [==============================] - 7s 9ms/step - loss: 2.4949 - accuracy: 0.7259\n",
            "0.7259200215339661\n"
          ],
          "name": "stdout"
        }
      ]
    },
    {
      "cell_type": "code",
      "metadata": {
        "colab": {
          "base_uri": "https://localhost:8080/",
          "height": 295
        },
        "id": "TpT_hfR15x7B",
        "outputId": "99393f23-392f-4f9c-a908-2aa472b7c353"
      },
      "source": [
        "%matplotlib inline\n",
        "import matplotlib.pyplot as plt\n",
        "\n",
        "plt.plot(history.history['accuracy'])\n",
        "plt.plot(history.history['val_accuracy'])\n",
        "plt.title('Training and Validation accuracy')\n",
        "plt.xlabel('Epoch')\n",
        "plt.ylabel('Accuracy')\n",
        "plt.legend(['Training', 'Validation'], loc='best')\n",
        "plt.grid(True)"
      ],
      "execution_count": 18,
      "outputs": [
        {
          "output_type": "display_data",
          "data": {
            "image/png": "[encoded data removed]",
            "text/plain": [
              "<Figure size 432x288 with 1 Axes>"
            ]
          },
          "metadata": {
            "tags": [],
            "needs_background": "light"
          }
        }
      ]
    },
    {
      "cell_type": "code",
      "metadata": {
        "colab": {
          "base_uri": "https://localhost:8080/",
          "height": 295
        },
        "id": "f0CpX0i7SLBK",
        "outputId": "a8625851-c43e-4d47-e5d5-5ef755d31a1a"
      },
      "source": [
        "loss = history.history['loss']\n",
        "val_loss = history.history['val_loss']\n",
        "epochs = range(1, len(loss) + 1)\n",
        "plt.plot(epochs, loss, 'y', label='Training loss')\n",
        "plt.plot(epochs, val_loss, 'r', label='Validation loss')\n",
        "plt.title('Training and validation loss')\n",
        "plt.xlabel('Epochs')\n",
        "plt.ylabel('Loss')\n",
        "plt.legend()\n",
        "plt.show()"
      ],
      "execution_count": 19,
      "outputs": [
        {
          "output_type": "display_data",
          "data": {
            "image/png": "[encoded data removed]",
            "text/plain": [
              "<Figure size 432x288 with 1 Axes>"
            ]
          },
          "metadata": {
            "tags": [],
            "needs_background": "light"
          }
        }
      ]
    },
    {
      "cell_type": "markdown",
      "metadata": {
        "id": "3k8-Lk5YKgg-"
      },
      "source": [
        "## **6. Use the designed model to print the prediction on any one sample.**"
      ]
    },
    {
      "cell_type": "code",
      "metadata": {
        "colab": {
          "base_uri": "https://localhost:8080/"
        },
        "id": "MXEzTCdaKEZt",
        "outputId": "c4e75f28-f5a2-4466-85b8-d3aa333fed1b"
      },
      "source": [
        "predict=model.predict_classes(X_test)"
      ],
      "execution_count": 20,
      "outputs": [
        {
          "output_type": "stream",
          "text": [
            "/usr/local/lib/python3.7/dist-packages/tensorflow/python/keras/engine/sequential.py:450: UserWarning: `model.predict_classes()` is deprecated and will be removed after 2021-01-01. Please use instead:* `np.argmax(model.predict(x), axis=-1)`,   if your model does multi-class classification   (e.g. if it uses a `softmax` last-layer activation).* `(model.predict(x) > 0.5).astype(\"int32\")`,   if your model does binary classification   (e.g. if it uses a `sigmoid` last-layer activation).\n",
            "  warnings.warn('`model.predict_classes()` is deprecated and '\n"
          ],
          "name": "stderr"
        }
      ]
    },
    {
      "cell_type": "code",
      "metadata": {
        "id": "3u64R-Q_6Uff"
      },
      "source": [
        "predict_classes=predict.reshape(len(X_test))"
      ],
      "execution_count": 21,
      "outputs": []
    },
    {
      "cell_type": "code",
      "metadata": {
        "id": "thOxzY9JL--i"
      },
      "source": [
        "SentimentDict={1:'positive', 0:'negative'}\n",
        "\n",
        "def display_test_sentiment(i):\n",
        "    print(decode_review(X_test[i]))\n",
        "    print(200* '-')\n",
        "    print('label: ', SentimentDict[y_test[i]], ', prediction: ', SentimentDict[predict_classes[i]])"
      ],
      "execution_count": 22,
      "outputs": []
    },
    {
      "cell_type": "code",
      "metadata": {
        "colab": {
          "base_uri": "https://localhost:8080/"
        },
        "id": "bUGy3tmqMqyW",
        "outputId": "3d9a7b9b-f86a-4f1a-af8c-f530e0b407e9"
      },
      "source": [
        "display_test_sentiment(1)"
      ],
      "execution_count": 23,
      "outputs": [
        {
          "output_type": "stream",
          "text": [
            "br br unfortunately it's very difficult to find in video stores you may have to buy it off the internet\n",
            "--------------------------------------------------------------------------------------------------------------------------------------------------------------------------------------------------------\n",
            "label:  positive , prediction:  positive\n"
          ],
          "name": "stdout"
        }
      ]
    },
    {
      "cell_type": "code",
      "metadata": {
        "colab": {
          "base_uri": "https://localhost:8080/"
        },
        "id": "8chCBxRXP45V",
        "outputId": "ec112934-a2e4-495f-98fa-c80d1f33ac39"
      },
      "source": [
        "display_test_sentiment(5)"
      ],
      "execution_count": 24,
      "outputs": [
        {
          "output_type": "stream",
          "text": [
            "movie doesn't deserve a cheap <UNK> it deserves the real thing i'm them now this movie will be on dvd\n",
            "--------------------------------------------------------------------------------------------------------------------------------------------------------------------------------------------------------\n",
            "label:  positive , prediction:  negative\n"
          ],
          "name": "stdout"
        }
      ]
    },
    {
      "cell_type": "code",
      "metadata": {
        "colab": {
          "base_uri": "https://localhost:8080/"
        },
        "id": "QIY3rIJiQpYC",
        "outputId": "e2d5693c-d3a8-4348-988a-fc4093af322e"
      },
      "source": [
        "display_test_sentiment(0)"
      ],
      "execution_count": 25,
      "outputs": [
        {
          "output_type": "stream",
          "text": [
            "wasn't going to work out and his performance was quite <UNK> so all you madison fans give this a miss\n",
            "--------------------------------------------------------------------------------------------------------------------------------------------------------------------------------------------------------\n",
            "label:  negative , prediction:  negative\n"
          ],
          "name": "stdout"
        }
      ]
    },
    {
      "cell_type": "markdown",
      "metadata": {
        "id": "kxhWx44Jut6L"
      },
      "source": [
        "## **Tried other models to check the performance**"
      ]
    },
    {
      "cell_type": "markdown",
      "metadata": {
        "id": "4Z3ZpDwsTsYe"
      },
      "source": [
        "# **IMDB Dataset predicion by using One-Dimensional Convolutional Neural Network Model**"
      ]
    },
    {
      "cell_type": "code",
      "metadata": {
        "colab": {
          "base_uri": "https://localhost:8080/"
        },
        "id": "VicukiLLSj7K",
        "outputId": "dd7f73cc-4234-4c00-b5d2-ff21f3469324"
      },
      "source": [
        "from keras.layers.convolutional import Conv1D\n",
        "from keras.layers.convolutional import MaxPooling1D\n",
        "model1 = Sequential()\n",
        "model1.add(Embedding(num_words, embedding_size, input_length = maxlen ))\n",
        "model1.add(Conv1D(filters=32, kernel_size=3, padding='same', activation='relu'))\n",
        "model1.add(MaxPooling1D(pool_size=2))\n",
        "model1.add(Flatten())\n",
        "model1.add(Dense(250, activation='relu'))\n",
        "model1.add(Dense(1, activation='sigmoid'))\n",
        "model1.compile(loss='binary_crossentropy', optimizer='adam', metrics=['accuracy'])\n",
        "model1.summary()"
      ],
      "execution_count": 26,
      "outputs": [
        {
          "output_type": "stream",
          "text": [
            "Model: \"sequential_1\"\n",
            "_________________________________________________________________\n",
            "Layer (type)                 Output Shape              Param #   \n",
            "=================================================================\n",
            "embedding_1 (Embedding)      (None, 20, 50)            500000    \n",
            "_________________________________________________________________\n",
            "conv1d (Conv1D)              (None, 20, 32)            4832      \n",
            "_________________________________________________________________\n",
            "max_pooling1d (MaxPooling1D) (None, 10, 32)            0         \n",
            "_________________________________________________________________\n",
            "flatten_1 (Flatten)          (None, 320)               0         \n",
            "_________________________________________________________________\n",
            "dense_2 (Dense)              (None, 250)               80250     \n",
            "_________________________________________________________________\n",
            "dense_3 (Dense)              (None, 1)                 251       \n",
            "=================================================================\n",
            "Total params: 585,333\n",
            "Trainable params: 585,333\n",
            "Non-trainable params: 0\n",
            "_________________________________________________________________\n"
          ],
          "name": "stdout"
        }
      ]
    },
    {
      "cell_type": "code",
      "metadata": {
        "colab": {
          "base_uri": "https://localhost:8080/"
        },
        "id": "o2pcJdd9SoRH",
        "outputId": "14e348df-9433-41fb-f659-3ab7ec5792a0"
      },
      "source": [
        "model1.fit(X_train, y_train, validation_data=(X_test, y_test), epochs=10, batch_size=128, verbose=2)"
      ],
      "execution_count": 27,
      "outputs": [
        {
          "output_type": "stream",
          "text": [
            "Epoch 1/10\n",
            "196/196 - 4s - loss: 0.5699 - accuracy: 0.6805 - val_loss: 0.4743 - val_accuracy: 0.7668\n",
            "Epoch 2/10\n",
            "196/196 - 3s - loss: 0.3671 - accuracy: 0.8341 - val_loss: 0.4881 - val_accuracy: 0.7652\n",
            "Epoch 3/10\n",
            "196/196 - 3s - loss: 0.2059 - accuracy: 0.9209 - val_loss: 0.5975 - val_accuracy: 0.7496\n",
            "Epoch 4/10\n",
            "196/196 - 3s - loss: 0.0656 - accuracy: 0.9806 - val_loss: 0.8899 - val_accuracy: 0.7442\n",
            "Epoch 5/10\n",
            "196/196 - 3s - loss: 0.0149 - accuracy: 0.9975 - val_loss: 1.0841 - val_accuracy: 0.7424\n",
            "Epoch 6/10\n",
            "196/196 - 3s - loss: 0.0033 - accuracy: 0.9998 - val_loss: 1.1995 - val_accuracy: 0.7458\n",
            "Epoch 7/10\n",
            "196/196 - 3s - loss: 0.0014 - accuracy: 1.0000 - val_loss: 1.2818 - val_accuracy: 0.7472\n",
            "Epoch 8/10\n",
            "196/196 - 3s - loss: 0.0012 - accuracy: 0.9999 - val_loss: 1.3317 - val_accuracy: 0.7478\n",
            "Epoch 9/10\n",
            "196/196 - 3s - loss: 0.0013 - accuracy: 0.9999 - val_loss: 1.3645 - val_accuracy: 0.7472\n",
            "Epoch 10/10\n",
            "196/196 - 3s - loss: 0.0012 - accuracy: 0.9999 - val_loss: 1.4053 - val_accuracy: 0.7474\n"
          ],
          "name": "stdout"
        },
        {
          "output_type": "execute_result",
          "data": {
            "text/plain": [
              "<tensorflow.python.keras.callbacks.History at 0x7feb35489410>"
            ]
          },
          "metadata": {
            "tags": []
          },
          "execution_count": 27
        }
      ]
    },
    {
      "cell_type": "code",
      "metadata": {
        "colab": {
          "base_uri": "https://localhost:8080/"
        },
        "id": "r9e1VSc9TNv1",
        "outputId": "f4bf12f9-9ed6-4735-bc57-7eb38dd6a7bc"
      },
      "source": [
        "test_loss_model1, test_acc_model1 = model1.evaluate(X_test, y_test)"
      ],
      "execution_count": 28,
      "outputs": [
        {
          "output_type": "stream",
          "text": [
            "782/782 [==============================] - 1s 2ms/step - loss: 1.4053 - accuracy: 0.7474\n"
          ],
          "name": "stdout"
        }
      ]
    },
    {
      "cell_type": "code",
      "metadata": {
        "colab": {
          "base_uri": "https://localhost:8080/"
        },
        "id": "LX_XuKbPTg99",
        "outputId": "afab654c-70bd-4305-a311-2938ab952d45"
      },
      "source": [
        "print(test_acc_model1)"
      ],
      "execution_count": 29,
      "outputs": [
        {
          "output_type": "stream",
          "text": [
            "0.7473599910736084\n"
          ],
          "name": "stdout"
        }
      ]
    },
    {
      "cell_type": "markdown",
      "metadata": {
        "id": "x16TNpdOV-T1"
      },
      "source": [
        "# **Simple Multi-Layer Model for the IMDB Dataset**"
      ]
    },
    {
      "cell_type": "code",
      "metadata": {
        "id": "HuapDWV5Tlvi"
      },
      "source": [
        "model2 = Sequential()\n",
        "model2.add(Embedding(num_words, embedding_size, input_length = maxlen ))\n",
        "model2.add(GlobalAveragePooling1D())\n",
        "model2.add(Dense(16, activation='relu'))\n",
        "model2.add(Dense(1, activation='sigmoid'))\n",
        "\n",
        "model2.compile(optimizer='adam',loss='binary_crossentropy',metrics=['accuracy'])"
      ],
      "execution_count": 30,
      "outputs": []
    },
    {
      "cell_type": "code",
      "metadata": {
        "colab": {
          "base_uri": "https://localhost:8080/"
        },
        "id": "b0vfXJbtVX43",
        "outputId": "e04e091d-3167-4887-c705-b94aaeb84f02"
      },
      "source": [
        "model2.summary()"
      ],
      "execution_count": 31,
      "outputs": [
        {
          "output_type": "stream",
          "text": [
            "Model: \"sequential_2\"\n",
            "_________________________________________________________________\n",
            "Layer (type)                 Output Shape              Param #   \n",
            "=================================================================\n",
            "embedding_2 (Embedding)      (None, 20, 50)            500000    \n",
            "_________________________________________________________________\n",
            "global_average_pooling1d (Gl (None, 50)                0         \n",
            "_________________________________________________________________\n",
            "dense_4 (Dense)              (None, 16)                816       \n",
            "_________________________________________________________________\n",
            "dense_5 (Dense)              (None, 1)                 17        \n",
            "=================================================================\n",
            "Total params: 500,833\n",
            "Trainable params: 500,833\n",
            "Non-trainable params: 0\n",
            "_________________________________________________________________\n"
          ],
          "name": "stdout"
        }
      ]
    },
    {
      "cell_type": "code",
      "metadata": {
        "colab": {
          "base_uri": "https://localhost:8080/"
        },
        "id": "96L03YtuVkO0",
        "outputId": "aa81734c-049e-4d42-9513-71d6e61ed293"
      },
      "source": [
        " model2.fit(X_train, y_train, validation_data=(X_test,y_test), epochs =10 , batch_size=100)"
      ],
      "execution_count": 32,
      "outputs": [
        {
          "output_type": "stream",
          "text": [
            "Epoch 1/10\n",
            "250/250 [==============================] - 3s 10ms/step - loss: 0.6591 - accuracy: 0.6517 - val_loss: 0.5014 - val_accuracy: 0.7567\n",
            "Epoch 2/10\n",
            "250/250 [==============================] - 2s 9ms/step - loss: 0.4424 - accuracy: 0.8020 - val_loss: 0.4786 - val_accuracy: 0.7695\n",
            "Epoch 3/10\n",
            "250/250 [==============================] - 2s 9ms/step - loss: 0.3728 - accuracy: 0.8425 - val_loss: 0.4962 - val_accuracy: 0.7639\n",
            "Epoch 4/10\n",
            "250/250 [==============================] - 2s 9ms/step - loss: 0.3476 - accuracy: 0.8528 - val_loss: 0.5204 - val_accuracy: 0.7602\n",
            "Epoch 5/10\n",
            "250/250 [==============================] - 2s 9ms/step - loss: 0.3121 - accuracy: 0.8734 - val_loss: 0.5441 - val_accuracy: 0.7545\n",
            "Epoch 6/10\n",
            "250/250 [==============================] - 2s 9ms/step - loss: 0.3040 - accuracy: 0.8759 - val_loss: 0.5721 - val_accuracy: 0.7485\n",
            "Epoch 7/10\n",
            "250/250 [==============================] - 2s 9ms/step - loss: 0.2870 - accuracy: 0.8853 - val_loss: 0.6020 - val_accuracy: 0.7472\n",
            "Epoch 8/10\n",
            "250/250 [==============================] - 2s 9ms/step - loss: 0.2784 - accuracy: 0.8897 - val_loss: 0.6263 - val_accuracy: 0.7430\n",
            "Epoch 9/10\n",
            "250/250 [==============================] - 2s 9ms/step - loss: 0.2589 - accuracy: 0.9000 - val_loss: 0.6459 - val_accuracy: 0.7406\n",
            "Epoch 10/10\n",
            "250/250 [==============================] - 2s 9ms/step - loss: 0.2561 - accuracy: 0.9013 - val_loss: 0.6706 - val_accuracy: 0.7391\n"
          ],
          "name": "stdout"
        },
        {
          "output_type": "execute_result",
          "data": {
            "text/plain": [
              "<tensorflow.python.keras.callbacks.History at 0x7feb352e4210>"
            ]
          },
          "metadata": {
            "tags": []
          },
          "execution_count": 32
        }
      ]
    },
    {
      "cell_type": "code",
      "metadata": {
        "colab": {
          "base_uri": "https://localhost:8080/"
        },
        "id": "aGSjFF8VVxca",
        "outputId": "ddf08046-29c5-4c3e-d911-08b0db3a4702"
      },
      "source": [
        "test_loss_model2, test_acc_model2 = model2.evaluate(X_test, y_test)"
      ],
      "execution_count": 33,
      "outputs": [
        {
          "output_type": "stream",
          "text": [
            "782/782 [==============================] - 1s 1ms/step - loss: 0.6706 - accuracy: 0.7391\n"
          ],
          "name": "stdout"
        }
      ]
    },
    {
      "cell_type": "code",
      "metadata": {
        "colab": {
          "base_uri": "https://localhost:8080/"
        },
        "id": "AbH8g0ueV3Fu",
        "outputId": "200d2b57-36ab-45dc-a6a2-5b5045971f65"
      },
      "source": [
        "print(test_acc_model2)"
      ],
      "execution_count": 34,
      "outputs": [
        {
          "output_type": "stream",
          "text": [
            "0.7391200065612793\n"
          ],
          "name": "stdout"
        }
      ]
    },
    {
      "cell_type": "code",
      "metadata": {
        "colab": {
          "base_uri": "https://localhost:8080/",
          "height": 142
        },
        "id": "_uca1E9nV5Nw",
        "outputId": "d52ca803-20d8-497e-fe82-2682d9d2f420"
      },
      "source": [
        "compare = [[test_acc],[test_acc_model1],[test_acc_model2]]\n",
        "pd.DataFrame(compare, columns= ['Accuracy'], index = ['LSTM','CONV1D','Simple Multi-Layer Model'])"
      ],
      "execution_count": 35,
      "outputs": [
        {
          "output_type": "execute_result",
          "data": {
            "text/html": [
              "<div>\n",
              "<style scoped>\n",
              "    .dataframe tbody tr th:only-of-type {\n",
              "        vertical-align: middle;\n",
              "    }\n",
              "\n",
              "    .dataframe tbody tr th {\n",
              "        vertical-align: top;\n",
              "    }\n",
              "\n",
              "    .dataframe thead th {\n",
              "        text-align: right;\n",
              "    }\n",
              "</style>\n",
              "<table border=\"1\" class=\"dataframe\">\n",
              "  <thead>\n",
              "    <tr style=\"text-align: right;\">\n",
              "      <th></th>\n",
              "      <th>Accuracy</th>\n",
              "    </tr>\n",
              "  </thead>\n",
              "  <tbody>\n",
              "    <tr>\n",
              "      <th>LSTM</th>\n",
              "      <td>0.72592</td>\n",
              "    </tr>\n",
              "    <tr>\n",
              "      <th>CONV1D</th>\n",
              "      <td>0.74736</td>\n",
              "    </tr>\n",
              "    <tr>\n",
              "      <th>Simple Multi-Layer Model</th>\n",
              "      <td>0.73912</td>\n",
              "    </tr>\n",
              "  </tbody>\n",
              "</table>\n",
              "</div>"
            ],
            "text/plain": [
              "                          Accuracy\n",
              "LSTM                       0.72592\n",
              "CONV1D                     0.74736\n",
              "Simple Multi-Layer Model   0.73912"
            ]
          },
          "metadata": {
            "tags": []
          },
          "execution_count": 35
        }
      ]
    },
    {
      "cell_type": "code",
      "metadata": {
        "id": "C_-TaCZoD_DM"
      },
      "source": [
        ""
      ],
      "execution_count": 35,
      "outputs": []
    }
  ]
}